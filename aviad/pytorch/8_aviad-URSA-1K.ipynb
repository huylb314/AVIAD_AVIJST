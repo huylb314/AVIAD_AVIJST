{
 "cells": [
  {
   "cell_type": "code",
   "execution_count": 1,
   "metadata": {},
   "outputs": [],
   "source": [
    "%load_ext autoreload\n",
    "%autoreload 2\n",
    "\n",
    "%matplotlib inline"
   ]
  },
  {
   "cell_type": "code",
   "execution_count": 2,
   "metadata": {},
   "outputs": [],
   "source": [
    "import scipy as sp\n",
    "import numpy as np\n",
    "import pandas as pd\n",
    "import matplotlib.pyplot as plt\n",
    "import warnings\n",
    "import seaborn as sns\n",
    "\n",
    "from collections import defaultdict\n",
    "from itertools import groupby\n",
    "from sklearn import datasets\n",
    "from numpy import random\n",
    "from scipy.stats import dirichlet, norm, poisson"
   ]
  },
  {
   "cell_type": "code",
   "execution_count": 3,
   "metadata": {},
   "outputs": [],
   "source": [
    "# from keras.datasets import reuters, imdb"
   ]
  },
  {
   "cell_type": "code",
   "execution_count": 4,
   "metadata": {},
   "outputs": [],
   "source": [
    "import torch\n",
    "import torch.nn as nn\n",
    "import torch.nn.functional as F\n",
    "from torch.utils.data import Dataset"
   ]
  },
  {
   "cell_type": "code",
   "execution_count": 5,
   "metadata": {},
   "outputs": [],
   "source": [
    "import numpy as np\n",
    "import os"
   ]
  },
  {
   "cell_type": "code",
   "execution_count": 6,
   "metadata": {},
   "outputs": [],
   "source": [
    "from pathlib import Path\n",
    "from collections import OrderedDict\n",
    "import pickle, gzip, math, torch, matplotlib as mpl\n",
    "import matplotlib.pyplot as plt\n",
    "\n",
    "Path.ls = lambda x: list(x.iterdir())"
   ]
  },
  {
   "cell_type": "markdown",
   "metadata": {},
   "source": [
    "## URSA Datasets 1K "
   ]
  },
  {
   "cell_type": "code",
   "execution_count": 7,
   "metadata": {},
   "outputs": [],
   "source": [
    "folder_ds_path = Path('./data/User Review Structure Analysis (URSA)/')\n",
    "xml_path = (folder_ds_path/'Classified_Corpus.xml')\n",
    "ds_path = (folder_ds_path/'1k')\n",
    "sentence_npy_path = (folder_ds_path/'sentence.npy')\n",
    "vocab_pkl_path = (ds_path/'vocab.pkl')\n",
    "seed_words_path = (ds_path/'seed_words.txt')\n",
    "train_filename = (ds_path/'train.txt.npy')\n",
    "\n",
    "# log words not pass\n",
    "aspect_tags = ['Food', 'Staff', 'Ambience']\n",
    "polatiry_tags = ['Positive', 'Negative', 'Neutral']\n",
    "xml_review_tag = './/Review'\n",
    "log_np = [[], [], []]\n",
    "\n",
    "# length allowed sentences\n",
    "# length_allowed = [11, 7, 4]\n",
    "# min_freq_allowed = -1"
   ]
  },
  {
   "cell_type": "code",
   "execution_count": 8,
   "metadata": {},
   "outputs": [],
   "source": [
    "vocab2id = pickle.load(open(vocab_pkl_path, 'rb'))\n",
    "vocab_size=len(vocab2id)"
   ]
  },
  {
   "cell_type": "code",
   "execution_count": 9,
   "metadata": {},
   "outputs": [],
   "source": [
    "train_data = np.load((train_filename), allow_pickle=True)"
   ]
  },
  {
   "cell_type": "code",
   "execution_count": 10,
   "metadata": {},
   "outputs": [],
   "source": [
    "p_sentence_list, label_list = train_data[:, 0], train_data[:, 1]"
   ]
  },
  {
   "cell_type": "code",
   "execution_count": 11,
   "metadata": {},
   "outputs": [],
   "source": [
    "vocab = dict(map(reversed, vocab2id.items()))"
   ]
  },
  {
   "cell_type": "code",
   "execution_count": 12,
   "metadata": {},
   "outputs": [],
   "source": [
    "vocab_size = len(vocab)"
   ]
  },
  {
   "cell_type": "markdown",
   "metadata": {},
   "source": [
    "## Dataset"
   ]
  },
  {
   "cell_type": "code",
   "execution_count": 13,
   "metadata": {},
   "outputs": [],
   "source": [
    "from sklearn.model_selection import train_test_split"
   ]
  },
  {
   "cell_type": "code",
   "execution_count": 14,
   "metadata": {},
   "outputs": [],
   "source": [
    "x_, y_ = [], []\n",
    "for p_sentence, label_ in zip(p_sentence_list, label_list): \n",
    "    x_.append(p_sentence)\n",
    "    y_.append(label_)"
   ]
  },
  {
   "cell_type": "code",
   "execution_count": 15,
   "metadata": {},
   "outputs": [
    {
     "data": {
      "text/plain": [
       "True"
      ]
     },
     "execution_count": 15,
     "metadata": {},
     "output_type": "execute_result"
    }
   ],
   "source": [
    "len(x_) == len(y_)"
   ]
  },
  {
   "cell_type": "code",
   "execution_count": 16,
   "metadata": {},
   "outputs": [],
   "source": [
    "train_x, test_x, train_y, test_y =  train_test_split(\n",
    "    x_, y_, test_size=0.1, random_state=0)"
   ]
  },
  {
   "cell_type": "code",
   "execution_count": 17,
   "metadata": {},
   "outputs": [
    {
     "name": "stdout",
     "output_type": "stream",
     "text": [
      "Data Loaded\n",
      "Dim Training Data 3095 2772\n",
      "Dim Test Data 344 2772\n"
     ]
    }
   ],
   "source": [
    "print ('Data Loaded')\n",
    "print ('Dim Training Data',len(train_x), vocab_size)\n",
    "print ('Dim Test Data', len(test_x), vocab_size)"
   ]
  },
  {
   "cell_type": "markdown",
   "metadata": {},
   "source": [
    "## Constants"
   ]
  },
  {
   "cell_type": "code",
   "execution_count": 18,
   "metadata": {},
   "outputs": [],
   "source": [
    "bs = 200\n",
    "en1_units=100\n",
    "en2_units=100\n",
    "num_topic=3\n",
    "num_input=vocab_size\n",
    "variance=0.995\n",
    "init_mult=1.0\n",
    "learning_rate=0.0005\n",
    "batch_size=200\n",
    "momentum=0.99\n",
    "num_epoch=200\n",
    "nogpu=True\n",
    "drop_rate=0.6"
   ]
  },
  {
   "cell_type": "markdown",
   "metadata": {},
   "source": [
    "## Topic Model Utility Functions"
   ]
  },
  {
   "cell_type": "code",
   "execution_count": 19,
   "metadata": {},
   "outputs": [],
   "source": [
    "def read_file_seed_words(fn):\n",
    "    with open(fn, \"r\") as fr:\n",
    "        def p_string_sw(l):\n",
    "            return l.replace('\\n','').split(',')\n",
    "        rl = [p_string_sw(l) for l in fr]\n",
    "    return rl"
   ]
  },
  {
   "cell_type": "code",
   "execution_count": 20,
   "metadata": {},
   "outputs": [],
   "source": [
    "seed_words = read_file_seed_words(seed_words_path)"
   ]
  },
  {
   "cell_type": "markdown",
   "metadata": {},
   "source": [
    "## Toy Gamma"
   ]
  },
  {
   "cell_type": "code",
   "execution_count": 21,
   "metadata": {},
   "outputs": [
    {
     "name": "stdout",
     "output_type": "stream",
     "text": [
      "[['a'], ['c'], ['f']]\n"
     ]
    }
   ],
   "source": [
    "num_topic_toy = 3\n",
    "batch_size_toy = 2\n",
    "seed_words_toy = [['a'], ['c'], ['f']]\n",
    "print (seed_words_toy)"
   ]
  },
  {
   "cell_type": "code",
   "execution_count": 22,
   "metadata": {},
   "outputs": [],
   "source": [
    "vocab2id_toy = {'a': 0, 'b': 1, 'c': 2, 'd': 3, 'e': 4, 'f': 5}"
   ]
  },
  {
   "cell_type": "code",
   "execution_count": 23,
   "metadata": {},
   "outputs": [],
   "source": [
    "vocab_size_toy = len(vocab2id_toy)"
   ]
  },
  {
   "cell_type": "code",
   "execution_count": 24,
   "metadata": {},
   "outputs": [
    {
     "name": "stdout",
     "output_type": "stream",
     "text": [
      "[[0. 0. 0.]\n",
      " [0. 0. 0.]\n",
      " [0. 0. 0.]\n",
      " [0. 0. 0.]\n",
      " [0. 0. 0.]\n",
      " [0. 0. 0.]]\n"
     ]
    }
   ],
   "source": [
    "gamma_toy = np.zeros((vocab_size_toy, num_topic_toy))\n",
    "print (gamma_toy)"
   ]
  },
  {
   "cell_type": "code",
   "execution_count": 25,
   "metadata": {},
   "outputs": [
    {
     "name": "stdout",
     "output_type": "stream",
     "text": [
      "[[[0. 0. 0.]\n",
      "  [0. 0. 0.]\n",
      "  [0. 0. 0.]\n",
      "  [0. 0. 0.]\n",
      "  [0. 0. 0.]\n",
      "  [0. 0. 0.]]\n",
      "\n",
      " [[0. 0. 0.]\n",
      "  [0. 0. 0.]\n",
      "  [0. 0. 0.]\n",
      "  [0. 0. 0.]\n",
      "  [0. 0. 0.]\n",
      "  [0. 0. 0.]]]\n"
     ]
    }
   ],
   "source": [
    "gamma_bin_toy = np.zeros((batch_size_toy, vocab_size_toy, num_topic_toy))\n",
    "print (gamma_bin_toy)"
   ]
  },
  {
   "cell_type": "code",
   "execution_count": 26,
   "metadata": {},
   "outputs": [
    {
     "name": "stdout",
     "output_type": "stream",
     "text": [
      "k: 0\n",
      "idx: 0\n",
      "k: 1\n",
      "idx: 0\n",
      "k: 2\n",
      "idx: 0\n"
     ]
    }
   ],
   "source": [
    "for k in range(len(seed_words_toy)): # number of topics\n",
    "    print (\"k:\", k)\n",
    "    for idx in range(len(seed_words_toy[k])): # number of words\n",
    "        print (\"idx:\", idx)\n",
    "        ivocab = vocab2id_toy[seed_words_toy[k][idx]]\n",
    "        gamma_toy[ivocab, k] = 1.0\n",
    "        gamma_bin_toy[:, ivocab, :] = 1.0"
   ]
  },
  {
   "cell_type": "code",
   "execution_count": 27,
   "metadata": {},
   "outputs": [
    {
     "data": {
      "text/plain": [
       "(6, 3)"
      ]
     },
     "execution_count": 27,
     "metadata": {},
     "output_type": "execute_result"
    }
   ],
   "source": [
    "gamma_toy.shape"
   ]
  },
  {
   "cell_type": "code",
   "execution_count": 28,
   "metadata": {},
   "outputs": [
    {
     "data": {
      "text/plain": [
       "array([[1., 0., 0.],\n",
       "       [0., 0., 0.],\n",
       "       [0., 1., 0.],\n",
       "       [0., 0., 0.],\n",
       "       [0., 0., 0.],\n",
       "       [0., 0., 1.]])"
      ]
     },
     "execution_count": 28,
     "metadata": {},
     "output_type": "execute_result"
    }
   ],
   "source": [
    "gamma_toy"
   ]
  },
  {
   "cell_type": "code",
   "execution_count": 29,
   "metadata": {},
   "outputs": [
    {
     "data": {
      "text/plain": [
       "(2, 6, 3)"
      ]
     },
     "execution_count": 29,
     "metadata": {},
     "output_type": "execute_result"
    }
   ],
   "source": [
    "gamma_bin_toy.shape"
   ]
  },
  {
   "cell_type": "code",
   "execution_count": 30,
   "metadata": {},
   "outputs": [
    {
     "data": {
      "text/plain": [
       "array([[[1., 1., 1.],\n",
       "        [0., 0., 0.],\n",
       "        [1., 1., 1.],\n",
       "        [0., 0., 0.],\n",
       "        [0., 0., 0.],\n",
       "        [1., 1., 1.]],\n",
       "\n",
       "       [[1., 1., 1.],\n",
       "        [0., 0., 0.],\n",
       "        [1., 1., 1.],\n",
       "        [0., 0., 0.],\n",
       "        [0., 0., 0.],\n",
       "        [1., 1., 1.]]])"
      ]
     },
     "execution_count": 30,
     "metadata": {},
     "output_type": "execute_result"
    }
   ],
   "source": [
    "gamma_bin_toy"
   ]
  },
  {
   "cell_type": "code",
   "execution_count": 31,
   "metadata": {},
   "outputs": [
    {
     "data": {
      "text/plain": [
       "array([[[ True,  True,  True],\n",
       "        [False, False, False],\n",
       "        [ True,  True,  True],\n",
       "        [False, False, False],\n",
       "        [False, False, False],\n",
       "        [ True,  True,  True]],\n",
       "\n",
       "       [[ True,  True,  True],\n",
       "        [False, False, False],\n",
       "        [ True,  True,  True],\n",
       "        [False, False, False],\n",
       "        [False, False, False],\n",
       "        [ True,  True,  True]]])"
      ]
     },
     "execution_count": 31,
     "metadata": {},
     "output_type": "execute_result"
    }
   ],
   "source": [
    "(gamma_bin_toy == 1.) & (gamma_bin_toy == 1.) "
   ]
  },
  {
   "cell_type": "code",
   "execution_count": 32,
   "metadata": {},
   "outputs": [],
   "source": [
    "at = torch.tensor((gamma_bin_toy == 1.) & (gamma_bin_toy == 1.) )"
   ]
  },
  {
   "cell_type": "code",
   "execution_count": 33,
   "metadata": {
    "scrolled": true
   },
   "outputs": [
    {
     "data": {
      "text/plain": [
       "tensor([[[1., 1., 1.],\n",
       "         [0., 0., 0.],\n",
       "         [1., 1., 1.],\n",
       "         [0., 0., 0.],\n",
       "         [0., 0., 0.],\n",
       "         [1., 1., 1.]],\n",
       "\n",
       "        [[1., 1., 1.],\n",
       "         [0., 0., 0.],\n",
       "         [1., 1., 1.],\n",
       "         [0., 0., 0.],\n",
       "         [0., 0., 0.],\n",
       "         [1., 1., 1.]]])"
      ]
     },
     "execution_count": 33,
     "metadata": {},
     "output_type": "execute_result"
    }
   ],
   "source": [
    "at.int().float()"
   ]
  },
  {
   "cell_type": "code",
   "execution_count": 34,
   "metadata": {},
   "outputs": [
    {
     "data": {
      "text/plain": [
       "torch.Size([2, 6, 3])"
      ]
     },
     "execution_count": 34,
     "metadata": {},
     "output_type": "execute_result"
    }
   ],
   "source": [
    "at.int().shape"
   ]
  },
  {
   "cell_type": "code",
   "execution_count": 35,
   "metadata": {},
   "outputs": [
    {
     "data": {
      "text/plain": [
       "tensor([9, 9])"
      ]
     },
     "execution_count": 35,
     "metadata": {},
     "output_type": "execute_result"
    }
   ],
   "source": [
    "at.int().sum((1, 2))"
   ]
  },
  {
   "cell_type": "markdown",
   "metadata": {},
   "source": [
    "## Seed words"
   ]
  },
  {
   "cell_type": "code",
   "execution_count": 36,
   "metadata": {
    "scrolled": true
   },
   "outputs": [
    {
     "name": "stdout",
     "output_type": "stream",
     "text": [
      "[['food', 'sauc', 'chicken', 'shrimp', 'chees', 'potato', 'fri', 'tomato', 'roast', 'onion', 'pork', 'goat', 'grill', 'tuna', 'salad', 'beef', 'tapa'], ['staff', 'servic', 'friendli', 'rude', 'hostess', 'waiter', 'bartend', 'waitress', 'help', 'polit', 'bar', 'courteou', 'member', 'waitstaff', 'attitud', 'reserv', 'tip'], ['atmospher', 'scene', 'place', 'tabl', 'outsid', 'area', 'ambianc', 'outdoor', 'romant', 'cozi', 'decor', 'sit', 'wall', 'light', 'window', 'area', 'ceil', 'floor']]\n"
     ]
    }
   ],
   "source": [
    "print (seed_words)"
   ]
  },
  {
   "cell_type": "code",
   "execution_count": 37,
   "metadata": {},
   "outputs": [],
   "source": [
    "def setup_prior(fn, n_k=3):\n",
    "    gamma = torch.zeros((len(vocab),n_k))\n",
    "    gamma_bin = torch.zeros((1, len(vocab),n_k))\n",
    "\n",
    "    full_vocab = read_file_seed_words(fn)\n",
    "    for k in range(len(full_vocab)):\n",
    "        for idx in range(len(full_vocab[k])):\n",
    "            ivocab = vocab2id[full_vocab[k][idx]]\n",
    "            gamma[ivocab, k] = 1.0\n",
    "            gamma_bin[:, ivocab, :] = 1.0\n",
    "\n",
    "    return (gamma, gamma_bin)"
   ]
  },
  {
   "cell_type": "code",
   "execution_count": 38,
   "metadata": {},
   "outputs": [],
   "source": [
    "def listify(o):\n",
    "    if o is None: return []\n",
    "    if isinstance(o, list): return o\n",
    "    if isinstance(o, str): return [o]\n",
    "    if isinstance(o, Iterable): return list(o)\n",
    "    return [o]\n",
    "def setify(o): return o if isinstance(o,set) else set(listify(o))\n",
    "def compose(x, funcs, *args, order_key='_order', **kwargs):\n",
    "    key = lambda o: getattr(o, order_key, 0)\n",
    "    for f in sorted(listify(funcs), key=key): x = f(x, **kwargs)\n",
    "    return x"
   ]
  },
  {
   "cell_type": "code",
   "execution_count": 66,
   "metadata": {},
   "outputs": [],
   "source": [
    "def print_perp(model):\n",
    "    cost = []\n",
    "    model.eval()                        # switch to testing mode\n",
    "    for x_test, y_test in test_dl:\n",
    "        recon, loss = model(x_test, compute_loss=True, avg_loss=False)\n",
    "        loss = loss.data\n",
    "        counts = x_test.sum(1)\n",
    "        cost.extend((loss / counts).data.cpu().tolist())\n",
    "    print('The approximated perplexity is: ', (np.exp(np.mean(np.array(cost)))))\n",
    "\n",
    "def print_top_words(beta, feature_names, n_top_words=10):\n",
    "    print ('---------------Printing the Topics------------------')\n",
    "    for i in range(len(beta)):\n",
    "        line = \" \".join([feature_names[j] \n",
    "                         for j in beta[i].argsort()[:-n_top_words - 1:-1]])\n",
    "        print('{}'.format(line))\n",
    "    print ('---------------End of Topics------------------')\n",
    "    \n",
    "def print_gamma(gamma, seed_words, vocab, vocab2id):\n",
    "    sws = []        \n",
    "    for k in range(len(seed_words)):\n",
    "        for idx in range(len(seed_words[k])):\n",
    "            w = seed_words[k][idx]\n",
    "            sws.append((k, w))\n",
    "\n",
    "    for idx in range(len(sws)):\n",
    "        k, w = sws[idx]\n",
    "        ivocab = vocab2id[w]\n",
    "        mk = gamma[ivocab].argmax(-1)\n",
    "        print (ivocab, w, k, mk, gamma[ivocab])"
   ]
  },
  {
   "cell_type": "markdown",
   "metadata": {},
   "source": [
    "## Data Utility Functions"
   ]
  },
  {
   "cell_type": "code",
   "execution_count": 40,
   "metadata": {},
   "outputs": [],
   "source": [
    "def collate(b):\n",
    "    x, y = zip(*b)\n",
    "    return torch.stack(x), torch.stack(y)\n",
    "\n",
    "class IdifyAndLimitedVocab():\n",
    "    _order=-1\n",
    "    def __init__(self, vocab2id, limited_vocab):\n",
    "        self.vocab2id = vocab2id\n",
    "        self.limited_vocab = limited_vocab\n",
    "    def __call__(self, item):\n",
    "        idlist = [self.vocab2id[w] for w in item if self.vocab2id[w] < self.limited_vocab]\n",
    "        return np.array(idlist)\n",
    "    \n",
    "\n",
    "class Numpyify():\n",
    "    _order=0\n",
    "    def __call__(self, item):\n",
    "        return np.array(item)\n",
    "\n",
    "class Onehotify():\n",
    "    _order=1\n",
    "    def __init__(self, vocab_size):\n",
    "        self.vocab_size = vocab_size\n",
    "    def __call__(self, item):\n",
    "        return np.array(np.bincount(item.astype('int'), minlength=self.vocab_size))\n",
    "    \n",
    "class YToOnehot():\n",
    "    _order=1\n",
    "    def __init__(self, num_classes):\n",
    "        self.num_classes = num_classes\n",
    "    def __call__(self, item):\n",
    "        categorical = np.zeros((1, self.num_classes))\n",
    "        categorical[0, item] = 1\n",
    "        return categorical\n",
    "\n",
    "class Tensorify():\n",
    "    _order=2\n",
    "    def __call__(self, item):\n",
    "        return torch.from_numpy(item)\n",
    "\n",
    "class Floatify():\n",
    "    _order=3\n",
    "    def __call__(self, item):\n",
    "        return item.float()\n",
    "    \n",
    "class CheckAndCudify():\n",
    "    _order=100\n",
    "    def __init__(self):\n",
    "        self.ic = torch.cuda.is_available()\n",
    "    def __call__(self, item):\n",
    "        return item.cuda() if self.ic else item\n",
    "    \n",
    "class URSADataset(Dataset):\n",
    "    def __init__(self, x, y, tfms_x, tfms_y): \n",
    "        self.x, self.y = x, y\n",
    "        self.x_tfms = tfms_x\n",
    "        self.y_tfms = tfms_y\n",
    "    def __len__(self): \n",
    "        return len(self.x)\n",
    "    def __getitem__(self, i): \n",
    "        return compose(self.x[i], self.x_tfms), compose(self.y[i], self.y_tfms)\n",
    "    \n",
    "class Sampler():\n",
    "    def __init__(self, ds, bs, shuffle=False):\n",
    "        self.n,self.bs,self.shuffle = len(ds),bs,shuffle\n",
    "        \n",
    "    def __iter__(self):\n",
    "        self.idxs = torch.randperm(self.n) if self.shuffle else torch.arange(self.n)\n",
    "        for i in range(0, self.n, self.bs): yield self.idxs[i:i+self.bs]\n",
    "\n",
    "class DataLoader():\n",
    "    def __init__(self, ds, sampler, collate_fn=collate):\n",
    "        self.ds,self.sampler,self.collate_fn = ds,sampler,collate_fn\n",
    "        \n",
    "    def __iter__(self):\n",
    "        for s in self.sampler: yield self.collate_fn([self.ds[i] for i in s])"
   ]
  },
  {
   "cell_type": "markdown",
   "metadata": {},
   "source": [
    "## Load Data"
   ]
  },
  {
   "cell_type": "code",
   "execution_count": 41,
   "metadata": {},
   "outputs": [],
   "source": [
    "num_classes = np.max(train_y) + 1"
   ]
  },
  {
   "cell_type": "code",
   "execution_count": 42,
   "metadata": {},
   "outputs": [
    {
     "data": {
      "text/plain": [
       "3"
      ]
     },
     "execution_count": 42,
     "metadata": {},
     "output_type": "execute_result"
    }
   ],
   "source": [
    "num_classes"
   ]
  },
  {
   "cell_type": "code",
   "execution_count": 43,
   "metadata": {},
   "outputs": [],
   "source": [
    "tfms_x = [Numpyify(), Onehotify(vocab_size=vocab_size), Tensorify(), Floatify(), CheckAndCudify()]\n",
    "tfms_y = [YToOnehot(num_classes=num_classes), Tensorify(), Floatify(), CheckAndCudify()]"
   ]
  },
  {
   "cell_type": "code",
   "execution_count": 44,
   "metadata": {},
   "outputs": [],
   "source": [
    "train_ds = URSADataset(train_x, train_y, tfms_x=tfms_x, tfms_y=tfms_y)\n",
    "test_ds = URSADataset(test_x, test_y, tfms_x=tfms_x, tfms_y=tfms_y)"
   ]
  },
  {
   "cell_type": "code",
   "execution_count": 45,
   "metadata": {},
   "outputs": [],
   "source": [
    "train_samp = Sampler(train_ds, bs, shuffle=False)\n",
    "test_samp = Sampler(test_ds, bs, shuffle=False)"
   ]
  },
  {
   "cell_type": "code",
   "execution_count": 46,
   "metadata": {},
   "outputs": [],
   "source": [
    "train_dl = DataLoader(train_ds, sampler=train_samp, collate_fn=collate)\n",
    "test_dl = DataLoader(test_ds, sampler=test_samp, collate_fn=collate)"
   ]
  },
  {
   "cell_type": "code",
   "execution_count": 47,
   "metadata": {},
   "outputs": [],
   "source": [
    "gamma_prior = setup_prior(seed_words_path, 3)"
   ]
  },
  {
   "cell_type": "code",
   "execution_count": 48,
   "metadata": {},
   "outputs": [],
   "source": [
    "gamma, gamma_bin = gamma_prior"
   ]
  },
  {
   "cell_type": "markdown",
   "metadata": {},
   "source": [
    "## Define Model"
   ]
  },
  {
   "cell_type": "code",
   "execution_count": 68,
   "metadata": {},
   "outputs": [],
   "source": [
    "class ProdLDA(nn.Module):\n",
    "    def __init__(self, num_input, en1_units, en2_units, num_topic, drop_rate, init_mult, gamma_prior):\n",
    "        super(ProdLDA, self).__init__()\n",
    "        self.num_input, self.en1_units, self.en2_units, \\\n",
    "        self.num_topic, self.drop_rate, self.init_mult = num_input, en1_units, en2_units, \\\n",
    "                                                            num_topic, drop_rate, init_mult\n",
    "        # gamma prior\n",
    "        self.gamma_prior = gamma_prior\n",
    "        \n",
    "        # encoder\n",
    "        self.en1_fc = nn.Linear(num_input, en1_units)\n",
    "        self.en1_ac = nn.Softplus()\n",
    "        self.en2_fc     = nn.Linear(en1_units, en2_units)\n",
    "        self.en2_ac = nn.Softplus()\n",
    "        self.en2_dr   = nn.Dropout(drop_rate)\n",
    "        \n",
    "        # mean, logvar\n",
    "        self.mean_fc = nn.Linear(en2_units, num_topic)\n",
    "        self.mean_bn = nn.BatchNorm1d(num_topic)\n",
    "        self.logvar_fc = nn.Linear(en2_units, num_topic)\n",
    "        self.logvar_bn = nn.BatchNorm1d(num_topic)\n",
    "\n",
    "        # decoder\n",
    "        self.de_ac1 = nn.Softmax(dim=-1)\n",
    "        self.de_dr = nn.Dropout(drop_rate)\n",
    "        self.de_fc = nn.Linear(num_topic, num_input)\n",
    "        self.de_bn = nn.BatchNorm1d(num_input)\n",
    "        self.de_ac2 = nn.Softmax(dim=-1)\n",
    "        \n",
    "        # prior mean and variance as constant buffers\n",
    "        self.prior_mean   = torch.Tensor(1, num_topic).fill_(0)\n",
    "        self.prior_var    = torch.Tensor(1, num_topic).fill_(variance)\n",
    "        self.prior_mean   = nn.Parameter(self.prior_mean, requires_grad=False)\n",
    "        self.prior_var    = nn.Parameter(self.prior_var, requires_grad=False)\n",
    "        self.prior_logvar = nn.Parameter(self.prior_var.log(), requires_grad=False)\n",
    "        # initialize decoder weight\n",
    "        if init_mult != 0:\n",
    "            #std = 1. / math.sqrt( init_mult * (num_topic + num_input))\n",
    "            self.de_fc.weight.data.uniform_(0, init_mult)\n",
    "        # remove BN's scale parameters\n",
    "        for component in [self.mean_bn, self.logvar_bn, self.de_bn]:\n",
    "            component.weight.requires_grad = False\n",
    "            component.weight.fill_(1.0)\n",
    "        \n",
    "    def gamma(self):\n",
    "        # this function have to run after self.encode\n",
    "        encoder_w1 = self.en1_fc.weight\n",
    "        encoder_b1 = self.en1_fc.bias\n",
    "        encoder_w2 = self.en2_fc.weight\n",
    "        encoder_b2 = self.en2_fc.bias\n",
    "        mean_w = self.mean_fc.weight\n",
    "        mean_b = self.mean_fc.bias\n",
    "        mean_running_mean = self.mean_bn.running_mean\n",
    "        mean_running_var = self.mean_bn.running_var\n",
    "        logvar_w = self.logvar_fc.weight\n",
    "        logvar_b = self.logvar_fc.bias\n",
    "        logvar_running_mean = self.logvar_bn.running_mean\n",
    "        logvar_running_var = self.logvar_bn.running_var\n",
    "        \n",
    "        w1 = F.softplus(encoder_w1.t() + encoder_b1)\n",
    "        w2 = F.softplus(F.linear(w1, encoder_w2, encoder_b2))\n",
    "        wdr = F.dropout(w2, self.drop_rate)\n",
    "        wo_mean = F.softmax(F.batch_norm(F.linear(wdr, mean_w, mean_b), mean_running_mean, mean_running_var), dim=-1)\n",
    "#         wo_mean = F.softmax(F.linear(wdr, mean_w, mean_b), dim=-1)\n",
    "        wo_logvar = F.softmax(F.batch_norm(F.linear(wdr, logvar_w, logvar_b), logvar_running_mean, logvar_running_var), dim=-1)\n",
    "        \n",
    "#         print (\"wo_mean: {}\".format(wo_mean[0]))\n",
    "#         print (\"gamma_mean: {}\".format(wo_mean.size()))\n",
    "#         print (\"gamma_logvar: {}\".format(wo_logvar.size()))\n",
    "        return wo_mean, wo_logvar\n",
    "            \n",
    "    def encode(self, input_):\n",
    "        # encoder\n",
    "        # ('linear1', nn.Linear(in_feature, hidden_feature1)),\n",
    "        # ('act1', nn.Softplus()),\n",
    "        # ('linear2', nn.Linear(hidden_feature1, hidden_feature2)),\n",
    "        # ('act2', nn.Softplus()),\n",
    "        # ('dropout', nn.Dropout(drop_rate))\n",
    "        # encoded = self.en(input_)\n",
    "        encoded1 = self.en1_fc(input_)\n",
    "        encoded1_ac = self.en1_ac(encoded1)\n",
    "        encoded2 = self.en2_fc(encoded1_ac)\n",
    "        encoded2_ac = self.en2_ac(encoded2)\n",
    "        encoded2_dr = self.en2_dr(encoded2_ac)\n",
    "        \n",
    "        encoded = encoded2_dr\n",
    "        \n",
    "        # hidden\n",
    "        # ('linear', nn.Linear(in_feature, out_feature)),\n",
    "        # ('batchnorm', nn.BatchNorm1d(out_feature))\n",
    "        # posterior_mean = self.mean(encoded)\n",
    "        # posterior_logvar = self.logvar(encoded)\n",
    "        mean_theta = self.mean_fc(encoded)\n",
    "        mean_theta_bn = self.mean_bn(mean_theta)\n",
    "        logvar_theta = self.logvar_fc(encoded)\n",
    "        logvar_theta_bn = self.logvar_bn(logvar_theta)\n",
    "        \n",
    "        posterior_mean = mean_theta_bn\n",
    "        posterior_logvar = logvar_theta_bn\n",
    "        return encoded, posterior_mean, posterior_logvar\n",
    "    \n",
    "    def decode(self, input_, posterior_mean, posterior_var):\n",
    "        # take sample\n",
    "        eps = input_.data.new().resize_as_(posterior_mean.data).normal_() # noise \n",
    "        z = posterior_mean + posterior_var.sqrt() * eps                   # reparameterization\n",
    "        # do reconstruction\n",
    "        # decoder\n",
    "        # ('act1', nn.Softmax(dim=-1)),\n",
    "        # ('dropout', nn.Dropout(drop_rate)),\n",
    "        # ('linear', nn.Linear(in_feature, out_feature)),\n",
    "        # ('batchnorm', nn.BatchNorm1d(out_feature)),\n",
    "        # ('act2', nn.Softmax(dim=-1))\n",
    "        # recon = self.de(z)          # reconstructed distribution over vocabulary\n",
    "        \n",
    "        decoded1_ac = self.de_ac1(z)\n",
    "        decoded1_dr = self.de_dr(decoded1_ac)\n",
    "        decoded2 = self.de_fc(decoded1_dr)\n",
    "        decoded2_bn = self.de_bn(decoded2)\n",
    "        decoded2_ac = self.de_ac2(decoded2_bn)\n",
    "        recon = decoded2_ac          # reconstructed distribution over vocabulary\n",
    "        return recon\n",
    "    \n",
    "    def forward(self, input_, compute_loss=False, avg_loss=True):\n",
    "        # compute posterior\n",
    "        en2, posterior_mean, posterior_logvar = self.encode(input_) \n",
    "        posterior_var    = posterior_logvar.exp()\n",
    "        \n",
    "        recon = self.decode(input_, posterior_mean, posterior_var)\n",
    "        if compute_loss:\n",
    "            return recon, self.loss(input_, recon, posterior_mean, posterior_logvar, posterior_var, avg_loss)\n",
    "        else:\n",
    "            return recon\n",
    "\n",
    "    def loss(self, input_, recon, posterior_mean, posterior_logvar, posterior_var, avg=True):\n",
    "        # NL\n",
    "        NL  = -(input_ * (recon + 1e-10).log()).sum(1)\n",
    "        # KLD, see Section 3.3 of Akash Srivastava and Charles Sutton, 2017, \n",
    "        # https://arxiv.org/pdf/1703.01488.pdf\n",
    "        prior_mean   = self.prior_mean.expand_as(posterior_mean)\n",
    "        prior_var    = self.prior_var.expand_as(posterior_mean)\n",
    "        prior_logvar = self.prior_logvar.expand_as(posterior_mean)\n",
    "        var_division    = posterior_var  / prior_var\n",
    "        diff            = posterior_mean - prior_mean\n",
    "        diff_term       = diff * diff / prior_var\n",
    "        logvar_division = prior_logvar - posterior_logvar\n",
    "        # put KLD together\n",
    "        KLD = 0.5 * ( (var_division + diff_term + logvar_division).sum(1) - self.num_topic)\n",
    "#         print (\"KLD: \", KLD.size())\n",
    "        \n",
    "        # gamma\n",
    "        n, _ = input_.size()\n",
    "        gamma_mean, gamma_logvar = self.gamma()\n",
    "        gamma_prior, gammar_prior_bin = self.gamma_prior\n",
    "        input_t = (input_ > 0).unsqueeze(dim=-1)\n",
    "        input_bin = ((gammar_prior_bin.expand(n, -1, -1) == 1) & input_t)\n",
    "        lambda_c = 20.0\n",
    "        \n",
    "        gamma_prior = gamma_prior.expand(n, -1, -1)\n",
    "        \n",
    "#         print (gamma_prior.size())\n",
    "#         print (\"gamma_mean:\", gamma_mean.size())\n",
    "#         print (\"input_bin.int()*gamma_mean:\", (input_bin.int()*gamma_mean).size())\n",
    "        \n",
    "        \n",
    "        GL = lambda_c * (((input_bin.int()*gamma_mean) - gamma_prior)**2).sum((1, 2))\n",
    "#         GL = lambda_c * ((gamma_prior - gamma_mean)**2).sum((1))\n",
    "#         print (\"GL: \", GL.size())\n",
    "        \n",
    "        \n",
    "        # loss\n",
    "#         loss = (NL + KLD)\n",
    "#         print (GL.mean())\n",
    "#         loss = (NL + KLD + GL)\n",
    "        \n",
    "        # in traiming mode, return averaged loss. In testing mode, return individual loss\n",
    "        if avg:\n",
    "            return (NL + KLD + GL).mean()\n",
    "        else:\n",
    "            return (NL + KLD + GL)"
   ]
  },
  {
   "cell_type": "markdown",
   "metadata": {},
   "source": [
    "## Train"
   ]
  },
  {
   "cell_type": "code",
   "execution_count": 69,
   "metadata": {},
   "outputs": [],
   "source": [
    "from sklearn import metrics"
   ]
  },
  {
   "cell_type": "code",
   "execution_count": 70,
   "metadata": {},
   "outputs": [],
   "source": [
    "def compute_accuracy(y_pred, y_true):\n",
    "    accuracy = metrics.accuracy_score(y_true, y_pred)\n",
    "    precision, recall, f1_score, _ = metrics.precision_recall_fscore_support(y_true=y_true, \\\n",
    "                                                     y_pred=y_pred, \\\n",
    "                                                     average=None)\n",
    "\n",
    "    return (accuracy, precision, recall, f1_score)"
   ]
  },
  {
   "cell_type": "code",
   "execution_count": 71,
   "metadata": {},
   "outputs": [],
   "source": [
    "model = ProdLDA(num_input, en1_units, en2_units, num_topic, drop_rate, init_mult, gamma_prior)\n",
    "optimizer = torch.optim.Adam(model.parameters(), learning_rate, betas=(momentum, 0.999))"
   ]
  },
  {
   "cell_type": "code",
   "execution_count": 72,
   "metadata": {},
   "outputs": [],
   "source": [
    "if torch.cuda.is_available():\n",
    "    model = model.cuda()"
   ]
  },
  {
   "cell_type": "code",
   "execution_count": 73,
   "metadata": {},
   "outputs": [
    {
     "name": "stderr",
     "output_type": "stream",
     "text": [
      "/home/huylb314/anaconda3/envs/avi/lib/python3.6/site-packages/sklearn/metrics/_classification.py:1268: UndefinedMetricWarning: Precision and F-score are ill-defined and being set to 0.0 in labels with no predicted samples. Use `zero_division` parameter to control this behavior.\n",
      "  _warn_prf(average, modifier, msg_start, len(result))\n"
     ]
    },
    {
     "name": "stdout",
     "output_type": "stream",
     "text": [
      "##################################################\n",
      "Epoch 0, loss=199.39399157072367, accuracy_train=0.3531502423263328, accuracy_test=0.3808139534883721\n",
      "precision_train0 = 0.346178968 recall_train0 = 1.000000000 f1_score_train0 = 0.514313440\n",
      "precision_te0 = 0.364179104 recall_te0 = 1.000000000 f1_score_te0 = 0.533916849\n",
      "precision_train1 = 0.000000000 recall_train1 = 0.000000000 f1_score_train1 = 0.000000000\n",
      "precision_te1 = 0.000000000 recall_te1 = 0.000000000 f1_score_te1 = 0.000000000\n",
      "precision_train2 = 1.000000000 recall_train2 = 0.034591195 f1_score_train2 = 0.066869301\n",
      "precision_te2 = 1.000000000 recall_te2 = 0.091836735 f1_score_te2 = 0.168224299\n",
      "---------------Printing the Topics------------------\n",
      "brown overwhelm greet use meant howev grass zimbabw museum encrust filet vinyl flight addit set occupi magnific mig recit hey sit air pizzeria boomer madison tie lucki incorrect bruschetta pie size translat asid brush pull grape fame fight sister deli husband caper lech fair detail mole inde style quit ceil\n",
      "delic rest brass turn meati terribl boar biscuit small rub elegantli pace class blow gold spaetzl pretti philosophi rail filet variou pound chill theater wash syrup confin hipster overli stori luxuri complimentari tandoori confid peak desert jackson turkish profus incorrect stapl tear chelsea grass rendit said marbl practic substitut avoid\n",
      "west respond p irish cheesi never high crazi showcas arugula casual assur broadway liver anymor stand pot quickli ignor sprout texa father pear row color far smoothi jewel typic board nestl god energet bric non pickl motif gravi case critic raw dont attent chutney fava roll remind amazingli booth plastic\n",
      "---------------End of Topics------------------\n",
      "The approximated perplexity is:  3.917616809990927e+25\n",
      "##################################################\n",
      "##################################################\n",
      "Epoch 5, loss=199.1415835731908, accuracy_train=0.4988691437802908, accuracy_test=0.5348837209302325\n",
      "precision_train0 = 0.419284468 recall_train0 = 0.906603774 f1_score_train0 = 0.573389021\n",
      "precision_te0 = 0.445736434 recall_te0 = 0.942622951 f1_score_te0 = 0.605263158\n",
      "precision_train1 = 0.926829268 recall_train1 = 0.035152636 f1_score_train1 = 0.067736185\n",
      "precision_te1 = 1.000000000 recall_te1 = 0.024193548 f1_score_te1 = 0.047244094\n",
      "precision_train2 = 0.715223097 recall_train2 = 0.571278826 f1_score_train2 = 0.635198135\n",
      "precision_te2 = 0.795180723 recall_te2 = 0.673469388 f1_score_te2 = 0.729281768\n",
      "---------------Printing the Topics------------------\n",
      "bruschetta grass greet use hey style filet addit size museum howev air ceil brown set sit quit pizzeria expos fair pie meant chestnut lucki coffe madison overwhelm zimbabw pull hardwood incorrect row boomer fame encrust overlook vinyl magnific giovanni husband fight american sister transform caper much brush strip mig lech\n",
      "rest terribl small delic meati rub hipster filet incorrect cuisin gold stori brass peak turn chill peac avoid jean boar biscuit pound syrup drinker chestnut could pretti know rail substitut pace said stapl class theater energet profus variou tandoori empanada overli grass halibut approach smoke photograph japan nyu scatter desert\n",
      "west row typic casual high never far sprout booth ignor anymor father respond assur pear dont raw color attent irish board energet crazi roll air case wrong quickli amazingli arugula rub gravi pot smoothi broadway stand jewel wast plastic liver weird last cheesi pool giovanni key p fatti non recent\n",
      "---------------End of Topics------------------\n",
      "The approximated perplexity is:  3.80617885224748e+25\n",
      "##################################################\n",
      "##################################################\n",
      "Epoch 10, loss=198.71465871710527, accuracy_train=0.637156704361874, accuracy_test=0.6744186046511628\n",
      "precision_train0 = 0.533333333 recall_train0 = 0.875471698 f1_score_train0 = 0.662857143\n",
      "precision_te0 = 0.584210526 recall_te0 = 0.909836066 f1_score_te0 = 0.711538462\n",
      "precision_train1 = 0.777292576 recall_train1 = 0.493987049 f1_score_train1 = 0.604072398\n",
      "precision_te1 = 0.767441860 recall_te1 = 0.532258065 f1_score_te1 = 0.628571429\n",
      "precision_train2 = 0.763473054 recall_train2 = 0.534591195 f1_score_train2 = 0.628853268\n",
      "precision_te2 = 0.808823529 recall_te2 = 0.561224490 f1_score_te2 = 0.662650602\n",
      "---------------Printing the Topics------------------\n",
      "style bruschetta hey air greet filet grass howev size use addit chestnut quit expos brown row ceil sit pizzeria museum fair giovanni set fame coffe pie meant lucki hardwood pull incorrect madison strip overlook much husband sister overwhelm drinker york american transform appet plu fight delici section magnific caper zimbabw\n",
      "rub delic small terribl hipster filet cuisin peac rest incorrect meati jean avoid peak chestnut stori drinker know could pound turn exot energet chill syrup said empanada substitut garag gold strip biscuit brass approach stapl japan photograph infus boar class arriv pack halibut rail creativ weird pretti someon grass mani\n",
      "typic row casual west booth father sprout never ignor far air assur dont high rub raw attent amazingli plastic wrong roll case weird anymor pear giovanni energet last best wast pot jewel kitchen color irish board smoothi key pizzeria respond know pool quickli gravi recent arugula crazi spend admit stand\n",
      "---------------End of Topics------------------\n",
      "The approximated perplexity is:  3.457609693143866e+25\n",
      "##################################################\n",
      "##################################################\n",
      "Epoch 15, loss=198.36362818667763, accuracy_train=0.6319870759289176, accuracy_test=0.6511627906976745\n",
      "precision_train0 = 0.590138675 recall_train0 = 0.722641509 f1_score_train0 = 0.649703138\n",
      "precision_te0 = 0.633093525 recall_te0 = 0.721311475 f1_score_te0 = 0.674329502\n",
      "precision_train1 = 0.806397306 recall_train1 = 0.443108233 f1_score_train1 = 0.571940299\n",
      "precision_te1 = 0.805194805 recall_te1 = 0.500000000 f1_score_te1 = 0.616915423\n",
      "precision_train2 = 0.591022444 recall_train2 = 0.745283019 f1_score_train2 = 0.659248957\n",
      "precision_te2 = 0.578125000 recall_te2 = 0.755102041 f1_score_te2 = 0.654867257\n",
      "---------------Printing the Topics------------------\n",
      "style filet hey air howev bruschetta greet size chestnut quit row grass expos giovanni fame use brown addit fair set pizzeria ceil coffe sit museum incorrect strip plu pie meant hardwood drinker pull appet much york husband crumbl lucki brussel delici section madison neighborhood overlook sister american transform fight visit\n",
      "rub delic small terribl hipster avoid cuisin filet peac know drinker chestnut exot incorrect jean meati strip could pound stori empanada peak rest energet infus garag said substitut weird japan approach arriv turn syrup stapl mani biscuit creativ gold pack back someon chill photograph brass meticul mostli liter began board\n",
      "typic row booth father casual air far sprout never rub ignor west best dont raw plastic high giovanni attent last assur kitchen amazingli pizzeria wrong weird roll wast pot case pear jewel know energet key anymor recent review toro board admit smoothi irish spend pool gravi guy color even experi\n",
      "---------------End of Topics------------------\n",
      "The approximated perplexity is:  3.2550401442275685e+25\n",
      "##################################################\n",
      "##################################################\n",
      "Epoch 20, loss=198.03155453330592, accuracy_train=0.6500807754442649, accuracy_test=0.6627906976744186\n",
      "precision_train0 = 0.608160123 recall_train0 = 0.745283019 f1_score_train0 = 0.669775329\n",
      "precision_te0 = 0.649635036 recall_te0 = 0.729508197 f1_score_te0 = 0.687258687\n",
      "precision_train1 = 0.802752294 recall_train1 = 0.485661425 f1_score_train1 = 0.605187320\n",
      "precision_te1 = 0.792682927 recall_te1 = 0.524193548 f1_score_te1 = 0.631067961\n",
      "precision_train2 = 0.610332750 recall_train2 = 0.730607966 f1_score_train2 = 0.665076336\n",
      "precision_te2 = 0.592000000 recall_te2 = 0.755102041 f1_score_te2 = 0.663677130\n",
      "---------------Printing the Topics------------------\n",
      "style filet howev hey air chestnut bruschetta size quit greet row giovanni fame grass expos use brown plu fair pizzeria set addit coffe strip drinker incorrect crumbl sit museum appet york ceil meant brussel much delici section neighborhood husband hardwood potato pull lucki pie singl visit soundtrack arriv magnific irish\n",
      "rub delic small hipster avoid know terribl cuisin exot strip peac chestnut filet drinker jean could pound infus incorrect meati garag energet said empanada weird stori arriv peak liter substitut age rest creativ spend mostli approach custom trendi back japan plastic mani pack stapl board meticul began tandoori hey friend\n",
      "typic booth row father air rub far casual ignor best dont never west sprout giovanni plastic last attent kitchen pizzeria raw jewel wast high assur review wrong know key energet weird amazingli pot recent case toro pear anymor roll experi guy peac admit irish spend even board smoothi gravi lantern\n",
      "---------------End of Topics------------------\n",
      "The approximated perplexity is:  2.9419510093001834e+25\n",
      "##################################################\n"
     ]
    },
    {
     "name": "stdout",
     "output_type": "stream",
     "text": [
      "##################################################\n",
      "Epoch 25, loss=197.4289640727796, accuracy_train=0.681421647819063, accuracy_test=0.6773255813953488\n",
      "precision_train0 = 0.659090909 recall_train0 = 0.738679245 f1_score_train0 = 0.696619217\n",
      "precision_te0 = 0.669291339 recall_te0 = 0.696721311 f1_score_te0 = 0.682730924\n",
      "precision_train1 = 0.786924939 recall_train1 = 0.601295097 f1_score_train1 = 0.681699004\n",
      "precision_te1 = 0.783505155 recall_te1 = 0.612903226 f1_score_te1 = 0.687782805\n",
      "precision_train2 = 0.625346901 recall_train2 = 0.708595388 f1_score_train2 = 0.664373464\n",
      "precision_te2 = 0.600000000 recall_te2 = 0.734693878 f1_score_te2 = 0.660550459\n",
      "---------------Printing the Topics------------------\n",
      "filet style howev hey air size chestnut quit bruschetta row greet fame giovanni plu fair brown grass use strip pizzeria crumbl expos appet coffe drinker set potato incorrect addit neighborhood york sit delici like soundtrack museum section meant visit creativ singl much typic brussel lucki arriv ceil husband pull substitut\n",
      "small rub know hipster delic cuisin strip chestnut exot avoid age terribl drinker jean peac pound could infus said liter weird arriv filet incorrect spend garag meati custom energet mostli empanada stori creativ trendi substitut plastic hey mani stapl back peak pack board averag friend approach began singl hang japan\n",
      "typic row air booth father rub best casual far giovanni ignor dont kitchen attent west sprout never plastic pizzeria jewel know review last experi raw key wast energet weird wrong high amazingli peac toro recent assur pear pot guy anymor case irish admit snow roll concern even museum lantern utensil\n",
      "---------------End of Topics------------------\n",
      "The approximated perplexity is:  3.0061261366994237e+25\n",
      "##################################################\n",
      "##################################################\n",
      "Epoch 30, loss=196.99838738692435, accuracy_train=0.6849757673667205, accuracy_test=0.6802325581395349\n",
      "precision_train0 = 0.670454545 recall_train0 = 0.723584906 f1_score_train0 = 0.696007260\n",
      "precision_te0 = 0.672000000 recall_te0 = 0.688524590 f1_score_te0 = 0.680161943\n",
      "precision_train1 = 0.787558685 recall_train1 = 0.620721554 f1_score_train1 = 0.694257631\n",
      "precision_te1 = 0.793814433 recall_te1 = 0.620967742 f1_score_te1 = 0.696832579\n",
      "precision_train2 = 0.620564149 recall_train2 = 0.714884696 f1_score_train2 = 0.664393570\n",
      "precision_te2 = 0.598360656 recall_te2 = 0.744897959 f1_score_te2 = 0.663636364\n",
      "---------------Printing the Topics------------------\n",
      "filet style howev hey air size quit chestnut fame row giovanni bruschetta plu appet potato greet strip fair brown crumbl use beef drinker like neighborhood pizzeria grass coffe delici expos creativ york incorrect addit set soundtrack typic section singl visit sprout sit substitut museum bread lucki meant arriv wast far\n",
      "age small know liter rub chestnut hipster cuisin arriv strip exot avoid pound delic weird drinker could said terribl jean custom peac infus spend incorrect garag mostli energet trendi hey creativ filet pack friend meati plastic waitress averag substitut span mani empanada hang back stori stapl singl right board began\n",
      "air typic row rub booth father giovanni casual kitchen best far dont know jewel ignor plastic attent sprout pizzeria experi west review peac key wast weird amazingli raw never energet last toro wrong recent high guy pear anymor snow pot assur irish utensil concern case bruschetta lantern admit invit oppos\n",
      "---------------End of Topics------------------\n",
      "The approximated perplexity is:  2.1524099541701846e+25\n",
      "##################################################\n",
      "##################################################\n",
      "Epoch 35, loss=196.4058966385691, accuracy_train=0.7059773828756059, accuracy_test=0.7180232558139535\n",
      "precision_train0 = 0.709944751 recall_train0 = 0.727358491 f1_score_train0 = 0.718546132\n",
      "precision_te0 = 0.722689076 recall_te0 = 0.704918033 f1_score_te0 = 0.713692946\n",
      "precision_train1 = 0.768603466 recall_train1 = 0.697502313 f1_score_train1 = 0.731328807\n",
      "precision_te1 = 0.792792793 recall_te1 = 0.709677419 f1_score_te1 = 0.748936170\n",
      "precision_train2 = 0.642023346 recall_train2 = 0.691823899 f1_score_train2 = 0.665993946\n",
      "precision_te2 = 0.640350877 recall_te2 = 0.744897959 f1_score_te2 = 0.688679245\n",
      "---------------Printing the Topics------------------\n",
      "filet style potato size hey howev quit beef appet air fame giovanni chestnut plu like strip row bruschetta brown neighborhood greet crumbl fair delici drinker use pizzeria bread grass creativ york typic sprout soundtrack coffe addit infus portion incorrect section singl visit remark expos set scream substitut averag far weird\n",
      "age small liter arriv know chestnut hipster custom weird said rub avoid pound cuisin could waitress exot strip span drinker friend spend delic terribl hey incorrect jean pack infus mostli peac right creativ trendi garag singl energet back plastic hang fame barista substitut meati averag mani short stori greet guy\n",
      "air typic row rub booth kitchen father casual far giovanni jewel best know peac plastic dont pizzeria sprout west key review ignor experi attent wast amazingli weird energet raw toro never recent wrong anymor utensil pear guy high chestnut snow bruschetta last pot soundtrack irish invit lantern oppos concern assur\n",
      "---------------End of Topics------------------\n",
      "The approximated perplexity is:  1.9760726601547645e+25\n",
      "##################################################\n",
      "##################################################\n",
      "Epoch 40, loss=195.91166478207236, accuracy_train=0.7192245557350565, accuracy_test=0.7325581395348837\n",
      "precision_train0 = 0.750246792 recall_train0 = 0.716981132 f1_score_train0 = 0.733236855\n",
      "precision_te0 = 0.779816514 recall_te0 = 0.696721311 f1_score_te0 = 0.735930736\n",
      "precision_train1 = 0.769833497 recall_train1 = 0.727104533 f1_score_train1 = 0.747859182\n",
      "precision_te1 = 0.794871795 recall_te1 = 0.750000000 f1_score_te1 = 0.771784232\n",
      "precision_train2 = 0.640904807 recall_train2 = 0.712788260 f1_score_train2 = 0.674937965\n",
      "precision_te2 = 0.627118644 recall_te2 = 0.755102041 f1_score_te2 = 0.685185185\n",
      "---------------Printing the Topics------------------\n",
      "filet style beef potato like appet size quit hey strip giovanni plu howev fame air chestnut delici brown bread neighborhood row crumbl drinker use portion infus fair bruschetta greet york sprout creativ pizzeria typic grass soundtrack addit cream averag best tofu remark would scream fish coffe incorrect singl visit snow\n",
      "age liter arriv small waitress custom know weird span said chestnut hipster barista avoid could rub pound friend cuisin spend java hey exot right terribl singl pack drinker back incorrect mostli strip us greet creativ guy jean hang gave fame delic energet garag plastic trendi infus peac friendli substitut averag\n",
      "air booth kitchen typic casual row rub father far giovanni peac jewel plastic best know west key sprout dont pizzeria wast chestnut experi review weird amazingli attent ignor toro energet utensil bruschetta soundtrack anymor recent never invit snow wrong museum concern raw guy pear high irish last stapl match lantern\n",
      "---------------End of Topics------------------\n",
      "The approximated perplexity is:  1.951723130614292e+25\n",
      "##################################################\n",
      "##################################################\n",
      "Epoch 45, loss=195.91483218544408, accuracy_train=0.7369951534733441, accuracy_test=0.7616279069767442\n",
      "precision_train0 = 0.791752577 recall_train0 = 0.724528302 f1_score_train0 = 0.756650246\n",
      "precision_te0 = 0.850000000 recall_te0 = 0.696721311 f1_score_te0 = 0.765765766\n",
      "precision_train1 = 0.762511374 recall_train1 = 0.775208141 f1_score_train1 = 0.768807339\n",
      "precision_te1 = 0.792307692 recall_te1 = 0.830645161 f1_score_te1 = 0.811023622\n",
      "precision_train2 = 0.657894737 recall_train2 = 0.707547170 f1_score_train2 = 0.681818182\n",
      "precision_te2 = 0.649122807 recall_te2 = 0.755102041 f1_score_te2 = 0.698113208\n",
      "---------------Printing the Topics------------------\n",
      "filet beef potato style like appet size quit strip hey bread plu giovanni delici fame brown portion howev air neighborhood infus chestnut fish crumbl cream best row use drinker sprout york tofu averag typic creativ greet pizzeria fair snow soundtrack bruschetta addit sauc lamb grass oyster would pound remark crispi\n",
      "age liter waitress arriv span barista custom small weird said java know us chestnut avoid friendli could friend hipster hey gave spend back right greet guy terribl pound rub hostess pack incorrect singl cuisin mostli exot drinker hang creativ fame jean energet someon garag substitut plastic trendi mistak strip amazingli\n",
      "air booth casual kitchen row typic rub far plastic peac father jewel giovanni know key west best chestnut dont sprout pizzeria wast soundtrack weird utensil review bruschetta experi invit stapl energet toro wood amazingli concern museum level recent attent match anymor high ignor guy wrong snow trendi oppos ceil color\n",
      "---------------End of Topics------------------\n",
      "The approximated perplexity is:  1.7929644702450164e+25\n",
      "##################################################\n"
     ]
    },
    {
     "name": "stdout",
     "output_type": "stream",
     "text": [
      "##################################################\n",
      "Epoch 50, loss=195.82055278577303, accuracy_train=0.7547657512116317, accuracy_test=0.7732558139534884\n",
      "precision_train0 = 0.850828729 recall_train0 = 0.726415094 f1_score_train0 = 0.783715013\n",
      "precision_te0 = 0.903225806 recall_te0 = 0.688524590 f1_score_te0 = 0.781395349\n",
      "precision_train1 = 0.750208855 recall_train1 = 0.830712303 f1_score_train1 = 0.788410887\n",
      "precision_te1 = 0.767605634 recall_te1 = 0.879032258 f1_score_te1 = 0.819548872\n",
      "precision_train2 = 0.672708963 recall_train2 = 0.700209644 f1_score_train2 = 0.686183873\n",
      "precision_te2 = 0.669724771 recall_te2 = 0.744897959 f1_score_te2 = 0.705314010\n",
      "---------------Printing the Topics------------------\n",
      "filet beef potato like style appet strip size bread quit delici portion plu giovanni hey fish cream sauc fame best brown infus neighborhood chestnut air tofu crumbl howev sprout averag snow lamb crispi typic york use row creativ pound oyster drinker raw addit pizzeria bean would soundtrack remark greet craft\n",
      "age liter waitress barista span us java custom arriv friendli said weird small hostess gave know chestnut could friend back avoid guy greet hey hipster spend right terribl pack incorrect singl pound rub hang drinker amazingli cuisin z mostli fame someon exot substitut mistak server creativ jean garag trendi happen\n",
      "air casual booth kitchen row typic rub plastic peac far jewel know father west key chestnut wood giovanni ceil soundtrack dont sprout pizzeria best stapl scene invit energet level weird utensil bruschetta concern museum wast match sit feel experi trendi review toro recent tone amazingli high color oppos suit anymor\n",
      "---------------End of Topics------------------\n",
      "The approximated perplexity is:  1.708476500913467e+25\n",
      "##################################################\n",
      "##################################################\n",
      "Epoch 55, loss=195.80780736019736, accuracy_train=0.7609046849757674, accuracy_test=0.7906976744186046\n",
      "precision_train0 = 0.889148191 recall_train0 = 0.718867925 f1_score_train0 = 0.794992175\n",
      "precision_te0 = 0.943820225 recall_te0 = 0.688524590 f1_score_te0 = 0.796208531\n",
      "precision_train1 = 0.723583461 recall_train1 = 0.874190564 f1_score_train1 = 0.791788856\n",
      "precision_te1 = 0.754838710 recall_te1 = 0.943548387 f1_score_te1 = 0.838709677\n",
      "precision_train2 = 0.695278970 recall_train2 = 0.679245283 f1_score_train2 = 0.687168611\n",
      "precision_te2 = 0.710000000 recall_te2 = 0.724489796 f1_score_te2 = 0.717171717\n",
      "---------------Printing the Topics------------------\n",
      "beef filet potato like style strip appet bread sauc fish size quit portion delici cream best giovanni plu infus hey fame brown tofu lamb snow crispi neighborhood averag chestnut sprout bean crumbl raw oyster pound creativ typic air howev veget onion addit use york row pate gravi remark craft cuisin\n",
      "age waitress liter barista us span custom java friendli arriv hostess said weird gave back small friend could know greet chestnut guy hey spend avoid terribl right hipster amazingli z server pack incorrect singl drinker someon pound hang fame rub mostli cuisin substitut mistak exot jean ask happen garag creativ\n",
      "air casual booth kitchen row plastic peac ceil scene wood typic rub far jewel sit know west chestnut key feel soundtrack father dont giovanni match stapl level energet sprout museum pizzeria invit tone concern trendi utensil weird bruschetta best wast recent suit high upbeat color spaciou oppos experi toro review\n",
      "---------------End of Topics------------------\n",
      "The approximated perplexity is:  1.5181265099878704e+25\n",
      "##################################################\n",
      "##################################################\n",
      "Epoch 60, loss=195.7175113075658, accuracy_train=0.7709208400646204, accuracy_test=0.8052325581395349\n",
      "precision_train0 = 0.922062350 recall_train0 = 0.725471698 f1_score_train0 = 0.812038015\n",
      "precision_te0 = 0.966292135 recall_te0 = 0.704918033 f1_score_te0 = 0.815165877\n",
      "precision_train1 = 0.713144517 recall_train1 = 0.908418131 f1_score_train1 = 0.799023596\n",
      "precision_te1 = 0.754716981 recall_te1 = 0.967741935 f1_score_te1 = 0.848056537\n",
      "precision_train2 = 0.718325792 recall_train2 = 0.665618449 f1_score_train2 = 0.690968444\n",
      "precision_te2 = 0.739583333 recall_te2 = 0.724489796 f1_score_te2 = 0.731958763\n",
      "---------------Printing the Topics------------------\n",
      "beef filet potato like sauc style strip appet bread fish portion best cream size quit delici infus giovanni plu lamb hey tofu fame brown crispi snow bean onion veget averag raw pound neighborhood oyster chestnut creativ sprout crumbl fresh typic tast pate clam fri cuisin addit gravi remark row craft\n",
      "age waitress liter us barista span friendli custom java hostess said arriv gave back weird friend greet small could guy know hey chestnut spend amazingli ask server z terribl avoid right someon hipster pack incorrect drinker singl fame hang pound mistak happen substitut mostli rub tell give cuisin garag exot\n",
      "air casual booth ceil scene kitchen wood plastic row peac sit feel jewel typic far rub chestnut soundtrack west know match tone stapl level key energet museum giovanni dont sprout trendi father concern pizzeria invit lend utensil restaur weird bruschetta upbeat suit color high recent best spaciou crumbl oppos wast\n",
      "---------------End of Topics------------------\n",
      "The approximated perplexity is:  2.0086417786450856e+25\n",
      "##################################################\n",
      "##################################################\n",
      "Epoch 65, loss=195.73886204769738, accuracy_train=0.7680129240710823, accuracy_test=0.8052325581395349\n",
      "precision_train0 = 0.941759603 recall_train0 = 0.716981132 f1_score_train0 = 0.814140332\n",
      "precision_te0 = 0.988636364 recall_te0 = 0.713114754 f1_score_te0 = 0.828571429\n",
      "precision_train1 = 0.689726027 recall_train1 = 0.931544866 f1_score_train1 = 0.792601338\n",
      "precision_te1 = 0.736196319 recall_te1 = 0.967741935 f1_score_te1 = 0.836236934\n",
      "precision_train2 = 0.736714976 recall_train2 = 0.639412998 f1_score_train2 = 0.684624018\n",
      "precision_te2 = 0.752688172 recall_te2 = 0.714285714 f1_score_te2 = 0.732984293\n",
      "---------------Printing the Topics------------------\n",
      "beef potato filet like sauc style fish strip bread appet best portion cream delici size infus quit lamb giovanni plu bean onion crispi veget tofu snow fame brown tast fresh hey pound averag raw oyster creativ fri pate clam neighborhood sprout chestnut crumbl typic tuna cuisin gravi addit delic remark\n",
      "age waitress us liter barista friendli span custom hostess java said gave back arriv weird ask friend greet guy know could small server amazingli hey spend z right terribl chestnut someon avoid pack fame incorrect hipster singl drinker hang give tell pound happen mistak experi substitut mostli last extrem noisi\n",
      "air scene ceil casual booth kitchen wood sit feel plastic row peac jewel chestnut typic soundtrack far tone match west stapl rub level energet museum trendi know sprout giovanni restaur lend key dont father concern pizzeria invit utensil color weird upbeat high suit lantern spaciou crumbl exot recent mario oppos\n",
      "---------------End of Topics------------------\n",
      "The approximated perplexity is:  1.7671278976431345e+25\n",
      "##################################################\n",
      "##################################################\n",
      "Epoch 70, loss=195.50025570518093, accuracy_train=0.7722132471728594, accuracy_test=0.8052325581395349\n",
      "precision_train0 = 0.951432130 recall_train0 = 0.720754717 f1_score_train0 = 0.820182501\n",
      "precision_te0 = 1.000000000 recall_te0 = 0.713114754 f1_score_te0 = 0.832535885\n",
      "precision_train1 = 0.682795699 recall_train1 = 0.939870490 f1_score_train1 = 0.790969249\n",
      "precision_te1 = 0.715976331 recall_te1 = 0.975806452 f1_score_te1 = 0.825938567\n",
      "precision_train2 = 0.758706468 recall_train2 = 0.639412998 f1_score_train2 = 0.693970421\n",
      "precision_te2 = 0.784090909 recall_te2 = 0.704081633 f1_score_te2 = 0.741935484\n",
      "---------------Printing the Topics------------------\n",
      "beef potato filet like sauc fish bread style strip appet best cream portion delici infus size lamb onion bean veget quit giovanni crispi tofu tast plu snow fresh fri pound fame clam brown oyster pate creativ raw averag hey sprout tuna neighborhood crumbl chestnut delic typic addit gravi cuisin tandoori\n",
      "age waitress us liter barista friendli hostess span custom java said gave ask back arriv weird greet friend guy server could know amazingli z hey spend right small someon terribl chestnut avoid pack give fame tell incorrect experi singl drinker last hipster hang pound mistak happen assur substitut extrem mostli\n",
      "scene ceil air booth casual wood sit feel kitchen plastic row jewel chestnut peac tone typic soundtrack west match stapl restaur level far lend energet trendi rub museum sprout know giovanni dont key father color concern pizzeria spaciou invit suit lantern exot utensil high crumbl upbeat weird mario short expos\n",
      "---------------End of Topics------------------\n",
      "The approximated perplexity is:  1.649863435658031e+25\n",
      "##################################################\n"
     ]
    },
    {
     "name": "stdout",
     "output_type": "stream",
     "text": [
      "##################################################\n",
      "Epoch 75, loss=195.4190031352796, accuracy_train=0.7705977382875606, accuracy_test=0.8023255813953488\n",
      "precision_train0 = 0.959390863 recall_train0 = 0.713207547 f1_score_train0 = 0.818181818\n",
      "precision_te0 = 1.000000000 recall_te0 = 0.729508197 f1_score_te0 = 0.843601896\n",
      "precision_train1 = 0.672334859 recall_train1 = 0.950971323 f1_score_train1 = 0.787739464\n",
      "precision_te1 = 0.699421965 recall_te1 = 0.975806452 f1_score_te1 = 0.814814815\n",
      "precision_train2 = 0.772493573 recall_train2 = 0.629979036 f1_score_train2 = 0.693995381\n",
      "precision_te2 = 0.804878049 recall_te2 = 0.673469388 f1_score_te2 = 0.733333333\n",
      "---------------Printing the Topics------------------\n",
      "beef potato filet like sauc fish bread best style strip cream appet portion onion delici infus lamb veget bean size tast crispi tofu giovanni fresh quit snow plu fri pound clam oyster pate creativ raw brown fame hey tuna sprout averag delic chestnut crumbl neighborhood barbecu addit tandoori gravi remark\n",
      "age waitress us liter barista friendli hostess span ask custom java said back gave arriv friend greet weird server guy could know z amazingli hey spend right someon terribl small experi tell give chestnut avoid pack incorrect last fame singl mistak hipster assur hang drinker pound one happen fair averag\n",
      "ceil scene air booth wood feel sit casual kitchen plastic tone chestnut row restaur jewel typic peac soundtrack stapl lend level west match energet trendi far museum sprout rub giovanni know color expos spaciou exot father suit dont lantern crumbl concern key invit upbeat pizzeria high utensil mario weird short\n",
      "---------------End of Topics------------------\n",
      "The approximated perplexity is:  1.6248588202774843e+25\n",
      "##################################################\n",
      "##################################################\n",
      "Epoch 80, loss=195.2055509868421, accuracy_train=0.7754442649434572, accuracy_test=0.8052325581395349\n",
      "precision_train0 = 0.964376590 recall_train0 = 0.715094340 f1_score_train0 = 0.821235103\n",
      "precision_te0 = 1.000000000 recall_te0 = 0.745901639 f1_score_te0 = 0.854460094\n",
      "precision_train1 = 0.669255663 recall_train1 = 0.956521739 f1_score_train1 = 0.787509520\n",
      "precision_te1 = 0.693181818 recall_te1 = 0.983870968 f1_score_te1 = 0.813333333\n",
      "precision_train2 = 0.795811518 recall_train2 = 0.637316562 f1_score_train2 = 0.707799767\n",
      "precision_te2 = 0.831168831 recall_te2 = 0.653061224 f1_score_te2 = 0.731428571\n",
      "---------------Printing the Topics------------------\n",
      "beef potato filet like sauc fish best bread cream style strip appet onion portion veget lamb bean tast infus delici crispi tofu fresh size giovanni snow quit fri clam pound plu oyster creativ pate raw fame brown delic tuna sprout hey averag barbecu chestnut tandoori crumbl neighborhood vinegar addit remark\n",
      "age waitress us barista liter friendli ask hostess span custom java said back gave server friend greet arriv weird guy could know z spend amazingli someon hey right experi terribl tell give last small avoid pack chestnut incorrect fame assur one mistak singl hipster fair happen without averag extrem ignor\n",
      "ceil scene wood feel booth air sit casual kitchen tone plastic restaur chestnut lend jewel row stapl soundtrack level typic peac west energet match museum trendi expos sprout far rub giovanni know color exot spaciou suit father crumbl upbeat invit buzz lantern short dont concern mario nquett hardwood pizzeria high\n",
      "---------------End of Topics------------------\n",
      "The approximated perplexity is:  1.7515300628753638e+25\n",
      "##################################################\n",
      "##################################################\n",
      "Epoch 85, loss=195.22147281044408, accuracy_train=0.7767366720516963, accuracy_test=0.8081395348837209\n",
      "precision_train0 = 0.968233799 recall_train0 = 0.718867925 f1_score_train0 = 0.825121819\n",
      "precision_te0 = 1.000000000 recall_te0 = 0.745901639 f1_score_te0 = 0.854460094\n",
      "precision_train1 = 0.664102564 recall_train1 = 0.958371878 f1_score_train1 = 0.784551306\n",
      "precision_te1 = 0.697142857 recall_te1 = 0.983870968 f1_score_te1 = 0.816053512\n",
      "precision_train2 = 0.810160428 recall_train2 = 0.635220126 f1_score_train2 = 0.712103408\n",
      "precision_te2 = 0.833333333 recall_te2 = 0.663265306 f1_score_te2 = 0.738636364\n",
      "---------------Printing the Topics------------------\n",
      "beef potato filet like sauc fish best cream bread strip style onion veget tast appet portion lamb bean infus delici tofu crispi fresh size giovanni snow fri quit clam creativ pound oyster pate plu raw delic fame brown tuna sprout pork hey averag barbecu spinach chestnut shrimp tandoori ponzu vinegar\n",
      "age waitress us ask barista friendli liter hostess span said back custom java gave server friend greet arriv know weird could guy z experi tell someon spend amazingli hey right last terribl give avoid one small incorrect assur pack chestnut fame ignor without reserv mistak fair singl waiter hipster happen\n",
      "ceil scene feel wood booth air sit casual kitchen tone restaur plastic chestnut lend soundtrack stapl jewel row level energet west peac typic match expos museum trendi sprout far rub spaciou exot giovanni nquett color suit know short buzz hardwood upbeat crumbl invit father mario concern lantern dont pizzeria cute\n",
      "---------------End of Topics------------------\n",
      "The approximated perplexity is:  1.6316055600606808e+25\n",
      "##################################################\n",
      "##################################################\n",
      "Epoch 90, loss=195.0552027652138, accuracy_train=0.7777059773828756, accuracy_test=0.8081395348837209\n",
      "precision_train0 = 0.968394437 recall_train0 = 0.722641509 f1_score_train0 = 0.827660724\n",
      "precision_te0 = 1.000000000 recall_te0 = 0.762295082 f1_score_te0 = 0.865116279\n",
      "precision_train1 = 0.659695817 recall_train1 = 0.962997225 f1_score_train1 = 0.783001128\n",
      "precision_te1 = 0.689265537 recall_te1 = 0.983870968 f1_score_te1 = 0.810631229\n",
      "precision_train2 = 0.826446281 recall_train2 = 0.628930818 f1_score_train2 = 0.714285714\n",
      "precision_te2 = 0.851351351 recall_te2 = 0.642857143 f1_score_te2 = 0.732558140\n",
      "---------------Printing the Topics------------------\n",
      "beef potato like filet sauc fish best cream bread onion strip style veget tast bean portion lamb appet infus tofu fresh crispi delici size snow giovanni clam fri quit creativ pound oyster pate delic raw plu fame pork brown tuna spinach sprout shrimp barbecu ponzu tandoori vinegar chestnut averag soup\n",
      "age us waitress ask friendli barista liter hostess span back said custom java gave server friend know greet arriv could weird guy z experi tell someon last spend right amazingli give hey terribl one avoid assur reserv incorrect ignor waiter small without fame fair pack chestnut mistak extrem admit call\n",
      "ceil scene feel wood booth sit air casual kitchen tone restaur plastic lend chestnut soundtrack stapl level row expos jewel energet peac west typic trendi match museum sprout nquett spaciou exot far suit rub short giovanni hardwood color buzz upbeat invit concern mario crumbl know rail father cute linen lantern\n",
      "---------------End of Topics------------------\n",
      "The approximated perplexity is:  1.6030709515910326e+25\n",
      "##################################################\n",
      "##################################################\n",
      "Epoch 95, loss=194.88257606907894, accuracy_train=0.7796445880452343, accuracy_test=0.8052325581395349\n",
      "precision_train0 = 0.971830986 recall_train0 = 0.716037736 f1_score_train0 = 0.824551874\n",
      "precision_te0 = 1.000000000 recall_te0 = 0.754098361 f1_score_te0 = 0.859813084\n",
      "precision_train1 = 0.660544649 recall_train1 = 0.964847364 f1_score_train1 = 0.784210526\n",
      "precision_te1 = 0.685393258 recall_te1 = 0.983870968 f1_score_te1 = 0.807947020\n",
      "precision_train2 = 0.831292517 recall_train2 = 0.640461216 f1_score_train2 = 0.723505033\n",
      "precision_te2 = 0.851351351 recall_te2 = 0.642857143 f1_score_te2 = 0.732558140\n",
      "---------------Printing the Topics------------------\n",
      "beef potato like sauc filet fish best cream bread onion tast strip veget style bean portion lamb appet infus tofu fresh crispi delici size snow giovanni clam fri creativ delic quit oyster pate pound pork raw spinach plu fame shrimp tuna brown ponzu sprout barbecu tandoori side vinegar soup duck\n",
      "age us waitress ask barista friendli hostess liter span back said java custom gave server know friend greet could arriv weird z guy experi tell last someon spend give right amazingli terribl hey one reserv waiter ignor assur avoid incorrect without admit fair call small extrem fame check row mistak\n",
      "ceil scene feel wood booth sit air casual tone restaur kitchen plastic lend chestnut expos stapl soundtrack level energet jewel row trendi peac west typic museum match nquett spaciou sprout exot short hardwood suit far giovanni rub rail upbeat buzz color invit linen mario concern decor cute crumbl style depict\n",
      "---------------End of Topics------------------\n"
     ]
    },
    {
     "name": "stdout",
     "output_type": "stream",
     "text": [
      "The approximated perplexity is:  1.4604579861915228e+25\n",
      "##################################################\n",
      "##################################################\n",
      "Epoch 100, loss=194.8698858963816, accuracy_train=0.7793214862681744, accuracy_test=0.7994186046511628\n",
      "precision_train0 = 0.971649485 recall_train0 = 0.711320755 f1_score_train0 = 0.821350763\n",
      "precision_te0 = 1.000000000 recall_te0 = 0.737704918 f1_score_te0 = 0.849056604\n",
      "precision_train1 = 0.660126582 recall_train1 = 0.964847364 f1_score_train1 = 0.783915821\n",
      "precision_te1 = 0.677777778 recall_te1 = 0.983870968 f1_score_te1 = 0.802631579\n",
      "precision_train2 = 0.832205683 recall_train2 = 0.644654088 f1_score_train2 = 0.726520969\n",
      "precision_te2 = 0.851351351 recall_te2 = 0.642857143 f1_score_te2 = 0.732558140\n",
      "---------------Printing the Topics------------------\n",
      "beef potato like sauc filet fish best onion cream tast bread veget strip bean style portion lamb infus appet tofu fresh crispi delici snow clam size giovanni fri creativ delic oyster pate pork spinach quit pound raw shrimp ponzu side plu fame tuna tandoori brown barbecu sprout duck vinegar soup\n",
      "ask age us waitress barista friendli hostess liter back span said java custom gave server know friend could greet weird z arriv guy experi tell last someon give spend amazingli right terribl one reserv waiter hey ignor assur without avoid incorrect admit call check fair extrem row mistak fame happen\n",
      "ceil feel scene wood booth sit air restaur tone casual kitchen plastic lend expos chestnut stapl soundtrack level jewel energet row trendi nquett peac west museum typic match spaciou sprout short exot hardwood suit rail buzz decor upbeat far linen invit rub giovanni color mario depict crumbl cute style concern\n",
      "---------------End of Topics------------------\n",
      "The approximated perplexity is:  1.449332956773476e+25\n",
      "##################################################\n",
      "##################################################\n",
      "Epoch 105, loss=194.70847424958882, accuracy_train=0.7828756058158319, accuracy_test=0.8052325581395349\n",
      "precision_train0 = 0.970812183 recall_train0 = 0.721698113 f1_score_train0 = 0.827922078\n",
      "precision_te0 = 1.000000000 recall_te0 = 0.745901639 f1_score_te0 = 0.854460094\n",
      "precision_train1 = 0.659709045 recall_train1 = 0.964847364 f1_score_train1 = 0.783621337\n",
      "precision_te1 = 0.677777778 recall_te1 = 0.983870968 f1_score_te1 = 0.802631579\n",
      "precision_train2 = 0.847107438 recall_train2 = 0.644654088 f1_score_train2 = 0.732142857\n",
      "precision_te2 = 0.876712329 recall_te2 = 0.653061224 f1_score_te2 = 0.748538012\n",
      "---------------Printing the Topics------------------\n",
      "beef potato like filet sauc fish best onion tast cream bread veget bean strip style portion lamb infus tofu appet fresh crispi snow clam delici size creativ delic giovanni fri oyster pate pork spinach pound side shrimp ponzu raw quit duck tandoori plu tuna fame brown barbecu sprout soup vinegar\n",
      "ask age waitress us barista friendli hostess liter back span said java custom gave server know friend could z greet weird experi guy tell arriv last someon give amazingli spend one right reserv terribl waiter ignor hey without assur admit call check incorrect avoid fair row extrem mistak time repeatedli\n",
      "ceil feel scene wood booth sit air restaur tone casual plastic kitchen expos lend stapl chestnut level soundtrack jewel energet trendi nquett row west peac museum typic short spaciou hardwood match rail suit decor sprout exot buzz linen invit upbeat far color rub depict giovanni mario crumbl cute style concern\n",
      "---------------End of Topics------------------\n",
      "The approximated perplexity is:  1.3014527435237804e+25\n",
      "##################################################\n",
      "##################################################\n",
      "Epoch 110, loss=194.7017513877467, accuracy_train=0.7854604200323102, accuracy_test=0.8081395348837209\n",
      "precision_train0 = 0.972081218 recall_train0 = 0.722641509 f1_score_train0 = 0.829004329\n",
      "precision_te0 = 1.000000000 recall_te0 = 0.745901639 f1_score_te0 = 0.854460094\n",
      "precision_train1 = 0.662230672 recall_train1 = 0.966697502 f1_score_train1 = 0.786009778\n",
      "precision_te1 = 0.685393258 recall_te1 = 0.983870968 f1_score_te1 = 0.807947020\n",
      "precision_train2 = 0.850480110 recall_train2 = 0.649895178 f1_score_train2 = 0.736779560\n",
      "precision_te2 = 0.866666667 recall_te2 = 0.663265306 f1_score_te2 = 0.751445087\n",
      "---------------Printing the Topics------------------\n",
      "beef potato like filet sauc fish best tast onion cream veget bread bean strip portion style infus tofu lamb appet fresh crispi clam snow delic creativ size oyster pork delici pate giovanni fri spinach side ponzu shrimp pound duck raw tandoori quit soup plu barbecu sprout vinegar tuna fame brown\n",
      "ask age waitress us barista hostess friendli liter back said span custom java gave know server friend could experi z greet tell guy weird last arriv someon give one amazingli reserv waiter spend right terribl ignor hey without assur time admit call check avoid fair repeatedli mistak incorrect row extrem\n",
      "ceil feel scene wood booth sit restaur air tone casual expos plastic kitchen lend stapl soundtrack level chestnut jewel trendi energet nquett row west peac museum short spaciou typic decor rail hardwood match suit sprout exot buzz linen room invit upbeat depict color rub brick giovanni mario far cute tv\n",
      "---------------End of Topics------------------\n",
      "The approximated perplexity is:  1.3205264311201124e+25\n",
      "##################################################\n",
      "##################################################\n",
      "Epoch 115, loss=194.5552580180921, accuracy_train=0.7873990306946688, accuracy_test=0.8081395348837209\n",
      "precision_train0 = 0.973451327 recall_train0 = 0.726415094 f1_score_train0 = 0.831982712\n",
      "precision_te0 = 1.000000000 recall_te0 = 0.745901639 f1_score_te0 = 0.854460094\n",
      "precision_train1 = 0.662658228 recall_train1 = 0.968547641 f1_score_train1 = 0.786922210\n",
      "precision_te1 = 0.681564246 recall_te1 = 0.983870968 f1_score_te1 = 0.805280528\n",
      "precision_train2 = 0.856353591 recall_train2 = 0.649895178 f1_score_train2 = 0.738974970\n",
      "precision_te2 = 0.878378378 recall_te2 = 0.663265306 f1_score_te2 = 0.755813953\n",
      "---------------Printing the Topics------------------\n",
      "beef potato like filet sauc fish best tast onion cream veget bean bread strip portion style tofu infus lamb crispi fresh appet clam delic creativ snow oyster pork pate size spinach giovanni side delici fri ponzu shrimp duck raw pound tandoori sprout soup vinegar barbecu plu fame tuna brown tomato\n",
      "ask age waitress us barista hostess friendli back liter said span gave java custom know server experi friend could z greet tell guy last weird arriv someon one give reserv amazingli waiter ignor spend right terribl time hey without assur admit check call fair repeatedli mistak row avoid n concern\n",
      "ceil feel scene wood booth sit restaur air tone expos plastic casual lend kitchen stapl soundtrack level chestnut jewel nquett trendi energet west row spaciou short decor peac rail museum hardwood room typic suit match buzz sprout linen exot upbeat depict invit brick color mario lantern rub tv giovanni crumbl\n",
      "---------------End of Topics------------------\n",
      "The approximated perplexity is:  1.33705144498309e+25\n",
      "##################################################\n",
      "##################################################\n",
      "Epoch 120, loss=194.50026469983553, accuracy_train=0.7883683360258481, accuracy_test=0.813953488372093\n",
      "precision_train0 = 0.971141782 recall_train0 = 0.730188679 f1_score_train0 = 0.833602585\n",
      "precision_te0 = 1.000000000 recall_te0 = 0.754098361 f1_score_te0 = 0.859813084\n",
      "precision_train1 = 0.663284718 recall_train1 = 0.967622572 f1_score_train1 = 0.787057938\n",
      "precision_te1 = 0.685393258 recall_te1 = 0.983870968 f1_score_te1 = 0.807947020\n",
      "precision_train2 = 0.859916782 recall_train2 = 0.649895178 f1_score_train2 = 0.740298507\n",
      "precision_te2 = 0.891891892 recall_te2 = 0.673469388 f1_score_te2 = 0.767441860\n",
      "---------------Printing the Topics------------------\n",
      "beef potato like filet sauc fish best tast onion cream veget bean bread strip portion style tofu infus lamb crispi fresh delic appet clam creativ snow oyster pork pate spinach side size giovanni delici ponzu fri duck shrimp tandoori raw pound soup sprout vinegar barbecu tomato tart brown fame plu\n",
      "ask age waitress us barista hostess back friendli liter said span gave java custom know server experi friend z could greet tell guy last weird someon arriv one reserv give waiter amazingli time ignor right spend terribl hey without admit assur call check n repeatedli fair row mistak concern extrem\n",
      "feel ceil scene wood booth restaur sit tone air expos plastic casual lend kitchen soundtrack stapl level nquett chestnut trendi jewel energet west room spaciou decor short rail row peac hardwood museum typic suit linen buzz match upbeat sprout depict brick exot invit color lantern mario overlook tv countrysid low\n",
      "---------------End of Topics------------------\n",
      "The approximated perplexity is:  1.3292435967155676e+25\n",
      "##################################################\n"
     ]
    },
    {
     "name": "stdout",
     "output_type": "stream",
     "text": [
      "##################################################\n",
      "Epoch 125, loss=194.44520970394737, accuracy_train=0.789983844911147, accuracy_test=0.813953488372093\n",
      "precision_train0 = 0.973417722 recall_train0 = 0.725471698 f1_score_train0 = 0.831351351\n",
      "precision_te0 = 1.000000000 recall_te0 = 0.737704918 f1_score_te0 = 0.849056604\n",
      "precision_train1 = 0.666030534 recall_train1 = 0.968547641 f1_score_train1 = 0.789295138\n",
      "precision_te1 = 0.693181818 recall_te1 = 0.983870968 f1_score_te1 = 0.813333333\n",
      "precision_train2 = 0.858117326 recall_train2 = 0.659329140 f1_score_train2 = 0.745702430\n",
      "precision_te2 = 0.871794872 recall_te2 = 0.693877551 f1_score_te2 = 0.772727273\n",
      "---------------Printing the Topics------------------\n",
      "beef like potato filet sauc fish best tast onion cream veget bean bread tofu strip portion infus style lamb crispi fresh delic clam creativ snow oyster pork appet spinach pate side size ponzu duck giovanni delici fri shrimp tandoori raw pound soup barbecu vinegar sprout tomato tart fame bowl brown\n",
      "ask age waitress us barista hostess back liter friendli span said gave java custom know server experi friend z tell could greet guy last weird one someon time reserv arriv waiter give ignor amazingli right spend terribl admit without hey assur n call check repeatedli fair row concern mistak courteou\n",
      "feel ceil booth scene wood restaur sit tone expos air plastic lend casual kitchen soundtrack nquett stapl level trendi chestnut jewel energet room west spaciou decor short rail peac hardwood row museum linen suit buzz upbeat brick depict typic match sprout invit lantern exot mario color tv overlook countrysid noisi\n",
      "---------------End of Topics------------------\n",
      "The approximated perplexity is:  1.230409375153254e+25\n",
      "##################################################\n",
      "##################################################\n",
      "Epoch 130, loss=194.33948396381578, accuracy_train=0.787075928917609, accuracy_test=0.813953488372093\n",
      "precision_train0 = 0.973350254 recall_train0 = 0.723584906 f1_score_train0 = 0.830086580\n",
      "precision_te0 = 1.000000000 recall_te0 = 0.754098361 f1_score_te0 = 0.859813084\n",
      "precision_train1 = 0.660567823 recall_train1 = 0.968547641 f1_score_train1 = 0.785446362\n",
      "precision_te1 = 0.681564246 recall_te1 = 0.983870968 f1_score_te1 = 0.805280528\n",
      "precision_train2 = 0.861495845 recall_train2 = 0.651991614 f1_score_train2 = 0.742243437\n",
      "precision_te2 = 0.904109589 recall_te2 = 0.673469388 f1_score_te2 = 0.771929825\n",
      "---------------Printing the Topics------------------\n",
      "beef like filet potato sauc fish tast best onion cream veget bean tofu strip bread infus portion style lamb crispi fresh delic creativ clam snow oyster pork spinach side pate duck appet ponzu size giovanni delici fri shrimp tandoori pound barbecu soup raw vinegar tomato tart sprout fame bowl turkey\n",
      "ask age waitress us barista hostess back liter friendli span said java gave custom know server experi tell z friend could guy greet last time weird one someon reserv waiter ignor give arriv amazingli spend right terribl n admit without assur call hey check repeatedli fair row concern courteou extrem\n",
      "feel ceil booth scene wood restaur tone expos sit air plastic lend casual kitchen nquett soundtrack level stapl room energet trendi chestnut jewel west spaciou decor short rail hardwood row peac museum linen suit upbeat brick depict buzz sprout invit lantern match typic tv mario countrysid exot overlook noisi set\n",
      "---------------End of Topics------------------\n",
      "The approximated perplexity is:  1.2120928752473173e+25\n",
      "##################################################\n",
      "##################################################\n",
      "Epoch 135, loss=194.32136487458882, accuracy_train=0.7935379644588045, accuracy_test=0.8226744186046512\n",
      "precision_train0 = 0.975949367 recall_train0 = 0.727358491 f1_score_train0 = 0.833513514\n",
      "precision_te0 = 1.000000000 recall_te0 = 0.754098361 f1_score_te0 = 0.859813084\n",
      "precision_train1 = 0.669648562 recall_train1 = 0.969472710 f1_score_train1 = 0.792139078\n",
      "precision_te1 = 0.693181818 recall_te1 = 0.983870968 f1_score_te1 = 0.813333333\n",
      "precision_train2 = 0.860810811 recall_train2 = 0.667714885 f1_score_train2 = 0.752066116\n",
      "precision_te2 = 0.907894737 recall_te2 = 0.704081633 f1_score_te2 = 0.793103448\n",
      "---------------Printing the Topics------------------\n",
      "beef like filet potato sauc fish tast best onion cream bean veget tofu infus strip bread portion style lamb crispi fresh creativ delic oyster snow clam spinach pork side duck pate ponzu size appet giovanni tandoori shrimp fri barbecu pound delici soup raw tart tomato vinegar sprout turkey fame bowl\n",
      "ask age waitress us barista hostess back liter friendli span said java gave know custom server experi tell z friend could guy last greet time one weird reserv someon ignor waiter give amazingli arriv n terribl spend right admit without call assur hey check repeatedli row fair extrem concern courteou\n",
      "feel ceil booth wood scene restaur expos tone sit air plastic lend nquett casual room level kitchen soundtrack stapl chestnut energet jewel trendi west decor spaciou rail short hardwood linen row peac suit museum upbeat brick depict buzz invit sprout tv set lantern countrysid mario match overlook typic exot corner\n",
      "---------------End of Topics------------------\n",
      "The approximated perplexity is:  1.2098215640852193e+25\n",
      "##################################################\n",
      "##################################################\n",
      "Epoch 140, loss=194.1894711143092, accuracy_train=0.7932148626817448, accuracy_test=0.8197674418604651\n",
      "precision_train0 = 0.978288633 recall_train0 = 0.722641509 f1_score_train0 = 0.831253391\n",
      "precision_te0 = 1.000000000 recall_te0 = 0.754098361 f1_score_te0 = 0.859813084\n",
      "precision_train1 = 0.669437340 recall_train1 = 0.968547641 f1_score_train1 = 0.791682420\n",
      "precision_te1 = 0.689265537 recall_te1 = 0.983870968 f1_score_te1 = 0.810631229\n",
      "precision_train2 = 0.858288770 recall_train2 = 0.672955975 f1_score_train2 = 0.754406580\n",
      "precision_te2 = 0.906666667 recall_te2 = 0.693877551 f1_score_te2 = 0.786127168\n",
      "---------------Printing the Topics------------------\n",
      "beef like filet potato sauc fish tast onion best cream bean veget tofu infus strip bread portion lamb style crispi creativ delic fresh oyster duck spinach pork side snow clam ponzu pate size giovanni appet tandoori shrimp pound fri barbecu soup delici tart tomato vinegar raw sprout bowl turkey fame\n",
      "ask age waitress us barista hostess back liter friendli span said gave java know custom server experi tell z friend last time could guy greet one weird reserv ignor someon waiter give n amazingli arriv terribl admit spend right without call assur repeatedli check hey row extrem fair concern courteou\n",
      "feel ceil booth wood scene restaur expos tone sit air plastic lend nquett room casual level soundtrack stapl kitchen chestnut energet trendi jewel west decor rail short spaciou linen hardwood suit museum upbeat peac brick row depict buzz set tv lantern invit countrysid sprout overlook upholst mario match corner storefront\n",
      "---------------End of Topics------------------\n",
      "The approximated perplexity is:  1.1574798492437182e+25\n",
      "##################################################\n",
      "##################################################\n",
      "Epoch 145, loss=194.10867598684212, accuracy_train=0.7948303715670436, accuracy_test=0.8226744186046512\n",
      "precision_train0 = 0.977186312 recall_train0 = 0.727358491 f1_score_train0 = 0.833964305\n",
      "precision_te0 = 1.000000000 recall_te0 = 0.754098361 f1_score_te0 = 0.859813084\n",
      "precision_train1 = 0.671162492 recall_train1 = 0.966697502 f1_score_train1 = 0.792266869\n",
      "precision_te1 = 0.697142857 recall_te1 = 0.983870968 f1_score_te1 = 0.816053512\n",
      "precision_train2 = 0.859813084 recall_train2 = 0.675052411 f1_score_train2 = 0.756312390\n",
      "precision_te2 = 0.896103896 recall_te2 = 0.704081633 f1_score_te2 = 0.788571429\n",
      "---------------Printing the Topics------------------\n",
      "beef like filet potato sauc tast fish onion best bean veget cream tofu infus strip portion bread lamb style crispi creativ delic oyster duck side spinach ponzu pork fresh clam snow pate size giovanni appet tandoori shrimp pound barbecu fri soup tart tomato vinegar delici sprout bowl raw turkey fame\n",
      "ask age waitress us barista hostess back liter span friendli said gave java know custom experi server tell time z last friend guy greet could one ignor reserv weird someon waiter n amazingli give arriv terribl admit spend right call assur without repeatedli check hey extrem row fair concern courteou\n",
      "feel ceil booth wood scene restaur expos tone sit air plastic lend room nquett casual soundtrack level chestnut stapl energet trendi kitchen jewel west decor rail short spaciou linen hardwood suit upbeat museum brick set peac depict buzz row tv lantern countrysid invit upholst overlook mario corner sprout storefront match\n",
      "---------------End of Topics------------------\n",
      "The approximated perplexity is:  1.1878474133477109e+25\n",
      "##################################################\n"
     ]
    },
    {
     "name": "stdout",
     "output_type": "stream",
     "text": [
      "##################################################\n",
      "Epoch 150, loss=194.15679481907895, accuracy_train=0.7987075928917609, accuracy_test=0.8255813953488372\n",
      "precision_train0 = 0.976190476 recall_train0 = 0.734905660 f1_score_train0 = 0.838536060\n",
      "precision_te0 = 1.000000000 recall_te0 = 0.762295082 f1_score_te0 = 0.865116279\n",
      "precision_train1 = 0.673983215 recall_train1 = 0.965772433 f1_score_train1 = 0.793916350\n",
      "precision_te1 = 0.697142857 recall_te1 = 0.983870968 f1_score_te1 = 0.816053512\n",
      "precision_train2 = 0.867647059 recall_train2 = 0.680293501 f1_score_train2 = 0.762632197\n",
      "precision_te2 = 0.907894737 recall_te2 = 0.704081633 f1_score_te2 = 0.793103448\n",
      "---------------Printing the Topics------------------\n",
      "beef like filet potato sauc tast onion fish best bean veget cream tofu infus strip portion bread lamb style crispi delic creativ oyster duck side ponzu spinach pork pate fresh snow clam size giovanni pound tandoori shrimp barbecu soup tomato tart appet fri sprout vinegar bowl turkey raw delici varieti\n",
      "ask age waitress barista us hostess back span liter friendli said gave java know custom experi server tell time last z friend guy greet could one ignor reserv weird someon waiter n amazingli give admit terribl arriv spend right call assur without repeatedli check hey extrem fair row concern want\n",
      "feel ceil booth wood restaur scene expos tone sit air plastic room lend nquett casual soundtrack level chestnut trendi stapl energet jewel west kitchen rail decor short spaciou linen hardwood suit set upbeat museum brick depict peac buzz row countrysid tv lantern invit upholst overlook corner storefront mario low sprout\n",
      "---------------End of Topics------------------\n",
      "The approximated perplexity is:  1.1259949734960066e+25\n",
      "##################################################\n",
      "##################################################\n",
      "Epoch 155, loss=194.03528346011512, accuracy_train=0.7977382875605816, accuracy_test=0.8226744186046512\n",
      "precision_train0 = 0.977215190 recall_train0 = 0.728301887 f1_score_train0 = 0.834594595\n",
      "precision_te0 = 1.000000000 recall_te0 = 0.745901639 f1_score_te0 = 0.854460094\n",
      "precision_train1 = 0.672891178 recall_train1 = 0.966697502 f1_score_train1 = 0.793470008\n",
      "precision_te1 = 0.691011236 recall_te1 = 0.991935484 f1_score_te1 = 0.814569536\n",
      "precision_train2 = 0.867021277 recall_train2 = 0.683438155 f1_score_train2 = 0.764361079\n",
      "precision_te2 = 0.920000000 recall_te2 = 0.704081633 f1_score_te2 = 0.797687861\n",
      "---------------Printing the Topics------------------\n",
      "beef like filet potato sauc tast onion fish bean best tofu veget cream infus strip portion lamb bread crispi style delic creativ oyster duck side ponzu pate spinach snow pork fresh clam giovanni size pound tandoori soup barbecu tomato tart shrimp sprout vinegar bowl fri turkey raw appet varieti brown\n",
      "ask age waitress barista us hostess back span liter friendli said gave java know experi custom server time tell last z friend guy could greet one ignor reserv weird n someon waiter amazingli admit terribl give arriv spend call right assur repeatedli without check hey fair extrem concern row want\n",
      "feel ceil booth restaur wood expos scene tone air plastic sit room nquett lend soundtrack casual level trendi stapl chestnut energet jewel west rail short decor spaciou kitchen linen hardwood suit set upbeat museum brick depict peac buzz row tv countrysid lantern invit upholst overlook storefront corner mario low noisi\n",
      "---------------End of Topics------------------\n",
      "The approximated perplexity is:  1.1212267308411807e+25\n",
      "##################################################\n",
      "##################################################\n",
      "Epoch 160, loss=194.08799599095394, accuracy_train=0.8003231017770598, accuracy_test=0.8284883720930233\n",
      "precision_train0 = 0.979721166 recall_train0 = 0.729245283 f1_score_train0 = 0.836127637\n",
      "precision_te0 = 1.000000000 recall_te0 = 0.754098361 f1_score_te0 = 0.859813084\n",
      "precision_train1 = 0.676604018 recall_train1 = 0.965772433 f1_score_train1 = 0.795731707\n",
      "precision_te1 = 0.702857143 recall_te1 = 0.991935484 f1_score_te1 = 0.822742475\n",
      "precision_train2 = 0.865006553 recall_train2 = 0.691823899 f1_score_train2 = 0.768782761\n",
      "precision_te2 = 0.909090909 recall_te2 = 0.714285714 f1_score_te2 = 0.800000000\n",
      "---------------Printing the Topics------------------\n",
      "beef like filet potato sauc tast onion bean fish best tofu veget cream infus strip portion lamb bread crispi style delic creativ oyster duck pate ponzu side spinach snow pork clam fresh pound giovanni tandoori size barbecu tart soup tomato sprout vinegar shrimp bowl varieti raw fri turkey squash brown\n",
      "ask age waitress barista hostess us back span liter said friendli java gave know experi custom time server tell z last guy friend could greet ignor one reserv n weird someon waiter amazingli admit terribl give arriv spend call assur repeatedli right without hey check fair concern want extrem row\n",
      "feel ceil booth restaur expos wood tone scene room lend plastic air nquett sit soundtrack level casual stapl energet trendi chestnut jewel rail west linen short spaciou decor hardwood set suit kitchen upbeat museum brick buzz peac depict row countrysid tv lantern storefront invit upholst corner overlook low mario noisi\n",
      "---------------End of Topics------------------\n",
      "The approximated perplexity is:  1.1526407540779287e+25\n",
      "##################################################\n",
      "##################################################\n",
      "Epoch 165, loss=194.00992238898027, accuracy_train=0.802907915993538, accuracy_test=0.8284883720930233\n",
      "precision_train0 = 0.977386935 recall_train0 = 0.733962264 f1_score_train0 = 0.838362069\n",
      "precision_te0 = 1.000000000 recall_te0 = 0.754098361 f1_score_te0 = 0.859813084\n",
      "precision_train1 = 0.681254082 recall_train1 = 0.964847364 f1_score_train1 = 0.798621746\n",
      "precision_te1 = 0.702857143 recall_te1 = 0.991935484 f1_score_te1 = 0.822742475\n",
      "precision_train2 = 0.864583333 recall_train2 = 0.696016771 f1_score_train2 = 0.771196283\n",
      "precision_te2 = 0.909090909 recall_te2 = 0.714285714 f1_score_te2 = 0.800000000\n",
      "---------------Printing the Topics------------------\n",
      "beef like filet potato sauc tast onion bean fish best tofu veget cream infus strip portion lamb bread crispi style delic creativ pate duck ponzu oyster side spinach snow pork clam fresh pound giovanni tart barbecu tandoori tomato soup sprout vinegar size varieti bowl raw shrimp turkey brown fri squash\n",
      "ask age waitress barista hostess us back span said liter friendli java gave know experi custom time server tell z last guy friend ignor greet one could reserv weird n someon waiter amazingli admit terribl give arriv call spend assur repeatedli right hey without check fair want concern extrem courteou\n",
      "feel ceil booth restaur expos tone wood scene room lend plastic nquett air sit soundtrack level casual stapl energet trendi jewel chestnut rail linen west spaciou short decor set hardwood suit upbeat kitchen museum brick buzz depict peac countrysid lantern tv row storefront upholst invit corner low overlook mario hang\n",
      "---------------End of Topics------------------\n",
      "The approximated perplexity is:  1.1380547497225271e+25\n",
      "##################################################\n",
      "##################################################\n",
      "Epoch 170, loss=193.90173211348684, accuracy_train=0.8025848142164782, accuracy_test=0.8313953488372093\n",
      "precision_train0 = 0.978562421 recall_train0 = 0.732075472 f1_score_train0 = 0.837560712\n",
      "precision_te0 = 1.000000000 recall_te0 = 0.754098361 f1_score_te0 = 0.859813084\n",
      "precision_train1 = 0.681254082 recall_train1 = 0.964847364 f1_score_train1 = 0.798621746\n",
      "precision_te1 = 0.706896552 recall_te1 = 0.991935484 f1_score_te1 = 0.825503356\n",
      "precision_train2 = 0.862516213 recall_train2 = 0.697064990 f1_score_train2 = 0.771014493\n",
      "precision_te2 = 0.910256410 recall_te2 = 0.724489796 f1_score_te2 = 0.806818182\n",
      "---------------Printing the Topics------------------\n",
      "beef like filet potato sauc tast onion bean tofu fish best cream veget infus strip portion lamb crispi bread pate creativ style delic ponzu duck oyster side spinach snow clam pork fresh pound barbecu tart tomato tandoori giovanni soup sprout vinegar varieti bowl size squash raw brown turkey remark shrimp\n",
      "ask age waitress barista hostess us back span said liter friendli java gave know experi time custom tell server z guy last ignor friend greet one could reserv n weird someon waiter amazingli admit terribl assur call arriv spend give repeatedli hey right without check fair want concern row courteou\n",
      "feel ceil booth expos tone restaur wood scene room lend nquett plastic air sit soundtrack level casual energet stapl trendi rail linen jewel chestnut spaciou west set hardwood short decor upbeat suit museum kitchen buzz brick tv depict lantern countrysid peac storefront row upholst invit low corner hang overlook mario\n",
      "---------------End of Topics------------------\n",
      "The approximated perplexity is:  1.1491946161051647e+25\n",
      "##################################################\n"
     ]
    },
    {
     "name": "stdout",
     "output_type": "stream",
     "text": [
      "##################################################\n",
      "Epoch 175, loss=193.8511988589638, accuracy_train=0.8003231017770598, accuracy_test=0.8226744186046512\n",
      "precision_train0 = 0.978398983 recall_train0 = 0.726415094 f1_score_train0 = 0.833784515\n",
      "precision_te0 = 1.000000000 recall_te0 = 0.737704918 f1_score_te0 = 0.849056604\n",
      "precision_train1 = 0.678153446 recall_train1 = 0.964847364 f1_score_train1 = 0.796487209\n",
      "precision_te1 = 0.694915254 recall_te1 = 0.991935484 f1_score_te1 = 0.817275748\n",
      "precision_train2 = 0.862337662 recall_train2 = 0.696016771 f1_score_train2 = 0.770301624\n",
      "precision_te2 = 0.909090909 recall_te2 = 0.714285714 f1_score_te2 = 0.800000000\n",
      "---------------Printing the Topics------------------\n",
      "beef like filet potato tast sauc onion bean tofu fish cream best veget infus strip portion crispi lamb pate creativ delic ponzu style duck bread oyster snow side spinach clam pork fresh barbecu tart pound tomato tandoori soup vinegar varieti sprout bowl giovanni squash brown remark raw turkey size fri\n",
      "ask waitress age barista hostess us span back said liter friendli gave java know experi time custom tell server z guy last ignor friend greet one reserv could n weird someon waiter amazingli admit assur terribl call spend arriv repeatedli give hey fair want concern without check right request row\n",
      "feel ceil booth expos tone restaur wood scene room lend nquett plastic air soundtrack sit level casual energet stapl trendi rail linen jewel chestnut spaciou set hardwood west upbeat suit short decor museum buzz tv brick kitchen depict lantern countrysid storefront row invit upholst peac low corner hang overlook mario\n",
      "---------------End of Topics------------------\n",
      "The approximated perplexity is:  1.1655304474544753e+25\n",
      "##################################################\n",
      "##################################################\n",
      "Epoch 180, loss=193.81988461143092, accuracy_train=0.8032310177705977, accuracy_test=0.8284883720930233\n",
      "precision_train0 = 0.978508217 recall_train0 = 0.730188679 f1_score_train0 = 0.836304700\n",
      "precision_te0 = 1.000000000 recall_te0 = 0.754098361 f1_score_te0 = 0.859813084\n",
      "precision_train1 = 0.681699346 recall_train1 = 0.964847364 f1_score_train1 = 0.798927614\n",
      "precision_te1 = 0.698863636 recall_te1 = 0.991935484 f1_score_te1 = 0.820000000\n",
      "precision_train2 = 0.864341085 recall_train2 = 0.701257862 f1_score_train2 = 0.774305556\n",
      "precision_te2 = 0.921052632 recall_te2 = 0.714285714 f1_score_te2 = 0.804597701\n",
      "---------------Printing the Topics------------------\n",
      "beef like filet potato tast onion bean sauc tofu cream veget fish best infus strip crispi pate portion lamb creativ delic ponzu duck snow style oyster spinach side bread clam pork barbecu tart fresh pound tomato bowl soup sprout vinegar tandoori varieti giovanni squash brown remark raw turkey soy fri\n",
      "ask waitress age barista hostess span us said liter back friendli gave java know experi time custom tell z server guy ignor last friend greet reserv one n could weird someon waiter amazingli admit assur call terribl spend arriv repeatedli hey give fair concern want check without right request extrem\n",
      "feel ceil booth expos tone restaur wood scene room lend nquett plastic air soundtrack level casual sit energet trendi stapl rail linen jewel spaciou chestnut set hardwood suit upbeat west short decor museum tv buzz depict storefront brick countrysid row kitchen lantern invit low upholst hang peac corner overlook mario\n",
      "---------------End of Topics------------------\n",
      "The approximated perplexity is:  1.0418934570631099e+25\n",
      "##################################################\n",
      "##################################################\n",
      "Epoch 185, loss=193.7287687602796, accuracy_train=0.805815831987076, accuracy_test=0.8255813953488372\n",
      "precision_train0 = 0.978562421 recall_train0 = 0.732075472 f1_score_train0 = 0.837560712\n",
      "precision_te0 = 1.000000000 recall_te0 = 0.745901639 f1_score_te0 = 0.854460094\n",
      "precision_train1 = 0.685282523 recall_train1 = 0.964847364 f1_score_train1 = 0.801383020\n",
      "precision_te1 = 0.698863636 recall_te1 = 0.991935484 f1_score_te1 = 0.820000000\n",
      "precision_train2 = 0.865384615 recall_train2 = 0.707547170 f1_score_train2 = 0.778546713\n",
      "precision_te2 = 0.909090909 recall_te2 = 0.714285714 f1_score_te2 = 0.800000000\n",
      "---------------Printing the Topics------------------\n",
      "beef like filet potato onion bean tast sauc tofu cream veget best fish infus strip pate crispi portion creativ lamb ponzu delic snow duck oyster spinach style side clam bread pork barbecu tart pound sprout bowl tomato fresh vinegar soup tandoori varieti squash remark giovanni brown raw turkey soy scallop\n",
      "ask age waitress barista hostess span said us liter back gave java know friendli experi time custom tell ignor z guy server last friend reserv greet n one weird could someon waiter amazingli admit call terribl assur spend hey repeatedli fair arriv concern give want check without right request rush\n",
      "feel ceil booth expos tone restaur wood scene room plastic nquett lend air soundtrack level casual energet sit trendi stapl rail linen spaciou jewel suit set hardwood chestnut upbeat west short decor museum tv buzz storefront depict brick countrysid row low lantern hang invit upholst peac kitchen corner overlook mario\n",
      "---------------End of Topics------------------\n",
      "The approximated perplexity is:  1.1182396280188762e+25\n",
      "##################################################\n",
      "##################################################\n",
      "Epoch 190, loss=193.66907894736843, accuracy_train=0.8077544426494345, accuracy_test=0.8226744186046512\n",
      "precision_train0 = 0.979848866 recall_train0 = 0.733962264 f1_score_train0 = 0.839266451\n",
      "precision_te0 = 1.000000000 recall_te0 = 0.737704918 f1_score_te0 = 0.849056604\n",
      "precision_train1 = 0.688448845 recall_train1 = 0.964847364 f1_score_train1 = 0.803543914\n",
      "precision_te1 = 0.702857143 recall_te1 = 0.991935484 f1_score_te1 = 0.822742475\n",
      "precision_train2 = 0.863867684 recall_train2 = 0.711740042 f1_score_train2 = 0.780459770\n",
      "precision_te2 = 0.886075949 recall_te2 = 0.714285714 f1_score_te2 = 0.790960452\n",
      "---------------Printing the Topics------------------\n",
      "beef like filet potato onion bean tast tofu sauc cream veget infus best fish strip pate crispi creativ portion ponzu lamb delic snow duck oyster spinach side style clam pork barbecu bread tart sprout pound bowl tomato vinegar tandoori varieti fresh soup remark squash brown giovanni soy turkey raw scallop\n",
      "ask waitress age barista hostess span said us liter back gave java know friendli experi time custom tell ignor z guy server last n reserv friend greet one weird could someon waiter amazingli admit terribl call assur spend hey fair repeatedli concern arriv want give request check right without rush\n",
      "feel ceil booth expos tone restaur wood scene room plastic nquett lend air soundtrack level energet casual trendi rail stapl linen sit spaciou suit jewel hardwood set chestnut upbeat west museum decor short tv buzz storefront depict row countrysid lantern hang low brick upholst invit peac overlook kitchen corner mario\n",
      "---------------End of Topics------------------\n",
      "The approximated perplexity is:  9.999027031911836e+24\n",
      "##################################################\n",
      "##################################################\n",
      "Epoch 195, loss=193.6408511513158, accuracy_train=0.8067851373182553, accuracy_test=0.8197674418604651\n",
      "precision_train0 = 0.981060606 recall_train0 = 0.733018868 f1_score_train0 = 0.839092873\n",
      "precision_te0 = 1.000000000 recall_te0 = 0.737704918 f1_score_te0 = 0.849056604\n",
      "precision_train1 = 0.686390533 recall_train1 = 0.965772433 f1_score_train1 = 0.802459646\n",
      "precision_te1 = 0.698863636 recall_te1 = 0.991935484 f1_score_te1 = 0.820000000\n",
      "precision_train2 = 0.864450128 recall_train2 = 0.708595388 f1_score_train2 = 0.778801843\n",
      "precision_te2 = 0.884615385 recall_te2 = 0.704081633 f1_score_te2 = 0.784090909\n",
      "---------------Printing the Topics------------------\n",
      "beef like filet potato onion bean tofu tast sauc cream veget infus best fish pate strip crispi creativ ponzu portion lamb snow delic duck oyster spinach side style clam barbecu pork tart sprout bowl pound tomato bread varieti tandoori remark vinegar squash fresh soup brown soy giovanni turkey scallop raw\n",
      "ask waitress age barista hostess span said us liter gave java back know friendli time experi custom ignor tell guy z server last n reserv friend weird greet one someon could waiter amazingli terribl admit call assur spend repeatedli hey fair concern want arriv give request right rush without check\n",
      "feel ceil booth expos tone wood restaur scene room plastic nquett lend air soundtrack level energet casual rail trendi stapl linen spaciou suit sit hardwood set jewel upbeat west chestnut museum decor tv buzz storefront short depict hang lantern countrysid row low upholst brick invit peac overlook corner kitchen deck\n",
      "---------------End of Topics------------------\n",
      "The approximated perplexity is:  9.945383513714474e+24\n",
      "##################################################\n"
     ]
    }
   ],
   "source": [
    "for epoch in range(num_epoch):\n",
    "    loss_epoch = 0.0\n",
    "    model.train()                    # switch to training mode\n",
    "    for input_, label_ in train_dl:\n",
    "        recon, loss = model(input_, compute_loss=True)\n",
    "        # optimize\n",
    "        optimizer.zero_grad()        # clear previous gradients\n",
    "        loss.backward()              # backprop\n",
    "        optimizer.step()             # update parameters\n",
    "        # report\n",
    "        loss_epoch += loss.item()    # add loss to loss_epoch\n",
    "    if epoch % 5 == 0:\n",
    "        model.eval()\n",
    "        # Test Model\n",
    "        pred_test = []\n",
    "        label_test = []\n",
    "        \n",
    "        pred_train = []\n",
    "        label_train = []\n",
    "        \n",
    "        for x_train, y_train in train_dl:\n",
    "            encoded, theta_mean, theta_logvar = model.encode(x_train)\n",
    "            temp_theta_mean = theta_mean.argmax(-1).int().data.cpu().tolist()\n",
    "            temp_y_train = y_train.argmax(-1).flatten().data.cpu().tolist()\n",
    "            \n",
    "            pred_train.extend(temp_theta_mean)\n",
    "            label_train.extend(temp_y_train)\n",
    "        \n",
    "        accuracy_train, precision_train, recall_train, f1_score_train = compute_accuracy(pred_train, label_train)\n",
    "        \n",
    "        for x_test, y_test in test_dl:\n",
    "            encoded, theta_mean, theta_logvar = model.encode(x_test)\n",
    "            temp_theta_mean = theta_mean.argmax(-1).int().data.cpu().tolist()\n",
    "            temp_y_test = y_test.argmax(-1).flatten().data.cpu().tolist()\n",
    "            \n",
    "            pred_test.extend(temp_theta_mean)\n",
    "            label_test.extend(temp_y_test)\n",
    "        \n",
    "        accuracy_test, precision_test, recall_test, f1_score_test = compute_accuracy(pred_test, label_test)\n",
    "        print (\"##################################################\")\n",
    "        print('Epoch {}, loss={}, accuracy_train={}, accuracy_test={}'.format(epoch, loss_epoch / len(input_), accuracy_train, accuracy_test))\n",
    "        for k in range(num_topic):\n",
    "            print (\"precision_train{}\".format(k), \"=\" , \"{:.9f}\".format(precision_train[k]), \\\n",
    "                 \"recall_train{}\".format(k), \"=\" , \"{:.9f}\".format(recall_train[k]), \\\n",
    "                 \"f1_score_train{}\".format(k), \"=\" , \"{:.9f}\".format(f1_score_train[k]))\n",
    "            print (\"precision_te{}\".format(k), \"=\" , \"{:.9f}\".format(precision_test[k]), \\\n",
    "                 \"recall_te{}\".format(k), \"=\" , \"{:.9f}\".format(recall_test[k]), \\\n",
    "                 \"f1_score_te{}\".format(k), \"=\" , \"{:.9f}\".format(f1_score_test[k]))\n",
    "        emb = model.de_fc.weight.data.detach().cpu().numpy().T\n",
    "        print_top_words(emb, vocab, 50)\n",
    "        print_perp(model)\n",
    "        print (\"##################################################\")        "
   ]
  },
  {
   "cell_type": "code",
   "execution_count": 74,
   "metadata": {},
   "outputs": [
    {
     "name": "stdout",
     "output_type": "stream",
     "text": [
      "935 food 0 1 [0.24595784 0.3870817  0.36696047]\n",
      "88 sauc 0 1 [0.31352574 0.42684886 0.2596254 ]\n",
      "2681 chicken 0 1 [0.33490267 0.36519474 0.2999026 ]\n",
      "2414 shrimp 0 1 [0.2880804  0.50886166 0.20305803]\n",
      "1381 chees 0 1 [0.3767699  0.38622332 0.23700683]\n",
      "1496 potato 0 0 [0.33675858 0.33401498 0.32922643]\n",
      "105 fri 0 0 [0.3889548  0.30007634 0.31096888]\n",
      "546 tomato 0 0 [0.39967844 0.30169657 0.29862502]\n",
      "1347 roast 0 1 [0.33251235 0.38775107 0.2797366 ]\n",
      "642 onion 0 1 [0.28705537 0.40573317 0.3072115 ]\n",
      "2272 pork 0 0 [0.4894018  0.2893374  0.22126083]\n",
      "872 goat 0 2 [0.33823565 0.3224413  0.339323  ]\n",
      "1005 grill 0 0 [0.39769867 0.2891534  0.31314793]\n",
      "124 tuna 0 0 [0.46757928 0.30141896 0.23100173]\n",
      "1159 salad 0 0 [0.40836665 0.27846602 0.31316736]\n",
      "2188 beef 0 2 [0.33822003 0.29866228 0.3631177 ]\n",
      "601 tapa 0 2 [0.30566978 0.3176589  0.3766713 ]\n",
      "1991 staff 1 1 [0.15459736 0.6057356  0.23966707]\n",
      "1425 servic 1 1 [0.1352211  0.6547911  0.20998779]\n",
      "1137 friendli 1 1 [0.21449628 0.5812381  0.2042656 ]\n",
      "1009 rude 1 1 [0.19133195 0.56526977 0.24339826]\n",
      "452 hostess 1 1 [0.17214593 0.59670407 0.2311501 ]\n",
      "1592 waiter 1 1 [0.15355699 0.6505271  0.19591588]\n",
      "584 bartend 1 1 [0.17678523 0.55968606 0.26352862]\n",
      "711 waitress 1 1 [0.18228295 0.59990937 0.21780771]\n",
      "1012 help 1 1 [0.18406215 0.5709695  0.24496837]\n",
      "216 polit 1 1 [0.18990298 0.54851055 0.26158643]\n",
      "1401 bar 1 1 [0.20411952 0.5940338  0.20184667]\n",
      "1962 courteou 1 1 [0.21472275 0.48235255 0.3029247 ]\n",
      "2722 member 1 1 [0.17944668 0.6068101  0.21374327]\n",
      "368 waitstaff 1 1 [0.15986885 0.6392529  0.20087825]\n",
      "685 attitud 1 1 [0.17592426 0.62023795 0.20383781]\n",
      "1815 reserv 1 1 [0.1557993  0.66441375 0.17978701]\n",
      "2252 tip 1 1 [0.2036331  0.56355375 0.23281318]\n",
      "2529 atmospher 2 2 [0.2587532  0.26514295 0.47610378]\n",
      "579 scene 2 2 [0.31581005 0.24972834 0.43446165]\n",
      "2318 place 2 2 [0.27136034 0.2089001  0.51973957]\n",
      "2199 tabl 2 1 [0.3112319  0.37878627 0.3099818 ]\n",
      "575 outsid 2 2 [0.20616598 0.36197916 0.43185496]\n",
      "965 area 2 2 [0.20862313 0.22494948 0.5664274 ]\n",
      "463 ambianc 2 2 [0.21843089 0.2629744  0.51859474]\n",
      "1675 outdoor 2 2 [0.23479831 0.35081786 0.41438383]\n",
      "1589 romant 2 1 [0.24805641 0.4175589  0.33438465]\n",
      "2616 cozi 2 2 [0.32516843 0.21133077 0.4635008 ]\n",
      "457 decor 2 2 [0.31527993 0.23705602 0.44766408]\n",
      "1942 sit 2 2 [0.3487994  0.16519694 0.48600367]\n",
      "2705 wall 2 2 [0.26953587 0.1641333  0.5663308 ]\n",
      "2643 light 2 2 [0.18359089 0.24110642 0.57530266]\n",
      "864 window 2 2 [0.28371304 0.25944683 0.45684013]\n",
      "965 area 2 2 [0.20862313 0.22494948 0.5664274 ]\n",
      "85 ceil 2 2 [0.22434339 0.1757554  0.5999012 ]\n",
      "161 floor 2 2 [0.2506435  0.16406873 0.5852878 ]\n"
     ]
    }
   ],
   "source": [
    "model.eval()\n",
    "gamma_mean, gamma_logvar = model.gamma()\n",
    "gm, gl = gamma_mean.data.cpu().numpy(), gamma_logvar.data.cpu().numpy()\n",
    "print_gamma(gm, seed_words, vocab, vocab2id)"
   ]
  },
  {
   "cell_type": "code",
   "execution_count": 61,
   "metadata": {
    "scrolled": true
   },
   "outputs": [
    {
     "name": "stderr",
     "output_type": "stream",
     "text": [
      "/home/huylb314/anaconda3/envs/avi/lib/python3.6/site-packages/sklearn/metrics/_classification.py:1268: UndefinedMetricWarning: Precision and F-score are ill-defined and being set to 0.0 in labels with no predicted samples. Use `zero_division` parameter to control this behavior.\n",
      "  _warn_prf(average, modifier, msg_start, len(result))\n"
     ]
    },
    {
     "name": "stdout",
     "output_type": "stream",
     "text": [
      "##################################################\n",
      "Epoch 0, loss=199.15332673725328, accuracy_train=0.3150242326332795, accuracy_test=0.29651162790697677\n",
      "precision_train0 = 0.884615385 recall_train0 = 0.021698113 f1_score_train0 = 0.042357274\n",
      "precision_te0 = 0.800000000 recall_te0 = 0.032786885 f1_score_te0 = 0.062992126\n",
      "precision_train1 = 0.000000000 recall_train1 = 0.000000000 f1_score_train1 = 0.000000000\n",
      "precision_te1 = 0.000000000 recall_te1 = 0.000000000 f1_score_te1 = 0.000000000\n",
      "precision_train2 = 0.310198762 recall_train2 = 0.997903564 f1_score_train2 = 0.473278648\n",
      "precision_te2 = 0.289085546 recall_te2 = 1.000000000 f1_score_te2 = 0.448512586\n",
      "---------------Printing the Topics------------------\n",
      "knock toast modern rose favourit nightli black vintag bubbl thousand linen impecc bead even duck anywher cow watercress heel jean magic begin piquant cafeteria soar thrown ramen leav piano quit lob stripe prompt glow fantast craft present forev ning somehow brac bud ahead held brasseri seem pollo woman tradit ether\n",
      "portion iron ent tomato zimbabw languag final greet pea pizza look green romant start right veget train pita soul chowder shabbi collect serv air line wing blast polit meati patti spinach octopu franchis mexico advis guest wed world trim napoleon tequila thu nquett slope ultra yum bond correct slide chair\n",
      "steak dessert experi hostess brasseri back major jersey truffl even third brac asid none eggplant summer steamer gravi meal honor variou east bbq bear earn die chair upscal strong cramp chile tacki leav counter order crabcak nobodi inform ave id border acknowledg love respons onto zimbabw regard mural salt blue\n",
      "---------------End of Topics------------------\n",
      "The approximated perplexity is:  3.922538384327864e+25\n",
      "##################################################\n",
      "##################################################\n",
      "Epoch 5, loss=198.70121042351974, accuracy_train=0.5567043618739903, accuracy_test=0.5465116279069767\n",
      "precision_train0 = 0.664723032 recall_train0 = 0.860377358 f1_score_train0 = 0.750000000\n",
      "precision_te0 = 0.720000000 recall_te0 = 0.885245902 f1_score_te0 = 0.794117647\n",
      "precision_train1 = 0.232558140 recall_train1 = 0.009250694 f1_score_train1 = 0.017793594\n",
      "precision_te1 = 0.000000000 recall_te1 = 0.000000000 f1_score_te1 = 0.000000000\n",
      "precision_train2 = 0.476785714 recall_train2 = 0.839622642 f1_score_train2 = 0.608200456\n",
      "precision_te2 = 0.432432432 recall_te2 = 0.816326531 f1_score_te2 = 0.565371025\n",
      "---------------Printing the Topics------------------\n",
      "black even rose duck bubbl toast leav brasseri brac bead impecc ahead wed begin quit lob knock jean soar anywher nightli modern pizza cafeteria vintag linen seem somehow favourit cow nobu raw fantast wallet thousand present stripe piano bud build prompt craft yet magic improv bell tradit money new felt\n",
      "zimbabw portion tomato languag romant world start pea greet pizza line ent veget look green train right peopl iron wed polit select franchis wing final air serv chair span napoleon soul loaf screw lemon tequila havana thu someth yum correct octopu add fine patti bottom domin collect light fat bond\n",
      "back dessert even none steak brasseri chair die question blue major truffl leav upscal hostess order experi salt eggplant variou crabcak east brac meal mural love cramp strong sconc third light regard chile basic bubbl zimbabw asid acknowledg summer onto id respons miso wed cover bbq counter add jersey entranc\n",
      "---------------End of Topics------------------\n",
      "The approximated perplexity is:  3.4690344837067998e+25\n",
      "##################################################\n",
      "##################################################\n",
      "Epoch 10, loss=198.26227513363486, accuracy_train=0.6468497576736673, accuracy_test=0.6395348837209303\n",
      "precision_train0 = 0.862162162 recall_train0 = 0.601886792 f1_score_train0 = 0.708888889\n",
      "precision_te0 = 0.902777778 recall_te0 = 0.532786885 f1_score_te0 = 0.670103093\n",
      "precision_train1 = 0.522300469 recall_train1 = 0.823311748 f1_score_train1 = 0.639138241\n",
      "precision_te1 = 0.524509804 recall_te1 = 0.862903226 f1_score_te1 = 0.652439024\n",
      "precision_train2 = 0.728110599 recall_train2 = 0.496855346 f1_score_train2 = 0.590654206\n",
      "precision_te2 = 0.705882353 recall_te2 = 0.489795918 f1_score_te2 = 0.578313253\n",
      "---------------Printing the Topics------------------\n",
      "black duck even rose wed pizza leav bubbl brasseri brac lob begin raw quit toast impecc seem ahead build present nobu bead felt jean anywher yet soar wallet nightli new somehow arepa crabcak simpl rice bud money regard fantast bell knock cafeteria havana music craft linen silverwar panini modern thu\n",
      "zimbabw portion world romant tomato line peopl greet start pizza pea look select wed veget languag ent add train franchis right polit lemon chair someth wing span air serv loaf napoleon green pm fine screw havana soul domin final iron thu light tequila correct theme yum part octopu bottom genuin\n",
      "even chair dessert back die none question leav light steak salt blue brac brasseri order hostess upscal crabcak zimbabw sconc variou basic love east wed bubbl truffl cramp meal major eggplant miso chile strong regard music cover build experi mural add panini respons eaten third acknowledg asid waitor hear id\n",
      "---------------End of Topics------------------\n",
      "The approximated perplexity is:  3.55305278765599e+25\n",
      "##################################################\n",
      "##################################################\n",
      "Epoch 15, loss=198.13798828125, accuracy_train=0.6794830371567043, accuracy_test=0.6802325581395349\n",
      "precision_train0 = 0.795298727 recall_train0 = 0.766037736 f1_score_train0 = 0.780394041\n",
      "precision_te0 = 0.823008850 recall_te0 = 0.762295082 f1_score_te0 = 0.791489362\n",
      "precision_train1 = 0.658049354 recall_train1 = 0.518038853 f1_score_train1 = 0.579710145\n",
      "precision_te1 = 0.677419355 recall_te1 = 0.508064516 f1_score_te1 = 0.580645161\n",
      "precision_train2 = 0.597710548 recall_train2 = 0.766247379 f1_score_train2 = 0.671566376\n",
      "precision_te2 = 0.565217391 recall_te2 = 0.795918367 f1_score_te2 = 0.661016949\n",
      "---------------Printing the Topics------------------\n",
      "black duck rose even wed pizza leav brasseri brac bubbl lob raw felt rice build seem begin simpl arepa quit yet toast impecc present crabcak nobu wallet ahead havana regard panini origin new thu jean bell bud anywher money music udon sunday orlean swim craft bead great enough somehow silverwar\n",
      "zimbabw line portion world romant tomato peopl pizza greet start select pea add veget wed someth look ent pm chair loaf languag lemon wing span serv screw polit soul train franchis napoleon right fine theme domin mustard part havana green air light big thu yum acoust correct let die open\n",
      "even chair light dessert back die leav brac question salt blue zimbabw order wed none crabcak hostess basic music steak east sconc brasseri love variou bubbl upscal cramp build eaten add waitor miso regard cover panini dine truffl respons hear major start eggplant meal chile strong mural id asid arepa\n",
      "---------------End of Topics------------------\n",
      "The approximated perplexity is:  3.1418221248716065e+25\n",
      "##################################################\n",
      "##################################################\n",
      "Epoch 20, loss=197.93042377672697, accuracy_train=0.6630048465266559, accuracy_test=0.6366279069767442\n",
      "precision_train0 = 0.765065502 recall_train0 = 0.826415094 f1_score_train0 = 0.794557823\n",
      "precision_te0 = 0.792000000 recall_te0 = 0.811475410 f1_score_te0 = 0.801619433\n",
      "precision_train1 = 0.729433272 recall_train1 = 0.369102683 f1_score_train1 = 0.490171990\n",
      "precision_te1 = 0.677966102 recall_te1 = 0.322580645 f1_score_te1 = 0.437158470\n",
      "precision_train2 = 0.553813257 recall_train2 = 0.814465409 f1_score_train2 = 0.659312686\n",
      "precision_te2 = 0.500000000 recall_te2 = 0.816326531 f1_score_te2 = 0.620155039\n",
      "---------------Printing the Topics------------------\n",
      "black duck rose wed even leav pizza brasseri brac rice bubbl lob felt raw simpl build begin arepa yet panini wallet seem havana crabcak present regard quit great origin thu toast sunday impecc udon money swim ahead orlean nobu bell bacon music jean new enough select franchis bud loaf lemon\n",
      "zimbabw line portion romant world pizza tomato peopl select start greet add wed pea someth pm veget look chair span lemon loaf ent wing languag theme soul mustard screw polit napoleon serv domin part fine big train franchis acoust die light let right thu silverwar havana yum amazingli correct open\n",
      "even chair light dessert back leav wed brac question die zimbabw order music salt blue east crabcak basic build waitor hostess none sconc eaten add dine variou cramp brasseri cover upscal steak love bubbl panini miso hear respons start regard hardwood mural swim ent onto id arepa simpl eggplant truffl\n",
      "---------------End of Topics------------------\n",
      "The approximated perplexity is:  2.998406762748788e+25\n",
      "##################################################\n"
     ]
    },
    {
     "name": "stdout",
     "output_type": "stream",
     "text": [
      "##################################################\n",
      "Epoch 25, loss=197.54257940995066, accuracy_train=0.6817447495961227, accuracy_test=0.6656976744186046\n",
      "precision_train0 = 0.795841210 recall_train0 = 0.794339623 f1_score_train0 = 0.795089707\n",
      "precision_te0 = 0.808695652 recall_te0 = 0.762295082 f1_score_te0 = 0.784810127\n",
      "precision_train1 = 0.695238095 recall_train1 = 0.472710453 f1_score_train1 = 0.562775330\n",
      "precision_te1 = 0.678571429 recall_te1 = 0.459677419 f1_score_te1 = 0.548076923\n",
      "precision_train2 = 0.581413210 recall_train2 = 0.793501048 f1_score_train2 = 0.671099291\n",
      "precision_te2 = 0.544827586 recall_te2 = 0.806122449 f1_score_te2 = 0.650205761\n",
      "---------------Printing the Topics------------------\n",
      "black duck wed rice pizza rose brasseri leav even brac lob felt simpl bubbl build raw crabcak arepa panini yet present wallet great havana begin regard select sunday swim quit bacon seem orlean lemon origin loaf thu udon money jean franchis enough world new bell toast nobu impecc music ahead\n",
      "zimbabw line romant pizza world start add select portion tomato peopl wed pm someth greet pea span veget chair look lemon wing mustard ent loaf soul theme languag polit napoleon die silverwar domin screw big serv fine part acoust train light let thu franchis get amazingli havana yum waitor knowledg\n",
      "even chair light back brac music wed dessert leav zimbabw question dine order blue die crabcak east build waitor eaten salt add seat basic sconc cramp hostess hear panini upscal cover hardwood none brasseri variou miso bubbl respons ent love mural ceil start arepa regard steak swim onto simpl fine\n",
      "---------------End of Topics------------------\n",
      "The approximated perplexity is:  2.6295384213515825e+25\n",
      "##################################################\n",
      "##################################################\n",
      "Epoch 30, loss=197.18976922286186, accuracy_train=0.6746365105008078, accuracy_test=0.6569767441860465\n",
      "precision_train0 = 0.791433892 recall_train0 = 0.801886792 f1_score_train0 = 0.796626054\n",
      "precision_te0 = 0.793388430 recall_te0 = 0.786885246 f1_score_te0 = 0.790123457\n",
      "precision_train1 = 0.700740741 recall_train1 = 0.437557817 f1_score_train1 = 0.538724374\n",
      "precision_te1 = 0.689189189 recall_te1 = 0.411290323 f1_score_te1 = 0.515151515\n",
      "precision_train2 = 0.568350669 recall_train2 = 0.801886792 f1_score_train2 = 0.665217391\n",
      "precision_te2 = 0.530201342 recall_te2 = 0.806122449 f1_score_te2 = 0.639676113\n",
      "---------------Printing the Topics------------------\n",
      "black rice duck pizza wed brasseri leav rose simpl brac even lob felt bubbl great select arepa raw crabcak build present loaf yet panini lemon swim wallet bacon sunday havana quit udon origin chile orlean regard thu begin world seem jean franchis money enough bell new delici favorit upscal music\n",
      "zimbabw line pizza add start romant select world span wed tomato peopl portion pm someth greet chair pea wing mustard lemon look veget die soul theme polit ent loaf silverwar languag domin napoleon java get acoust big screw fine crab serv ask knowledg ten crabcak let part along amazingli arepa\n",
      "even light chair brac back music dine wed seat leav zimbabw dessert build blue question ceil east crabcak hear waitor order hardwood cramp panini add eaten die basic ent upscal cover hostess sconc salt none brasseri mural respons bubbl arepa regard swim onto variou fine love glass saw start miso\n",
      "---------------End of Topics------------------\n",
      "The approximated perplexity is:  2.5659180619903644e+25\n",
      "##################################################\n",
      "##################################################\n",
      "Epoch 35, loss=196.4286158511513, accuracy_train=0.6804523424878837, accuracy_test=0.6569767441860465\n",
      "precision_train0 = 0.795918367 recall_train0 = 0.809433962 f1_score_train0 = 0.802619270\n",
      "precision_te0 = 0.795081967 recall_te0 = 0.795081967 f1_score_te0 = 0.795081967\n",
      "precision_train1 = 0.710252600 recall_train1 = 0.442183164 f1_score_train1 = 0.545039909\n",
      "precision_te1 = 0.684931507 recall_te1 = 0.403225806 f1_score_te1 = 0.507614213\n",
      "precision_train2 = 0.572916667 recall_train2 = 0.807127883 f1_score_train2 = 0.670147955\n",
      "precision_te2 = 0.530201342 recall_te2 = 0.806122449 f1_score_te2 = 0.639676113\n",
      "---------------Printing the Topics------------------\n",
      "rice black duck pizza brasseri wed simpl leav rose select brac bubbl lemon loaf great crabcak even lob felt raw chile arepa build bacon panini present yet swim udon salmon wallet origin favorit sunday quit world thu orlean havana mustard seem delici regard upscal bell new jean enough begin franchis\n",
      "zimbabw line pizza span start add select romant world wed pm tomato someth peopl portion java die chair greet mustard wing look polit silverwar domin veget crab get lemon ent soul pea acoust theme napoleon ten loaf languag arepa ask big crabcak knowledg fine let screw felt along brac amazingli\n",
      "even light chair dine seat music back brac ceil wed hear leav build east question zimbabw blue crabcak waitor hardwood cramp dessert panini add eaten basic cover upscal ent order peopl die hostess arepa sconc none mural saw respons glass brasseri regard fine onto street swim bubbl person love start\n",
      "---------------End of Topics------------------\n",
      "The approximated perplexity is:  1.9549907165298145e+25\n",
      "##################################################\n",
      "##################################################\n",
      "Epoch 40, loss=195.09477153577302, accuracy_train=0.6852988691437802, accuracy_test=0.6686046511627907\n",
      "precision_train0 = 0.813165537 recall_train0 = 0.792452830 f1_score_train0 = 0.802675585\n",
      "precision_te0 = 0.826086957 recall_te0 = 0.778688525 f1_score_te0 = 0.801687764\n",
      "precision_train1 = 0.706460674 recall_train1 = 0.465309898 f1_score_train1 = 0.561070831\n",
      "precision_te1 = 0.708860759 recall_te1 = 0.451612903 f1_score_te1 = 0.551724138\n",
      "precision_train2 = 0.576296296 recall_train2 = 0.815513627 f1_score_train2 = 0.675347222\n",
      "precision_te2 = 0.526666667 recall_te2 = 0.806122449 f1_score_te2 = 0.637096774\n",
      "---------------Printing the Topics------------------\n",
      "rice black duck pizza simpl leav brasseri wed select lemon loaf crabcak great salmon chile bacon brac rose bubbl panini raw favorit felt arepa lob build present even udon wallet origin onion mustard swim yet world sunday miso delici curri cover upscal thu quit new seem collard brioch bell orlean\n",
      "zimbabw line span pizza start add java select wed world romant pm someth tomato peopl mustard crab chair polit die portion get domin greet silverwar wing arepa ent soul acoust look ask ten crabcak languag napoleon veget felt knowledg lemon let theme big brac pea screw loaf fine eaten take\n",
      "even light chair seat dine music ceil back brac wed hear build east question leav hardwood cramp blue peopl crabcak waitor panini zimbabw add arepa street upscal saw basic glass ent mural eaten cover fine sconc dessert server brasseri onto person none watch regard swim die entranc respons oak hostess\n",
      "---------------End of Topics------------------\n",
      "The approximated perplexity is:  1.589566334925886e+25\n",
      "##################################################\n",
      "##################################################\n",
      "Epoch 45, loss=193.86909950657895, accuracy_train=0.6998384491114701, accuracy_test=0.688953488372093\n",
      "precision_train0 = 0.828402367 recall_train0 = 0.792452830 f1_score_train0 = 0.810028930\n",
      "precision_te0 = 0.848214286 recall_te0 = 0.778688525 f1_score_te0 = 0.811965812\n",
      "precision_train1 = 0.723035952 recall_train1 = 0.502312673 f1_score_train1 = 0.592794760\n",
      "precision_te1 = 0.726190476 recall_te1 = 0.491935484 f1_score_te1 = 0.586538462\n",
      "precision_train2 = 0.588721805 recall_train2 = 0.820754717 f1_score_train2 = 0.685639229\n",
      "precision_te2 = 0.547297297 recall_te2 = 0.826530612 f1_score_te2 = 0.658536585\n",
      "---------------Printing the Topics------------------\n",
      "rice black duck pizza simpl select leav wed brasseri salmon lemon loaf chile bacon crabcak great onion panini favorit brac miso bubbl mustard raw rose arepa udon curri origin delici wallet present felt lob build corn swim bean world brioch rich menu cover sunday even yet mole melt upscal collard\n",
      "zimbabw line span java pizza start add select wed someth world crab romant pm domin polit mustard get peopl ask tomato silverwar die portion greet arepa staff chair felt wing crabcak ten soul acoust ent knowledg let take brac big look languag napoleon eaten bar screw lemon veget want deserv\n",
      "light even seat dine chair ceil music back brac wed hear build east peopl question hardwood cramp street leav crabcak blue waitor arepa server saw panini glass mural upscal person add fine oak watch sconc brasseri basic cover onto ent entranc garden architectur eaten stun swim regard zimbabw let noisi\n",
      "---------------End of Topics------------------\n",
      "The approximated perplexity is:  1.1819605465358913e+25\n",
      "##################################################\n"
     ]
    },
    {
     "name": "stdout",
     "output_type": "stream",
     "text": [
      "##################################################\n",
      "Epoch 50, loss=193.00463481702303, accuracy_train=0.711470113085622, accuracy_test=0.7034883720930233\n",
      "precision_train0 = 0.834630350 recall_train0 = 0.809433962 f1_score_train0 = 0.821839080\n",
      "precision_te0 = 0.850877193 recall_te0 = 0.795081967 f1_score_te0 = 0.822033898\n",
      "precision_train1 = 0.745333333 recall_train1 = 0.517113784 f1_score_train1 = 0.610595303\n",
      "precision_te1 = 0.752941176 recall_te1 = 0.516129032 f1_score_te1 = 0.612440191\n",
      "precision_train2 = 0.596051632 recall_train2 = 0.822851153 f1_score_train2 = 0.691325407\n",
      "precision_te2 = 0.558620690 recall_te2 = 0.826530612 f1_score_te2 = 0.666666667\n",
      "---------------Printing the Topics------------------\n",
      "rice black duck pizza simpl select salmon leav lemon onion loaf wed brasseri bacon chile miso favorit crabcak panini mustard bean great menu curri delici corn bubbl raw brac arepa udon rich brioch origin rose wallet melt whole present satay felt swim lob tomato build collard chees world mole cover\n",
      "zimbabw line span java pizza start add select staff crab wed someth ask domin world polit pm get romant mustard silverwar die take felt greet peopl ten bar arepa portion crabcak knowledg wing acoust brac want ent let big soul eaten chair tomato look screw amazingli languag deserv switch becom\n",
      "light even seat ceil dine chair music back brac wed hear build peopl east street hardwood question cramp server blue crabcak leav mural arepa oak glass saw watch person architectur brasseri waitor panini entranc upscal sconc garden fine add cover onto basic stun let rose noisi ent swim regard though\n",
      "---------------End of Topics------------------\n",
      "The approximated perplexity is:  8.887584400021122e+24\n",
      "##################################################\n",
      "##################################################\n",
      "Epoch 55, loss=192.53257863898025, accuracy_train=0.7182552504038773, accuracy_test=0.7151162790697675\n",
      "precision_train0 = 0.845249755 recall_train0 = 0.814150943 f1_score_train0 = 0.829408938\n",
      "precision_te0 = 0.868421053 recall_te0 = 0.811475410 f1_score_te0 = 0.838983051\n",
      "precision_train1 = 0.752293578 recall_train1 = 0.530989824 f1_score_train1 = 0.622559653\n",
      "precision_te1 = 0.767441860 recall_te1 = 0.532258065 f1_score_te1 = 0.628571429\n",
      "precision_train2 = 0.599542334 recall_train2 = 0.823899371 f1_score_train2 = 0.694039735\n",
      "precision_te2 = 0.562500000 recall_te2 = 0.826530612 f1_score_te2 = 0.669421488\n",
      "---------------Printing the Topics------------------\n",
      "rice black duck pizza simpl select salmon onion lemon leav loaf miso bean bacon chile favorit menu wed brasseri crabcak mustard panini corn curri delici tomato chees great arepa rich bubbl raw udon brioch whole melt brac satay classic wallet collard along mole lob origin swim rose upscal present bland\n",
      "zimbabw line span java pizza start staff add ask select crab someth wed domin get polit bar take world greet mustard pm felt ten silverwar want knowledg die crabcak romant peopl brac arepa acoust let wing portion big ent screw amazingli switch eaten strawberri soul waitor look chair one becom\n",
      "light seat even dine ceil chair music back brac wed hear build peopl street east hardwood cramp question server mural oak blue architectur glass crabcak watch arepa saw brasseri person leav garden entranc panini sconc onto cover upscal fine let rose waitor add basic noisi stun tier though swim respons\n",
      "---------------End of Topics------------------\n",
      "The approximated perplexity is:  7.526950449305657e+24\n",
      "##################################################\n",
      "##################################################\n",
      "Epoch 60, loss=192.3586271587171, accuracy_train=0.7276252019386107, accuracy_test=0.7151162790697675\n",
      "precision_train0 = 0.851669941 recall_train0 = 0.817924528 f1_score_train0 = 0.834456208\n",
      "precision_te0 = 0.867256637 recall_te0 = 0.803278689 f1_score_te0 = 0.834042553\n",
      "precision_train1 = 0.754408060 recall_train1 = 0.554116559 f1_score_train1 = 0.638933333\n",
      "precision_te1 = 0.761363636 recall_te1 = 0.540322581 f1_score_te1 = 0.632075472\n",
      "precision_train2 = 0.612626656 recall_train2 = 0.823899371 f1_score_train2 = 0.702726866\n",
      "precision_te2 = 0.566433566 recall_te2 = 0.826530612 f1_score_te2 = 0.672199170\n",
      "---------------Printing the Topics------------------\n",
      "rice black duck pizza salmon select simpl onion lemon bean miso menu loaf bacon tomato leav chile favorit mustard chees wed curri corn delici brasseri crabcak panini rich arepa bubbl melt great brioch satay raw udon stuf whole classic rib brac veal bland dish marin along collard mole wallet upscal\n",
      "zimbabw line span java staff pizza start add ask select take bar crab someth get domin polit want wed greet ten knowledg felt silverwar world pm mustard brac hostess let crabcak peopl one strawberri die screw switch arepa amazingli wing acoust big waitor eaten portion romant ent becom deserv soul\n",
      "light seat ceil dine even music chair back brac hear wed build peopl street east hardwood cramp server question mural architectur oak glass garden blue crabcak watch entranc saw brasseri arepa leav person rose let onto cover panini sconc tier fine noisi upscal add basic stun rough though waitor swim\n",
      "---------------End of Topics------------------\n",
      "The approximated perplexity is:  7.422680670228314e+24\n",
      "##################################################\n",
      "##################################################\n",
      "Epoch 65, loss=192.20653654399672, accuracy_train=0.7318255250403877, accuracy_test=0.7180232558139535\n",
      "precision_train0 = 0.857142857 recall_train0 = 0.820754717 f1_score_train0 = 0.838554217\n",
      "precision_te0 = 0.875000000 recall_te0 = 0.803278689 f1_score_te0 = 0.837606838\n",
      "precision_train1 = 0.761421320 recall_train1 = 0.555041628 f1_score_train1 = 0.642054575\n",
      "precision_te1 = 0.764044944 recall_te1 = 0.548387097 f1_score_te1 = 0.638497653\n",
      "precision_train2 = 0.615325077 recall_train2 = 0.833333333 f1_score_train2 = 0.707925200\n",
      "precision_te2 = 0.566433566 recall_te2 = 0.826530612 f1_score_te2 = 0.672199170\n",
      "---------------Printing the Topics------------------\n",
      "rice black duck pizza salmon onion select simpl bean lemon menu miso tomato bacon chile loaf chees favorit curri mustard leav corn delici wed brasseri crabcak panini rich stuf arepa melt satay rib brioch bubbl classic whole veal marin udon raw dish great bland shell mole collard brac along upscal\n",
      "zimbabw line span java staff pizza ask start add take bar get someth select crab want polit domin hostess greet ten knowledg felt one wed servic silverwar brac pm let mustard world strawberri screw crabcak switch peopl amazingli wing big arepa eaten die waitor acoust becom deserv slope money request\n",
      "light seat ceil dine even music chair back wed hear brac peopl build street east hardwood server cramp mural question architectur oak glass garden crabcak entranc watch blue brasseri saw arepa tier rose let onto sconc leav cover person noisi panini rough add fine stun upscal bead design though basic\n",
      "---------------End of Topics------------------\n",
      "The approximated perplexity is:  6.97007210398045e+24\n",
      "##################################################\n",
      "##################################################\n",
      "Epoch 70, loss=192.06501079358551, accuracy_train=0.7373182552504038, accuracy_test=0.7238372093023255\n",
      "precision_train0 = 0.858267717 recall_train0 = 0.822641509 f1_score_train0 = 0.840077071\n",
      "precision_te0 = 0.885964912 recall_te0 = 0.827868852 f1_score_te0 = 0.855932203\n",
      "precision_train1 = 0.769521411 recall_train1 = 0.565217391 f1_score_train1 = 0.651733333\n",
      "precision_te1 = 0.764044944 recall_te1 = 0.548387097 f1_score_te1 = 0.638497653\n",
      "precision_train2 = 0.621789883 recall_train2 = 0.837526205 f1_score_train2 = 0.713711478\n",
      "precision_te2 = 0.567375887 recall_te2 = 0.816326531 f1_score_te2 = 0.669456067\n",
      "---------------Printing the Topics------------------\n",
      "rice black duck pizza salmon onion bean select tomato menu simpl miso lemon chees favorit bacon chile loaf curri mustard corn delici leav rich stuf wed panini brasseri crabcak arepa rib satay veal melt classic brioch marin whole dish bubbl raw bland shell udon shred great mole collard foie includ\n",
      "zimbabw line span java staff ask pizza take start add servic get bar hostess want someth one polit greet ten knowledg domin select felt crab brac let wed pm order silverwar strawberri screw children switch crabcak peopl mustard world amazingli eaten big wing arepa waitor great question slope deserv money\n",
      "light seat ceil even dine music chair back hear wed brac peopl build street east hardwood server cramp mural architectur glass question oak garden watch entranc crabcak brasseri blue saw tier arepa rose noisi let sconc cover onto rough atmospher leav design add bead person panini enough hour stun fine\n",
      "---------------End of Topics------------------\n",
      "The approximated perplexity is:  6.743645687757473e+24\n",
      "##################################################\n"
     ]
    },
    {
     "name": "stdout",
     "output_type": "stream",
     "text": [
      "##################################################\n",
      "Epoch 75, loss=191.96334678248354, accuracy_train=0.7408723747980613, accuracy_test=0.7325581395348837\n",
      "precision_train0 = 0.864945382 recall_train0 = 0.821698113 f1_score_train0 = 0.842767296\n",
      "precision_te0 = 0.886956522 recall_te0 = 0.836065574 f1_score_te0 = 0.860759494\n",
      "precision_train1 = 0.769801980 recall_train1 = 0.575393154 f1_score_train1 = 0.658549497\n",
      "precision_te1 = 0.777777778 recall_te1 = 0.564516129 f1_score_te1 = 0.654205607\n",
      "precision_train2 = 0.625000000 recall_train2 = 0.838574423 f1_score_train2 = 0.716204118\n",
      "precision_te2 = 0.575539568 recall_te2 = 0.816326531 f1_score_te2 = 0.675105485\n",
      "---------------Printing the Topics------------------\n",
      "rice black duck salmon pizza bean onion tomato select menu miso simpl lemon chees favorit curri bacon loaf chile mustard corn delici stuf rich leav panini rib brasseri wed veal marin crabcak satay melt classic arepa brioch dish whole shell raw bland shred bubbl foie includ udon veget fare mole\n",
      "zimbabw line span java staff ask take servic pizza start get hostess want add one bar order someth greet ten polit children knowledg felt domin brac select let wed pm screw strawberri silverwar switch crab peopl crabcak great question big eaten world amazingli waitor mustard deserv slope money wing arepa\n",
      "light ceil seat even dine music chair back hear wed brac east street build peopl hardwood cramp mural server architectur glass question garden oak watch crabcak entranc brasseri saw rose blue noisi tier atmospher arepa sconc design let rough hour cover onto leav enough add bead languag stun person patio\n",
      "---------------End of Topics------------------\n",
      "The approximated perplexity is:  6.594746758037083e+24\n",
      "##################################################\n"
     ]
    },
    {
     "ename": "KeyboardInterrupt",
     "evalue": "",
     "output_type": "error",
     "traceback": [
      "\u001b[0;31m---------------------------------------------------------------------------\u001b[0m",
      "\u001b[0;31mKeyboardInterrupt\u001b[0m                         Traceback (most recent call last)",
      "\u001b[0;32m<ipython-input-61-b1af8f0fe241>\u001b[0m in \u001b[0;36m<module>\u001b[0;34m\u001b[0m\n\u001b[1;32m      3\u001b[0m     \u001b[0mmodel\u001b[0m\u001b[0;34m.\u001b[0m\u001b[0mtrain\u001b[0m\u001b[0;34m(\u001b[0m\u001b[0;34m)\u001b[0m                    \u001b[0;31m# switch to training mode\u001b[0m\u001b[0;34m\u001b[0m\u001b[0;34m\u001b[0m\u001b[0m\n\u001b[1;32m      4\u001b[0m     \u001b[0;32mfor\u001b[0m \u001b[0minput_\u001b[0m\u001b[0;34m,\u001b[0m \u001b[0mlabel_\u001b[0m \u001b[0;32min\u001b[0m \u001b[0mtrain_dl\u001b[0m\u001b[0;34m:\u001b[0m\u001b[0;34m\u001b[0m\u001b[0;34m\u001b[0m\u001b[0m\n\u001b[0;32m----> 5\u001b[0;31m         \u001b[0mrecon\u001b[0m\u001b[0;34m,\u001b[0m \u001b[0mloss\u001b[0m \u001b[0;34m=\u001b[0m \u001b[0mmodel\u001b[0m\u001b[0;34m(\u001b[0m\u001b[0minput_\u001b[0m\u001b[0;34m,\u001b[0m \u001b[0mcompute_loss\u001b[0m\u001b[0;34m=\u001b[0m\u001b[0;32mTrue\u001b[0m\u001b[0;34m)\u001b[0m\u001b[0;34m\u001b[0m\u001b[0;34m\u001b[0m\u001b[0m\n\u001b[0m\u001b[1;32m      6\u001b[0m         \u001b[0;31m# optimize\u001b[0m\u001b[0;34m\u001b[0m\u001b[0;34m\u001b[0m\u001b[0;34m\u001b[0m\u001b[0m\n\u001b[1;32m      7\u001b[0m         \u001b[0moptimizer\u001b[0m\u001b[0;34m.\u001b[0m\u001b[0mzero_grad\u001b[0m\u001b[0;34m(\u001b[0m\u001b[0;34m)\u001b[0m        \u001b[0;31m# clear previous gradients\u001b[0m\u001b[0;34m\u001b[0m\u001b[0;34m\u001b[0m\u001b[0m\n",
      "\u001b[0;32m~/anaconda3/envs/avi/lib/python3.6/site-packages/torch/nn/modules/module.py\u001b[0m in \u001b[0;36m__call__\u001b[0;34m(self, *input, **kwargs)\u001b[0m\n\u001b[1;32m    539\u001b[0m             \u001b[0mresult\u001b[0m \u001b[0;34m=\u001b[0m \u001b[0mself\u001b[0m\u001b[0;34m.\u001b[0m\u001b[0m_slow_forward\u001b[0m\u001b[0;34m(\u001b[0m\u001b[0;34m*\u001b[0m\u001b[0minput\u001b[0m\u001b[0;34m,\u001b[0m \u001b[0;34m**\u001b[0m\u001b[0mkwargs\u001b[0m\u001b[0;34m)\u001b[0m\u001b[0;34m\u001b[0m\u001b[0;34m\u001b[0m\u001b[0m\n\u001b[1;32m    540\u001b[0m         \u001b[0;32melse\u001b[0m\u001b[0;34m:\u001b[0m\u001b[0;34m\u001b[0m\u001b[0;34m\u001b[0m\u001b[0m\n\u001b[0;32m--> 541\u001b[0;31m             \u001b[0mresult\u001b[0m \u001b[0;34m=\u001b[0m \u001b[0mself\u001b[0m\u001b[0;34m.\u001b[0m\u001b[0mforward\u001b[0m\u001b[0;34m(\u001b[0m\u001b[0;34m*\u001b[0m\u001b[0minput\u001b[0m\u001b[0;34m,\u001b[0m \u001b[0;34m**\u001b[0m\u001b[0mkwargs\u001b[0m\u001b[0;34m)\u001b[0m\u001b[0;34m\u001b[0m\u001b[0;34m\u001b[0m\u001b[0m\n\u001b[0m\u001b[1;32m    542\u001b[0m         \u001b[0;32mfor\u001b[0m \u001b[0mhook\u001b[0m \u001b[0;32min\u001b[0m \u001b[0mself\u001b[0m\u001b[0;34m.\u001b[0m\u001b[0m_forward_hooks\u001b[0m\u001b[0;34m.\u001b[0m\u001b[0mvalues\u001b[0m\u001b[0;34m(\u001b[0m\u001b[0;34m)\u001b[0m\u001b[0;34m:\u001b[0m\u001b[0;34m\u001b[0m\u001b[0;34m\u001b[0m\u001b[0m\n\u001b[1;32m    543\u001b[0m             \u001b[0mhook_result\u001b[0m \u001b[0;34m=\u001b[0m \u001b[0mhook\u001b[0m\u001b[0;34m(\u001b[0m\u001b[0mself\u001b[0m\u001b[0;34m,\u001b[0m \u001b[0minput\u001b[0m\u001b[0;34m,\u001b[0m \u001b[0mresult\u001b[0m\u001b[0;34m)\u001b[0m\u001b[0;34m\u001b[0m\u001b[0;34m\u001b[0m\u001b[0m\n",
      "\u001b[0;32m<ipython-input-56-d4fa3dd19f28>\u001b[0m in \u001b[0;36mforward\u001b[0;34m(self, input_, compute_loss, avg_loss)\u001b[0m\n\u001b[1;32m    128\u001b[0m         \u001b[0mrecon\u001b[0m \u001b[0;34m=\u001b[0m \u001b[0mself\u001b[0m\u001b[0;34m.\u001b[0m\u001b[0mdecode\u001b[0m\u001b[0;34m(\u001b[0m\u001b[0minput_\u001b[0m\u001b[0;34m,\u001b[0m \u001b[0mposterior_mean\u001b[0m\u001b[0;34m,\u001b[0m \u001b[0mposterior_var\u001b[0m\u001b[0;34m)\u001b[0m\u001b[0;34m\u001b[0m\u001b[0;34m\u001b[0m\u001b[0m\n\u001b[1;32m    129\u001b[0m         \u001b[0;32mif\u001b[0m \u001b[0mcompute_loss\u001b[0m\u001b[0;34m:\u001b[0m\u001b[0;34m\u001b[0m\u001b[0;34m\u001b[0m\u001b[0m\n\u001b[0;32m--> 130\u001b[0;31m             \u001b[0;32mreturn\u001b[0m \u001b[0mrecon\u001b[0m\u001b[0;34m,\u001b[0m \u001b[0mself\u001b[0m\u001b[0;34m.\u001b[0m\u001b[0mloss\u001b[0m\u001b[0;34m(\u001b[0m\u001b[0minput_\u001b[0m\u001b[0;34m,\u001b[0m \u001b[0mrecon\u001b[0m\u001b[0;34m,\u001b[0m \u001b[0mposterior_mean\u001b[0m\u001b[0;34m,\u001b[0m \u001b[0mposterior_logvar\u001b[0m\u001b[0;34m,\u001b[0m \u001b[0mposterior_var\u001b[0m\u001b[0;34m,\u001b[0m \u001b[0mavg_loss\u001b[0m\u001b[0;34m)\u001b[0m\u001b[0;34m\u001b[0m\u001b[0;34m\u001b[0m\u001b[0m\n\u001b[0m\u001b[1;32m    131\u001b[0m         \u001b[0;32melse\u001b[0m\u001b[0;34m:\u001b[0m\u001b[0;34m\u001b[0m\u001b[0;34m\u001b[0m\u001b[0m\n\u001b[1;32m    132\u001b[0m             \u001b[0;32mreturn\u001b[0m \u001b[0mrecon\u001b[0m\u001b[0;34m\u001b[0m\u001b[0;34m\u001b[0m\u001b[0m\n",
      "\u001b[0;32m<ipython-input-56-d4fa3dd19f28>\u001b[0m in \u001b[0;36mloss\u001b[0;34m(self, input_, recon, posterior_mean, posterior_logvar, posterior_var, avg)\u001b[0m\n\u001b[1;32m    150\u001b[0m         \u001b[0;31m# gamma\u001b[0m\u001b[0;34m\u001b[0m\u001b[0;34m\u001b[0m\u001b[0;34m\u001b[0m\u001b[0m\n\u001b[1;32m    151\u001b[0m         \u001b[0mn\u001b[0m\u001b[0;34m,\u001b[0m \u001b[0m_\u001b[0m \u001b[0;34m=\u001b[0m \u001b[0minput_\u001b[0m\u001b[0;34m.\u001b[0m\u001b[0msize\u001b[0m\u001b[0;34m(\u001b[0m\u001b[0;34m)\u001b[0m\u001b[0;34m\u001b[0m\u001b[0;34m\u001b[0m\u001b[0m\n\u001b[0;32m--> 152\u001b[0;31m         \u001b[0mgamma_mean\u001b[0m\u001b[0;34m,\u001b[0m \u001b[0mgamma_logvar\u001b[0m \u001b[0;34m=\u001b[0m \u001b[0mself\u001b[0m\u001b[0;34m.\u001b[0m\u001b[0mgamma\u001b[0m\u001b[0;34m(\u001b[0m\u001b[0;34m)\u001b[0m\u001b[0;34m\u001b[0m\u001b[0;34m\u001b[0m\u001b[0m\n\u001b[0m\u001b[1;32m    153\u001b[0m         \u001b[0mgamma_prior\u001b[0m\u001b[0;34m,\u001b[0m \u001b[0mgammar_prior_bin\u001b[0m \u001b[0;34m=\u001b[0m \u001b[0mself\u001b[0m\u001b[0;34m.\u001b[0m\u001b[0mgamma_prior\u001b[0m\u001b[0;34m\u001b[0m\u001b[0;34m\u001b[0m\u001b[0m\n\u001b[1;32m    154\u001b[0m         \u001b[0minput_t\u001b[0m \u001b[0;34m=\u001b[0m \u001b[0;34m(\u001b[0m\u001b[0minput_\u001b[0m \u001b[0;34m>\u001b[0m \u001b[0;36m0\u001b[0m\u001b[0;34m)\u001b[0m\u001b[0;34m.\u001b[0m\u001b[0munsqueeze\u001b[0m\u001b[0;34m(\u001b[0m\u001b[0mdim\u001b[0m\u001b[0;34m=\u001b[0m\u001b[0;34m-\u001b[0m\u001b[0;36m1\u001b[0m\u001b[0;34m)\u001b[0m\u001b[0;34m\u001b[0m\u001b[0;34m\u001b[0m\u001b[0m\n",
      "\u001b[0;32m<ipython-input-56-d4fa3dd19f28>\u001b[0m in \u001b[0;36mgamma\u001b[0;34m(self)\u001b[0m\n\u001b[1;32m     59\u001b[0m \u001b[0;34m\u001b[0m\u001b[0m\n\u001b[1;32m     60\u001b[0m         \u001b[0mw1\u001b[0m \u001b[0;34m=\u001b[0m \u001b[0mF\u001b[0m\u001b[0;34m.\u001b[0m\u001b[0msoftplus\u001b[0m\u001b[0;34m(\u001b[0m\u001b[0mencoder_w1\u001b[0m\u001b[0;34m.\u001b[0m\u001b[0mt\u001b[0m\u001b[0;34m(\u001b[0m\u001b[0;34m)\u001b[0m \u001b[0;34m+\u001b[0m \u001b[0mencoder_b1\u001b[0m\u001b[0;34m)\u001b[0m\u001b[0;34m\u001b[0m\u001b[0;34m\u001b[0m\u001b[0m\n\u001b[0;32m---> 61\u001b[0;31m         \u001b[0mw2\u001b[0m \u001b[0;34m=\u001b[0m \u001b[0mF\u001b[0m\u001b[0;34m.\u001b[0m\u001b[0msoftplus\u001b[0m\u001b[0;34m(\u001b[0m\u001b[0mF\u001b[0m\u001b[0;34m.\u001b[0m\u001b[0mlinear\u001b[0m\u001b[0;34m(\u001b[0m\u001b[0mw1\u001b[0m\u001b[0;34m,\u001b[0m \u001b[0mencoder_w2\u001b[0m\u001b[0;34m,\u001b[0m \u001b[0mencoder_b2\u001b[0m\u001b[0;34m)\u001b[0m\u001b[0;34m)\u001b[0m\u001b[0;34m\u001b[0m\u001b[0;34m\u001b[0m\u001b[0m\n\u001b[0m\u001b[1;32m     62\u001b[0m         \u001b[0mwdr\u001b[0m \u001b[0;34m=\u001b[0m \u001b[0mF\u001b[0m\u001b[0;34m.\u001b[0m\u001b[0mdropout\u001b[0m\u001b[0;34m(\u001b[0m\u001b[0mw2\u001b[0m\u001b[0;34m,\u001b[0m \u001b[0mself\u001b[0m\u001b[0;34m.\u001b[0m\u001b[0mdrop_rate\u001b[0m\u001b[0;34m)\u001b[0m\u001b[0;34m\u001b[0m\u001b[0;34m\u001b[0m\u001b[0m\n\u001b[1;32m     63\u001b[0m \u001b[0;31m#         wo_mean = F.softmax(F.batch_norm(F.linear(wdr, mean_w, mean_b), mean_running_mean, mean_running_var), dim=-1)\u001b[0m\u001b[0;34m\u001b[0m\u001b[0;34m\u001b[0m\u001b[0;34m\u001b[0m\u001b[0m\n",
      "\u001b[0;31mKeyboardInterrupt\u001b[0m: "
     ]
    }
   ],
   "source": [
    "for epoch in range(num_epoch):\n",
    "    loss_epoch = 0.0\n",
    "    model.train()                    # switch to training mode\n",
    "    for input_, label_ in train_dl:\n",
    "        recon, loss = model(input_, compute_loss=True)\n",
    "        # optimize\n",
    "        optimizer.zero_grad()        # clear previous gradients\n",
    "        loss.backward()              # backprop\n",
    "        optimizer.step()             # update parameters\n",
    "        # report\n",
    "        loss_epoch += loss.item()    # add loss to loss_epoch\n",
    "    if epoch % 5 == 0:\n",
    "        model.eval()\n",
    "        # Test Model\n",
    "        pred_test = []\n",
    "        label_test = []\n",
    "        \n",
    "        pred_train = []\n",
    "        label_train = []\n",
    "        \n",
    "        for x_train, y_train in train_dl:\n",
    "            encoded, theta_mean, theta_logvar = model.encode(x_train)\n",
    "            temp_theta_mean = theta_mean.argmax(-1).int().data.cpu().tolist()\n",
    "            temp_y_train = y_train.argmax(-1).flatten().data.cpu().tolist()\n",
    "            \n",
    "            pred_train.extend(temp_theta_mean)\n",
    "            label_train.extend(temp_y_train)\n",
    "        \n",
    "        accuracy_train, precision_train, recall_train, f1_score_train = compute_accuracy(pred_train, label_train)\n",
    "        \n",
    "        for x_test, y_test in test_dl:\n",
    "            encoded, theta_mean, theta_logvar = model.encode(x_test)\n",
    "            temp_theta_mean = theta_mean.argmax(-1).int().data.cpu().tolist()\n",
    "            temp_y_test = y_test.argmax(-1).flatten().data.cpu().tolist()\n",
    "            \n",
    "            pred_test.extend(temp_theta_mean)\n",
    "            label_test.extend(temp_y_test)\n",
    "        \n",
    "        accuracy_test, precision_test, recall_test, f1_score_test = compute_accuracy(pred_test, label_test)\n",
    "        print (\"##################################################\")\n",
    "        print('Epoch {}, loss={}, accuracy_train={}, accuracy_test={}'.format(epoch, loss_epoch / len(input_), accuracy_train, accuracy_test))\n",
    "        for k in range(num_topic):\n",
    "            print (\"precision_train{}\".format(k), \"=\" , \"{:.9f}\".format(precision_train[k]), \\\n",
    "                 \"recall_train{}\".format(k), \"=\" , \"{:.9f}\".format(recall_train[k]), \\\n",
    "                 \"f1_score_train{}\".format(k), \"=\" , \"{:.9f}\".format(f1_score_train[k]))\n",
    "            print (\"precision_te{}\".format(k), \"=\" , \"{:.9f}\".format(precision_test[k]), \\\n",
    "                 \"recall_te{}\".format(k), \"=\" , \"{:.9f}\".format(recall_test[k]), \\\n",
    "                 \"f1_score_te{}\".format(k), \"=\" , \"{:.9f}\".format(f1_score_test[k]))\n",
    "        emb = model.de_fc.weight.data.detach().cpu().numpy().T\n",
    "        print_top_words(emb, vocab, 50)\n",
    "        print_perp(model)\n",
    "        print (\"##################################################\")        "
   ]
  },
  {
   "cell_type": "markdown",
   "metadata": {},
   "source": [
    "## Test"
   ]
  },
  {
   "cell_type": "code",
   "execution_count": 67,
   "metadata": {
    "scrolled": true
   },
   "outputs": [
    {
     "name": "stdout",
     "output_type": "stream",
     "text": [
      "935 food 0 0 [9.9579155e-01 9.7569142e-04 3.2328062e-03]\n",
      "88 sauc 0 0 [9.9990177e-01 9.7469456e-05 7.6048917e-07]\n",
      "2681 chicken 0 0 [9.9934071e-01 5.7745550e-04 8.1792656e-05]\n",
      "2414 shrimp 0 0 [9.9830592e-01 1.6782943e-03 1.5879226e-05]\n",
      "1381 chees 0 0 [9.9708670e-01 9.7398215e-04 1.9394107e-03]\n",
      "1496 potato 0 0 [9.9866140e-01 1.3378733e-03 7.2459022e-07]\n",
      "105 fri 0 0 [9.9968326e-01 3.1641265e-04 3.5546523e-07]\n",
      "546 tomato 0 0 [9.9890029e-01 1.0936097e-03 6.0495563e-06]\n",
      "1347 roast 0 0 [9.9966240e-01 3.3393590e-04 3.6433955e-06]\n",
      "642 onion 0 0 [9.9722326e-01 2.7326937e-03 4.4095090e-05]\n",
      "2272 pork 0 0 [9.9362803e-01 6.3653225e-03 6.5935074e-06]\n",
      "872 goat 0 0 [9.8141921e-01 1.8393096e-02 1.8771099e-04]\n",
      "1005 grill 0 0 [0.98477244 0.0061522  0.00907536]\n",
      "124 tuna 0 0 [0.887535   0.10492375 0.00754128]\n",
      "1159 salad 0 0 [9.8114634e-01 1.8817443e-02 3.6244954e-05]\n",
      "2188 beef 0 0 [9.9938369e-01 6.1500550e-04 1.3632506e-06]\n",
      "601 tapa 0 0 [0.7866733  0.0673615  0.14596522]\n",
      "1991 staff 1 1 [1.3457648e-03 9.9805152e-01 6.0276163e-04]\n",
      "1425 servic 1 1 [0.00873942 0.9885548  0.00270586]\n",
      "1137 friendli 1 1 [3.9672304e-04 9.9952507e-01 7.8196055e-05]\n",
      "1009 rude 1 1 [2.5282701e-04 9.9845862e-01 1.2885886e-03]\n",
      "452 hostess 1 1 [0.00603995 0.99293435 0.00102574]\n",
      "1592 waiter 1 1 [6.159968e-04 9.985927e-01 7.913260e-04]\n",
      "584 bartend 1 1 [2.9369505e-04 9.9858606e-01 1.1202986e-03]\n",
      "711 waitress 1 1 [0.0013531  0.9646248  0.03402202]\n",
      "1012 help 1 1 [0.00760002 0.9601342  0.03226569]\n",
      "216 polit 1 1 [3.7599995e-03 9.9614739e-01 9.2597875e-05]\n",
      "1401 bar 1 1 [0.0011421  0.99713767 0.00172023]\n",
      "1962 courteou 1 1 [0.05914593 0.9016315  0.03922265]\n",
      "2722 member 1 1 [0.00189038 0.9970542  0.00105544]\n",
      "368 waitstaff 1 1 [2.0763448e-04 9.9636477e-01 3.4276850e-03]\n",
      "685 attitud 1 1 [0.00152797 0.9919326  0.00653939]\n",
      "1815 reserv 1 1 [0.00133824 0.93315434 0.06550743]\n",
      "2252 tip 1 1 [0.03856322 0.9575432  0.00389357]\n",
      "2529 atmospher 2 2 [0.00131629 0.00120153 0.99748224]\n",
      "579 scene 2 2 [1.4690129e-06 4.4860058e-06 9.9999404e-01]\n",
      "2318 place 2 2 [2.8079897e-04 2.7879447e-02 9.7183979e-01]\n",
      "2199 tabl 2 2 [1.1483712e-05 1.9495975e-04 9.9979359e-01]\n",
      "575 outsid 2 2 [3.1562922e-05 3.7291824e-04 9.9959558e-01]\n",
      "965 area 2 2 [2.0006869e-04 2.7284476e-03 9.9707150e-01]\n",
      "463 ambianc 2 2 [2.1580074e-05 8.4124831e-04 9.9913722e-01]\n",
      "1675 outdoor 2 2 [1.2452577e-05 2.1728622e-03 9.9781466e-01]\n",
      "1589 romant 2 2 [5.831050e-04 6.510064e-02 9.343162e-01]\n",
      "2616 cozi 2 2 [0.00454986 0.00337952 0.9920706 ]\n",
      "457 decor 2 2 [3.8038011e-04 3.1163143e-03 9.9650335e-01]\n",
      "1942 sit 2 2 [1.3464336e-04 4.1431114e-03 9.9572217e-01]\n",
      "2705 wall 2 2 [3.2391353e-04 1.0728482e-02 9.8894763e-01]\n",
      "2643 light 2 2 [0.00236347 0.00202222 0.9956143 ]\n",
      "864 window 2 2 [0.00188571 0.00710859 0.9910058 ]\n",
      "965 area 2 2 [2.0006869e-04 2.7284476e-03 9.9707150e-01]\n",
      "85 ceil 2 2 [3.0191151e-05 2.8523128e-04 9.9968457e-01]\n",
      "161 floor 2 2 [2.3905545e-06 9.8342029e-04 9.9901414e-01]\n"
     ]
    }
   ],
   "source": [
    "model.eval()\n",
    "gamma_mean, gamma_logvar = model.gamma()\n",
    "gm, gl = gamma_mean.data.cpu().numpy(), gamma_logvar.data.cpu().numpy()\n",
    "print_gamma(gm, seed_words, vocab, vocab2id)"
   ]
  },
  {
   "cell_type": "code",
   "execution_count": 57,
   "metadata": {},
   "outputs": [
    {
     "name": "stdout",
     "output_type": "stream",
     "text": [
      "935 food 0 [0.38022685 0.31608686 0.30368632]\n",
      "88 sauc 0 [0.37584203 0.3531254  0.27103254]\n",
      "2681 chicken 0 [0.48940447 0.28026634 0.23032926]\n",
      "2414 shrimp 0 [0.34572217 0.46510997 0.18916792]\n",
      "1381 chees 0 [0.38389972 0.37722594 0.23887436]\n",
      "1496 potato 0 [0.37942436 0.31294188 0.30763382]\n",
      "105 fri 0 [0.5319056  0.30025738 0.16783702]\n",
      "546 tomato 0 [0.3200615  0.355876   0.32406247]\n",
      "1347 roast 0 [0.4098173  0.3364438  0.25373888]\n",
      "642 onion 0 [0.38030115 0.35574648 0.26395237]\n",
      "2272 pork 0 [0.35135072 0.4279261  0.22072314]\n",
      "872 goat 0 [0.41037723 0.32486367 0.2647591 ]\n",
      "1005 grill 0 [0.4381058  0.30603322 0.25586092]\n",
      "124 tuna 0 [0.43908802 0.16241035 0.3985017 ]\n",
      "1159 salad 0 [0.5343841  0.20409346 0.26152253]\n",
      "2188 beef 0 [0.2971067  0.32509032 0.37780294]\n",
      "601 tapa 0 [0.386902   0.31338027 0.2997177 ]\n",
      "1991 staff 1 [0.16195919 0.67375106 0.16428977]\n",
      "1425 servic 1 [0.16554125 0.68071365 0.15374507]\n",
      "1137 friendli 1 [0.1578267  0.64623207 0.19594115]\n",
      "1009 rude 1 [0.17415586 0.64637    0.17947413]\n",
      "452 hostess 1 [0.14182153 0.67241067 0.18576784]\n",
      "1592 waiter 1 [0.14853977 0.66555923 0.18590099]\n",
      "584 bartend 1 [0.14492626 0.6844012  0.17067254]\n",
      "711 waitress 1 [0.1624848  0.656151   0.18136421]\n",
      "1012 help 1 [0.14438246 0.67377687 0.1818407 ]\n",
      "216 polit 1 [0.18826796 0.6146254  0.19710673]\n",
      "1401 bar 1 [0.15753657 0.64244336 0.20002007]\n",
      "1962 courteou 1 [0.14253287 0.67308605 0.1843811 ]\n",
      "2722 member 1 [0.17042816 0.6100222  0.21954957]\n",
      "368 waitstaff 1 [0.16092363 0.6616619  0.17741449]\n",
      "685 attitud 1 [0.15379858 0.6720362  0.17416528]\n",
      "1815 reserv 1 [0.14764865 0.68412936 0.168222  ]\n",
      "2252 tip 1 [0.1470618  0.68525183 0.16768637]\n",
      "2529 atmospher 2 [0.27927533 0.33667678 0.38404793]\n",
      "579 scene 2 [0.2507495 0.1516637 0.5975868]\n",
      "2318 place 2 [0.20563623 0.25974622 0.5346176 ]\n",
      "2199 tabl 2 [0.20709234 0.34547243 0.44743523]\n",
      "575 outsid 2 [0.20400952 0.22778034 0.5682101 ]\n",
      "965 area 2 [0.23780943 0.37263054 0.38956   ]\n",
      "463 ambianc 2 [0.21784453 0.3042592  0.4778962 ]\n",
      "1675 outdoor 2 [0.21950355 0.30660456 0.47389185]\n",
      "1589 romant 2 [0.21779907 0.44328272 0.3389182 ]\n",
      "2616 cozi 2 [0.24144122 0.3868006  0.37175816]\n",
      "457 decor 2 [0.20706207 0.44166502 0.35127294]\n",
      "1942 sit 2 [0.21699896 0.2519358  0.5310652 ]\n",
      "2705 wall 2 [0.2117223  0.42900643 0.3592713 ]\n",
      "2643 light 2 [0.2051871  0.36849344 0.42631948]\n",
      "864 window 2 [0.28642374 0.19880305 0.5147732 ]\n",
      "965 area 2 [0.23780943 0.37263054 0.38956   ]\n",
      "85 ceil 2 [0.22222325 0.2784411  0.4993357 ]\n",
      "161 floor 2 [0.198204   0.42145193 0.38034406]\n"
     ]
    }
   ],
   "source": [
    "model.eval()\n",
    "gamma_mean, gamma_logvar = model.gamma()\n",
    "gm, gl = gamma_mean.data.cpu().numpy(), gamma_logvar.data.cpu().numpy()\n",
    "print_gamma(gm, seed_words, vocab, vocab2id)"
   ]
  },
  {
   "cell_type": "code",
   "execution_count": null,
   "metadata": {},
   "outputs": [],
   "source": [
    "emb = model.de_fc.weight.data.cpu().numpy().T\n",
    "print_top_words(emb, vocab, 50)\n",
    "print_perp(model)"
   ]
  },
  {
   "cell_type": "code",
   "execution_count": null,
   "metadata": {},
   "outputs": [],
   "source": []
  }
 ],
 "metadata": {
  "kernelspec": {
   "display_name": "avi",
   "language": "python",
   "name": "avi"
  },
  "language_info": {
   "codemirror_mode": {
    "name": "ipython",
    "version": 3
   },
   "file_extension": ".py",
   "mimetype": "text/x-python",
   "name": "python",
   "nbconvert_exporter": "python",
   "pygments_lexer": "ipython3",
   "version": "3.6.9"
  }
 },
 "nbformat": 4,
 "nbformat_minor": 2
}
