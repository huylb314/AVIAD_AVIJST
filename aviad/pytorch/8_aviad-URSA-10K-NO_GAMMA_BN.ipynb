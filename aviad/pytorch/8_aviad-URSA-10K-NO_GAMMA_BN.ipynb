{
 "cells": [
  {
   "cell_type": "code",
   "execution_count": 1,
   "metadata": {},
   "outputs": [],
   "source": [
    "%load_ext autoreload\n",
    "%autoreload 2\n",
    "\n",
    "%matplotlib inline"
   ]
  },
  {
   "cell_type": "code",
   "execution_count": 2,
   "metadata": {},
   "outputs": [],
   "source": [
    "import scipy as sp\n",
    "import numpy as np\n",
    "import pandas as pd\n",
    "import matplotlib.pyplot as plt\n",
    "import warnings\n",
    "import seaborn as sns\n",
    "\n",
    "from collections import defaultdict\n",
    "from itertools import groupby\n",
    "from sklearn import datasets\n",
    "from numpy import random\n",
    "from scipy.stats import dirichlet, norm, poisson"
   ]
  },
  {
   "cell_type": "code",
   "execution_count": 3,
   "metadata": {},
   "outputs": [],
   "source": [
    "# from keras.datasets import reuters, imdb"
   ]
  },
  {
   "cell_type": "code",
   "execution_count": 4,
   "metadata": {},
   "outputs": [],
   "source": [
    "import torch\n",
    "import torch.nn as nn\n",
    "import torch.nn.functional as F\n",
    "from torch.utils.data import Dataset"
   ]
  },
  {
   "cell_type": "code",
   "execution_count": 5,
   "metadata": {},
   "outputs": [],
   "source": [
    "import numpy as np\n",
    "import os"
   ]
  },
  {
   "cell_type": "code",
   "execution_count": 6,
   "metadata": {},
   "outputs": [],
   "source": [
    "from pathlib import Path\n",
    "from collections import OrderedDict\n",
    "import pickle, gzip, math, torch, matplotlib as mpl\n",
    "import matplotlib.pyplot as plt\n",
    "\n",
    "Path.ls = lambda x: list(x.iterdir())"
   ]
  },
  {
   "cell_type": "markdown",
   "metadata": {},
   "source": [
    "## URSA Datasets 1K "
   ]
  },
  {
   "cell_type": "code",
   "execution_count": 7,
   "metadata": {},
   "outputs": [],
   "source": [
    "folder_ds_path = Path('./data/User Review Structure Analysis (URSA)/')\n",
    "xml_path = (folder_ds_path/'Classified_Corpus.xml')\n",
    "ds_path = (folder_ds_path/'10k')\n",
    "sentence_npy_path = (folder_ds_path/'sentence.npy')\n",
    "vocab_pkl_path = (ds_path/'vocab.pkl')\n",
    "seed_words_path = (ds_path/'seed_words.txt')\n",
    "train_filename = (ds_path/'train.txt.npy')\n",
    "\n",
    "# log words not pass\n",
    "aspect_tags = ['Food', 'Staff', 'Ambience']\n",
    "polatiry_tags = ['Positive', 'Negative', 'Neutral']\n",
    "xml_review_tag = './/Review'\n",
    "log_np = [[], [], []]\n",
    "\n",
    "# length allowed sentences\n",
    "# length_allowed = [11, 7, 4]\n",
    "# min_freq_allowed = -1"
   ]
  },
  {
   "cell_type": "code",
   "execution_count": 8,
   "metadata": {},
   "outputs": [],
   "source": [
    "vocab2id = pickle.load(open(vocab_pkl_path, 'rb'))\n",
    "vocab_size=len(vocab2id)"
   ]
  },
  {
   "cell_type": "code",
   "execution_count": 9,
   "metadata": {},
   "outputs": [],
   "source": [
    "train_data = np.load((train_filename), allow_pickle=True)"
   ]
  },
  {
   "cell_type": "code",
   "execution_count": 10,
   "metadata": {},
   "outputs": [],
   "source": [
    "p_sentence_list, label_list = train_data[:, 0], train_data[:, 1]"
   ]
  },
  {
   "cell_type": "code",
   "execution_count": 11,
   "metadata": {},
   "outputs": [],
   "source": [
    "vocab = dict(map(reversed, vocab2id.items()))"
   ]
  },
  {
   "cell_type": "code",
   "execution_count": 12,
   "metadata": {},
   "outputs": [],
   "source": [
    "vocab_size = len(vocab)"
   ]
  },
  {
   "cell_type": "markdown",
   "metadata": {},
   "source": [
    "## Dataset"
   ]
  },
  {
   "cell_type": "code",
   "execution_count": 13,
   "metadata": {},
   "outputs": [],
   "source": [
    "from sklearn.model_selection import train_test_split"
   ]
  },
  {
   "cell_type": "code",
   "execution_count": 14,
   "metadata": {},
   "outputs": [],
   "source": [
    "x_, y_ = [], []\n",
    "for p_sentence, label_ in zip(p_sentence_list, label_list): \n",
    "    x_.append(p_sentence)\n",
    "    y_.append(label_)"
   ]
  },
  {
   "cell_type": "code",
   "execution_count": 15,
   "metadata": {},
   "outputs": [
    {
     "data": {
      "text/plain": [
       "True"
      ]
     },
     "execution_count": 15,
     "metadata": {},
     "output_type": "execute_result"
    }
   ],
   "source": [
    "len(x_) == len(y_)"
   ]
  },
  {
   "cell_type": "code",
   "execution_count": 16,
   "metadata": {},
   "outputs": [],
   "source": [
    "train_x, test_x, train_y, test_y =  train_test_split(\n",
    "    x_, y_, test_size=0.1, random_state=0)"
   ]
  },
  {
   "cell_type": "code",
   "execution_count": 17,
   "metadata": {},
   "outputs": [
    {
     "name": "stdout",
     "output_type": "stream",
     "text": [
      "Data Loaded\n",
      "Dim Training Data 29125 18073\n",
      "Dim Test Data 3237 18073\n"
     ]
    }
   ],
   "source": [
    "print ('Data Loaded')\n",
    "print ('Dim Training Data',len(train_x), vocab_size)\n",
    "print ('Dim Test Data', len(test_x), vocab_size)"
   ]
  },
  {
   "cell_type": "markdown",
   "metadata": {},
   "source": [
    "## Constants"
   ]
  },
  {
   "cell_type": "code",
   "execution_count": 18,
   "metadata": {},
   "outputs": [],
   "source": [
    "bs = 200\n",
    "en1_units=100\n",
    "en2_units=100\n",
    "num_topic=3\n",
    "num_input=vocab_size\n",
    "variance=0.995\n",
    "init_mult=1.0\n",
    "learning_rate=0.0005\n",
    "batch_size=200\n",
    "momentum=0.99\n",
    "num_epoch=200\n",
    "nogpu=True\n",
    "drop_rate=0.6"
   ]
  },
  {
   "cell_type": "markdown",
   "metadata": {},
   "source": [
    "## Topic Model Utility Functions"
   ]
  },
  {
   "cell_type": "code",
   "execution_count": 19,
   "metadata": {},
   "outputs": [],
   "source": [
    "def read_file_seed_words(fn):\n",
    "    with open(fn, \"r\") as fr:\n",
    "        def p_string_sw(l):\n",
    "            return l.replace('\\n','').split(',')\n",
    "        rl = [p_string_sw(l) for l in fr]\n",
    "    return rl"
   ]
  },
  {
   "cell_type": "code",
   "execution_count": 20,
   "metadata": {},
   "outputs": [],
   "source": [
    "seed_words = read_file_seed_words(seed_words_path)"
   ]
  },
  {
   "cell_type": "markdown",
   "metadata": {},
   "source": [
    "## Toy Gamma"
   ]
  },
  {
   "cell_type": "code",
   "execution_count": 21,
   "metadata": {},
   "outputs": [
    {
     "name": "stdout",
     "output_type": "stream",
     "text": [
      "[['a'], ['c'], ['f']]\n"
     ]
    }
   ],
   "source": [
    "num_topic_toy = 3\n",
    "batch_size_toy = 2\n",
    "seed_words_toy = [['a'], ['c'], ['f']]\n",
    "print (seed_words_toy)"
   ]
  },
  {
   "cell_type": "code",
   "execution_count": 22,
   "metadata": {},
   "outputs": [],
   "source": [
    "vocab2id_toy = {'a': 0, 'b': 1, 'c': 2, 'd': 3, 'e': 4, 'f': 5}"
   ]
  },
  {
   "cell_type": "code",
   "execution_count": 23,
   "metadata": {},
   "outputs": [],
   "source": [
    "vocab_size_toy = len(vocab2id_toy)"
   ]
  },
  {
   "cell_type": "code",
   "execution_count": 24,
   "metadata": {},
   "outputs": [
    {
     "name": "stdout",
     "output_type": "stream",
     "text": [
      "[[0. 0. 0.]\n",
      " [0. 0. 0.]\n",
      " [0. 0. 0.]\n",
      " [0. 0. 0.]\n",
      " [0. 0. 0.]\n",
      " [0. 0. 0.]]\n"
     ]
    }
   ],
   "source": [
    "gamma_toy = np.zeros((vocab_size_toy, num_topic_toy))\n",
    "print (gamma_toy)"
   ]
  },
  {
   "cell_type": "code",
   "execution_count": 25,
   "metadata": {},
   "outputs": [
    {
     "name": "stdout",
     "output_type": "stream",
     "text": [
      "[[[0. 0. 0.]\n",
      "  [0. 0. 0.]\n",
      "  [0. 0. 0.]\n",
      "  [0. 0. 0.]\n",
      "  [0. 0. 0.]\n",
      "  [0. 0. 0.]]\n",
      "\n",
      " [[0. 0. 0.]\n",
      "  [0. 0. 0.]\n",
      "  [0. 0. 0.]\n",
      "  [0. 0. 0.]\n",
      "  [0. 0. 0.]\n",
      "  [0. 0. 0.]]]\n"
     ]
    }
   ],
   "source": [
    "gamma_bin_toy = np.zeros((batch_size_toy, vocab_size_toy, num_topic_toy))\n",
    "print (gamma_bin_toy)"
   ]
  },
  {
   "cell_type": "code",
   "execution_count": 26,
   "metadata": {},
   "outputs": [
    {
     "name": "stdout",
     "output_type": "stream",
     "text": [
      "k: 0\n",
      "idx: 0\n",
      "k: 1\n",
      "idx: 0\n",
      "k: 2\n",
      "idx: 0\n"
     ]
    }
   ],
   "source": [
    "for k in range(len(seed_words_toy)): # number of topics\n",
    "    print (\"k:\", k)\n",
    "    for idx in range(len(seed_words_toy[k])): # number of words\n",
    "        print (\"idx:\", idx)\n",
    "        ivocab = vocab2id_toy[seed_words_toy[k][idx]]\n",
    "        gamma_toy[ivocab, k] = 1.0\n",
    "        gamma_bin_toy[:, ivocab, :] = 1.0"
   ]
  },
  {
   "cell_type": "code",
   "execution_count": 27,
   "metadata": {},
   "outputs": [
    {
     "data": {
      "text/plain": [
       "(6, 3)"
      ]
     },
     "execution_count": 27,
     "metadata": {},
     "output_type": "execute_result"
    }
   ],
   "source": [
    "gamma_toy.shape"
   ]
  },
  {
   "cell_type": "code",
   "execution_count": 28,
   "metadata": {},
   "outputs": [
    {
     "data": {
      "text/plain": [
       "array([[1., 0., 0.],\n",
       "       [0., 0., 0.],\n",
       "       [0., 1., 0.],\n",
       "       [0., 0., 0.],\n",
       "       [0., 0., 0.],\n",
       "       [0., 0., 1.]])"
      ]
     },
     "execution_count": 28,
     "metadata": {},
     "output_type": "execute_result"
    }
   ],
   "source": [
    "gamma_toy"
   ]
  },
  {
   "cell_type": "code",
   "execution_count": 29,
   "metadata": {},
   "outputs": [
    {
     "data": {
      "text/plain": [
       "(2, 6, 3)"
      ]
     },
     "execution_count": 29,
     "metadata": {},
     "output_type": "execute_result"
    }
   ],
   "source": [
    "gamma_bin_toy.shape"
   ]
  },
  {
   "cell_type": "code",
   "execution_count": 30,
   "metadata": {},
   "outputs": [
    {
     "data": {
      "text/plain": [
       "array([[[1., 1., 1.],\n",
       "        [0., 0., 0.],\n",
       "        [1., 1., 1.],\n",
       "        [0., 0., 0.],\n",
       "        [0., 0., 0.],\n",
       "        [1., 1., 1.]],\n",
       "\n",
       "       [[1., 1., 1.],\n",
       "        [0., 0., 0.],\n",
       "        [1., 1., 1.],\n",
       "        [0., 0., 0.],\n",
       "        [0., 0., 0.],\n",
       "        [1., 1., 1.]]])"
      ]
     },
     "execution_count": 30,
     "metadata": {},
     "output_type": "execute_result"
    }
   ],
   "source": [
    "gamma_bin_toy"
   ]
  },
  {
   "cell_type": "code",
   "execution_count": 31,
   "metadata": {},
   "outputs": [
    {
     "data": {
      "text/plain": [
       "array([[[ True,  True,  True],\n",
       "        [False, False, False],\n",
       "        [ True,  True,  True],\n",
       "        [False, False, False],\n",
       "        [False, False, False],\n",
       "        [ True,  True,  True]],\n",
       "\n",
       "       [[ True,  True,  True],\n",
       "        [False, False, False],\n",
       "        [ True,  True,  True],\n",
       "        [False, False, False],\n",
       "        [False, False, False],\n",
       "        [ True,  True,  True]]])"
      ]
     },
     "execution_count": 31,
     "metadata": {},
     "output_type": "execute_result"
    }
   ],
   "source": [
    "(gamma_bin_toy == 1.) & (gamma_bin_toy == 1.) "
   ]
  },
  {
   "cell_type": "code",
   "execution_count": 32,
   "metadata": {},
   "outputs": [],
   "source": [
    "at = torch.tensor((gamma_bin_toy == 1.) & (gamma_bin_toy == 1.) )"
   ]
  },
  {
   "cell_type": "code",
   "execution_count": 33,
   "metadata": {
    "scrolled": true
   },
   "outputs": [
    {
     "data": {
      "text/plain": [
       "tensor([[[1., 1., 1.],\n",
       "         [0., 0., 0.],\n",
       "         [1., 1., 1.],\n",
       "         [0., 0., 0.],\n",
       "         [0., 0., 0.],\n",
       "         [1., 1., 1.]],\n",
       "\n",
       "        [[1., 1., 1.],\n",
       "         [0., 0., 0.],\n",
       "         [1., 1., 1.],\n",
       "         [0., 0., 0.],\n",
       "         [0., 0., 0.],\n",
       "         [1., 1., 1.]]])"
      ]
     },
     "execution_count": 33,
     "metadata": {},
     "output_type": "execute_result"
    }
   ],
   "source": [
    "at.int().float()"
   ]
  },
  {
   "cell_type": "code",
   "execution_count": 34,
   "metadata": {},
   "outputs": [
    {
     "data": {
      "text/plain": [
       "torch.Size([2, 6, 3])"
      ]
     },
     "execution_count": 34,
     "metadata": {},
     "output_type": "execute_result"
    }
   ],
   "source": [
    "at.int().shape"
   ]
  },
  {
   "cell_type": "code",
   "execution_count": 35,
   "metadata": {},
   "outputs": [
    {
     "data": {
      "text/plain": [
       "tensor([9, 9])"
      ]
     },
     "execution_count": 35,
     "metadata": {},
     "output_type": "execute_result"
    }
   ],
   "source": [
    "at.int().sum((1, 2))"
   ]
  },
  {
   "cell_type": "markdown",
   "metadata": {},
   "source": [
    "## Seed words"
   ]
  },
  {
   "cell_type": "code",
   "execution_count": 36,
   "metadata": {
    "scrolled": true
   },
   "outputs": [
    {
     "name": "stdout",
     "output_type": "stream",
     "text": [
      "[['food', 'sauc', 'chicken', 'shrimp', 'chees', 'potato', 'fri', 'tomato', 'roast', 'onion', 'pork', 'goat', 'grill', 'tuna', 'salad', 'beef', 'tapa'], ['staff', 'servic', 'friendli', 'rude', 'hostess', 'waiter', 'bartend', 'waitress', 'help', 'polit', 'bar', 'courteou', 'member', 'waitstaff', 'attitud', 'reserv', 'tip'], ['atmospher', 'scene', 'place', 'tabl', 'outsid', 'area', 'ambianc', 'outdoor', 'romant', 'cozi', 'decor', 'sit', 'wall', 'light', 'window', 'area', 'ceil', 'floor']]\n"
     ]
    }
   ],
   "source": [
    "print (seed_words)"
   ]
  },
  {
   "cell_type": "code",
   "execution_count": 37,
   "metadata": {},
   "outputs": [],
   "source": [
    "def setup_prior(fn, n_k=3):\n",
    "    gamma = torch.zeros((len(vocab),n_k))\n",
    "    gamma_bin = torch.zeros((1, len(vocab),n_k))\n",
    "\n",
    "    full_vocab = read_file_seed_words(fn)\n",
    "    for k in range(len(full_vocab)):\n",
    "        for idx in range(len(full_vocab[k])):\n",
    "            ivocab = vocab2id[full_vocab[k][idx]]\n",
    "            gamma[ivocab, k] = 1.0\n",
    "            gamma_bin[:, ivocab, :] = 1.0\n",
    "\n",
    "    return (gamma, gamma_bin)"
   ]
  },
  {
   "cell_type": "code",
   "execution_count": 38,
   "metadata": {},
   "outputs": [],
   "source": [
    "def listify(o):\n",
    "    if o is None: return []\n",
    "    if isinstance(o, list): return o\n",
    "    if isinstance(o, str): return [o]\n",
    "    if isinstance(o, Iterable): return list(o)\n",
    "    return [o]\n",
    "def setify(o): return o if isinstance(o,set) else set(listify(o))\n",
    "def compose(x, funcs, *args, order_key='_order', **kwargs):\n",
    "    key = lambda o: getattr(o, order_key, 0)\n",
    "    for f in sorted(listify(funcs), key=key): x = f(x, **kwargs)\n",
    "    return x"
   ]
  },
  {
   "cell_type": "code",
   "execution_count": 39,
   "metadata": {},
   "outputs": [],
   "source": [
    "def print_perp(model):\n",
    "    cost = []\n",
    "    model.eval()                        # switch to testing mode\n",
    "    for x_test, y_test in test_dl:\n",
    "        recon, loss = model(x_test, compute_loss=True, avg_loss=False)\n",
    "        loss = loss.data\n",
    "        counts = x_test.sum(1)\n",
    "        cost.extend((loss / counts).data.cpu().tolist())\n",
    "    print('The approximated perplexity is: ', (np.exp(np.mean(np.array(cost)))))\n",
    "\n",
    "def print_top_words(beta, feature_names, n_top_words=10):\n",
    "    print ('---------------Printing the Topics------------------')\n",
    "    for i in range(len(beta)):\n",
    "        line = \" \".join([feature_names[j] \n",
    "                         for j in beta[i].argsort()[:-n_top_words - 1:-1]])\n",
    "        print('{}'.format(line))\n",
    "    print ('---------------End of Topics------------------')\n",
    "    \n",
    "def print_gamma(gamma, seed_words, vocab, vocab2id):\n",
    "    sws = []        \n",
    "    for k in range(len(seed_words)):\n",
    "        for idx in range(len(seed_words[k])):\n",
    "            w = seed_words[k][idx]\n",
    "            sws.append((k, w))\n",
    "\n",
    "    for idx in range(len(sws)):\n",
    "        k, w = sws[idx]\n",
    "        ivocab = vocab2id[w]\n",
    "        mk = gamma[ivocab].argmax(-1)\n",
    "        print (ivocab, w, k, mk, gamma[ivocab])"
   ]
  },
  {
   "cell_type": "markdown",
   "metadata": {},
   "source": [
    "## Data Utility Functions"
   ]
  },
  {
   "cell_type": "code",
   "execution_count": 40,
   "metadata": {},
   "outputs": [],
   "source": [
    "def collate(b):\n",
    "    x, y = zip(*b)\n",
    "    return torch.stack(x), torch.stack(y)\n",
    "\n",
    "class IdifyAndLimitedVocab():\n",
    "    _order=-1\n",
    "    def __init__(self, vocab2id, limited_vocab):\n",
    "        self.vocab2id = vocab2id\n",
    "        self.limited_vocab = limited_vocab\n",
    "    def __call__(self, item):\n",
    "        idlist = [self.vocab2id[w] for w in item if self.vocab2id[w] < self.limited_vocab]\n",
    "        return np.array(idlist)\n",
    "    \n",
    "\n",
    "class Numpyify():\n",
    "    _order=0\n",
    "    def __call__(self, item):\n",
    "        return np.array(item)\n",
    "\n",
    "class Onehotify():\n",
    "    _order=1\n",
    "    def __init__(self, vocab_size):\n",
    "        self.vocab_size = vocab_size\n",
    "    def __call__(self, item):\n",
    "        return np.array(np.bincount(item.astype('int'), minlength=self.vocab_size))\n",
    "    \n",
    "class YToOnehot():\n",
    "    _order=1\n",
    "    def __init__(self, num_classes):\n",
    "        self.num_classes = num_classes\n",
    "    def __call__(self, item):\n",
    "        categorical = np.zeros((1, self.num_classes))\n",
    "        categorical[0, item] = 1\n",
    "        return categorical\n",
    "\n",
    "class Tensorify():\n",
    "    _order=2\n",
    "    def __call__(self, item):\n",
    "        return torch.from_numpy(item)\n",
    "\n",
    "class Floatify():\n",
    "    _order=3\n",
    "    def __call__(self, item):\n",
    "        return item.float()\n",
    "    \n",
    "class CheckAndCudify():\n",
    "    _order=100\n",
    "    def __init__(self):\n",
    "        self.ic = torch.cuda.is_available()\n",
    "    def __call__(self, item):\n",
    "        return item.cuda() if self.ic else item\n",
    "    \n",
    "class URSADataset(Dataset):\n",
    "    def __init__(self, x, y, tfms_x, tfms_y): \n",
    "        self.x, self.y = x, y\n",
    "        self.x_tfms = tfms_x\n",
    "        self.y_tfms = tfms_y\n",
    "    def __len__(self): \n",
    "        return len(self.x)\n",
    "    def __getitem__(self, i): \n",
    "        return compose(self.x[i], self.x_tfms), compose(self.y[i], self.y_tfms)\n",
    "    \n",
    "class Sampler():\n",
    "    def __init__(self, ds, bs, shuffle=False):\n",
    "        self.n,self.bs,self.shuffle = len(ds),bs,shuffle\n",
    "        \n",
    "    def __iter__(self):\n",
    "        self.idxs = torch.randperm(self.n) if self.shuffle else torch.arange(self.n)\n",
    "        for i in range(0, self.n, self.bs): yield self.idxs[i:i+self.bs]\n",
    "\n",
    "class DataLoader():\n",
    "    def __init__(self, ds, sampler, collate_fn=collate):\n",
    "        self.ds,self.sampler,self.collate_fn = ds,sampler,collate_fn\n",
    "        \n",
    "    def __iter__(self):\n",
    "        for s in self.sampler: yield self.collate_fn([self.ds[i] for i in s])"
   ]
  },
  {
   "cell_type": "markdown",
   "metadata": {},
   "source": [
    "## Load Data"
   ]
  },
  {
   "cell_type": "code",
   "execution_count": 41,
   "metadata": {},
   "outputs": [],
   "source": [
    "num_classes = np.max(train_y) + 1"
   ]
  },
  {
   "cell_type": "code",
   "execution_count": 42,
   "metadata": {},
   "outputs": [
    {
     "data": {
      "text/plain": [
       "3"
      ]
     },
     "execution_count": 42,
     "metadata": {},
     "output_type": "execute_result"
    }
   ],
   "source": [
    "num_classes"
   ]
  },
  {
   "cell_type": "code",
   "execution_count": 43,
   "metadata": {},
   "outputs": [],
   "source": [
    "tfms_x = [Numpyify(), Onehotify(vocab_size=vocab_size), Tensorify(), Floatify(), CheckAndCudify()]\n",
    "tfms_y = [YToOnehot(num_classes=num_classes), Tensorify(), Floatify(), CheckAndCudify()]"
   ]
  },
  {
   "cell_type": "code",
   "execution_count": 44,
   "metadata": {},
   "outputs": [],
   "source": [
    "train_ds = URSADataset(train_x, train_y, tfms_x=tfms_x, tfms_y=tfms_y)\n",
    "test_ds = URSADataset(test_x, test_y, tfms_x=tfms_x, tfms_y=tfms_y)"
   ]
  },
  {
   "cell_type": "code",
   "execution_count": 45,
   "metadata": {},
   "outputs": [],
   "source": [
    "train_samp = Sampler(train_ds, bs, shuffle=False)\n",
    "test_samp = Sampler(test_ds, bs, shuffle=False)"
   ]
  },
  {
   "cell_type": "code",
   "execution_count": 46,
   "metadata": {},
   "outputs": [],
   "source": [
    "train_dl = DataLoader(train_ds, sampler=train_samp, collate_fn=collate)\n",
    "test_dl = DataLoader(test_ds, sampler=test_samp, collate_fn=collate)"
   ]
  },
  {
   "cell_type": "code",
   "execution_count": 47,
   "metadata": {},
   "outputs": [],
   "source": [
    "gamma_prior = setup_prior(seed_words_path, 3)"
   ]
  },
  {
   "cell_type": "code",
   "execution_count": 48,
   "metadata": {},
   "outputs": [],
   "source": [
    "gamma, gamma_bin = gamma_prior"
   ]
  },
  {
   "cell_type": "markdown",
   "metadata": {},
   "source": [
    "## Define Model"
   ]
  },
  {
   "cell_type": "code",
   "execution_count": 49,
   "metadata": {},
   "outputs": [],
   "source": [
    "class ProdLDA(nn.Module):\n",
    "    def __init__(self, num_input, en1_units, en2_units, num_topic, drop_rate, init_mult, gamma_prior):\n",
    "        super(ProdLDA, self).__init__()\n",
    "        self.num_input, self.en1_units, self.en2_units, \\\n",
    "        self.num_topic, self.drop_rate, self.init_mult = num_input, en1_units, en2_units, \\\n",
    "                                                            num_topic, drop_rate, init_mult\n",
    "        # gamma prior\n",
    "        self.gamma_prior = gamma_prior\n",
    "        \n",
    "        # encoder\n",
    "        self.en1_fc = nn.Linear(num_input, en1_units)\n",
    "        self.en1_ac = nn.Softplus()\n",
    "        self.en2_fc     = nn.Linear(en1_units, en2_units)\n",
    "        self.en2_ac = nn.Softplus()\n",
    "        self.en2_dr   = nn.Dropout(drop_rate)\n",
    "        \n",
    "        # mean, logvar\n",
    "        self.mean_fc = nn.Linear(en2_units, num_topic)\n",
    "        self.mean_bn = nn.BatchNorm1d(num_topic)\n",
    "        self.logvar_fc = nn.Linear(en2_units, num_topic)\n",
    "        self.logvar_bn = nn.BatchNorm1d(num_topic)\n",
    "\n",
    "        # decoder\n",
    "        self.de_ac1 = nn.Softmax(dim=-1)\n",
    "        self.de_dr = nn.Dropout(drop_rate)\n",
    "        self.de_fc = nn.Linear(num_topic, num_input)\n",
    "        self.de_bn = nn.BatchNorm1d(num_input)\n",
    "        self.de_ac2 = nn.Softmax(dim=-1)\n",
    "        \n",
    "        # prior mean and variance as constant buffers\n",
    "        self.prior_mean   = torch.Tensor(1, num_topic).fill_(0)\n",
    "        self.prior_var    = torch.Tensor(1, num_topic).fill_(variance)\n",
    "        self.prior_mean   = nn.Parameter(self.prior_mean, requires_grad=False)\n",
    "        self.prior_var    = nn.Parameter(self.prior_var, requires_grad=False)\n",
    "        self.prior_logvar = nn.Parameter(self.prior_var.log(), requires_grad=False)\n",
    "        # initialize decoder weight\n",
    "        if init_mult != 0:\n",
    "            #std = 1. / math.sqrt( init_mult * (num_topic + num_input))\n",
    "            self.de_fc.weight.data.uniform_(0, init_mult)\n",
    "        # remove BN's scale parameters\n",
    "        for component in [self.mean_bn, self.logvar_bn, self.de_bn]:\n",
    "            component.weight.requires_grad = False\n",
    "            component.weight.fill_(1.0)\n",
    "        \n",
    "    def gamma(self):\n",
    "        # this function have to run after self.encode\n",
    "        encoder_w1 = self.en1_fc.weight\n",
    "        encoder_b1 = self.en1_fc.bias\n",
    "        encoder_w2 = self.en2_fc.weight\n",
    "        encoder_b2 = self.en2_fc.bias\n",
    "        mean_w = self.mean_fc.weight\n",
    "        mean_b = self.mean_fc.bias\n",
    "        mean_running_mean = self.mean_bn.running_mean\n",
    "        mean_running_var = self.mean_bn.running_var\n",
    "        logvar_w = self.logvar_fc.weight\n",
    "        logvar_b = self.logvar_fc.bias\n",
    "        logvar_running_mean = self.logvar_bn.running_mean\n",
    "        logvar_running_var = self.logvar_bn.running_var\n",
    "        \n",
    "        w1 = F.softplus(encoder_w1.t() + encoder_b1)\n",
    "        w2 = F.softplus(F.linear(w1, encoder_w2, encoder_b2))\n",
    "        wdr = F.dropout(w2, self.drop_rate)\n",
    "        wo_mean = F.softmax(F.linear(wdr, mean_w, mean_b), dim=-1)\n",
    "        wo_logvar = F.softmax(F.batch_norm(F.linear(wdr, logvar_w, logvar_b), logvar_running_mean, logvar_running_var), dim=-1)\n",
    "        \n",
    "        return wo_mean, wo_logvar\n",
    "            \n",
    "    def encode(self, input_):\n",
    "        # encoder\n",
    "        encoded1 = self.en1_fc(input_)\n",
    "        encoded1_ac = self.en1_ac(encoded1)\n",
    "        encoded2 = self.en2_fc(encoded1_ac)\n",
    "        encoded2_ac = self.en2_ac(encoded2)\n",
    "        encoded2_dr = self.en2_dr(encoded2_ac)\n",
    "        \n",
    "        encoded = encoded2_dr\n",
    "        \n",
    "        # hidden => mean, logvar\n",
    "        mean_theta = self.mean_fc(encoded)\n",
    "        mean_theta_bn = self.mean_bn(mean_theta)\n",
    "        logvar_theta = self.logvar_fc(encoded)\n",
    "        logvar_theta_bn = self.logvar_bn(logvar_theta)\n",
    "        \n",
    "        posterior_mean = mean_theta_bn\n",
    "        posterior_logvar = logvar_theta_bn\n",
    "        return encoded, posterior_mean, posterior_logvar\n",
    "    \n",
    "    def decode(self, input_, posterior_mean, posterior_var):\n",
    "        # take sample\n",
    "        eps = input_.data.new().resize_as_(posterior_mean.data).normal_() # noise \n",
    "        z = posterior_mean + posterior_var.sqrt() * eps                   # reparameterization\n",
    "        # do reconstruction\n",
    "        # decoder\n",
    "        decoded1_ac = self.de_ac1(z)\n",
    "        decoded1_dr = self.de_dr(decoded1_ac)\n",
    "        decoded2 = self.de_fc(decoded1_dr)\n",
    "        decoded2_bn = self.de_bn(decoded2)\n",
    "        decoded2_ac = self.de_ac2(decoded2_bn)\n",
    "        recon = decoded2_ac          # reconstructed distribution over vocabulary\n",
    "        return recon\n",
    "    \n",
    "    def forward(self, input_, compute_loss=False, avg_loss=True):\n",
    "        # compute posterior\n",
    "        en2, posterior_mean, posterior_logvar = self.encode(input_) \n",
    "        posterior_var    = posterior_logvar.exp()\n",
    "        \n",
    "        recon = self.decode(input_, posterior_mean, posterior_var)\n",
    "        if compute_loss:\n",
    "            return recon, self.loss(input_, recon, posterior_mean, posterior_logvar, posterior_var, avg_loss)\n",
    "        else:\n",
    "            return recon\n",
    "\n",
    "    def loss(self, input_, recon, posterior_mean, posterior_logvar, posterior_var, avg=True):\n",
    "        # NL\n",
    "        NL  = -(input_ * (recon + 1e-10).log()).sum(1)\n",
    "        # KLD, see Section 3.3 of Akash Srivastava and Charles Sutton, 2017, \n",
    "        # https://arxiv.org/pdf/1703.01488.pdf\n",
    "        prior_mean   = self.prior_mean.expand_as(posterior_mean)\n",
    "        prior_var    = self.prior_var.expand_as(posterior_mean)\n",
    "        prior_logvar = self.prior_logvar.expand_as(posterior_mean)\n",
    "        var_division    = posterior_var  / prior_var\n",
    "        diff            = posterior_mean - prior_mean\n",
    "        diff_term       = diff * diff / prior_var\n",
    "        logvar_division = prior_logvar - posterior_logvar\n",
    "        # put KLD together\n",
    "        KLD = 0.5 * ( (var_division + diff_term + logvar_division).sum(1) - self.num_topic)\n",
    "        \n",
    "        # gamma\n",
    "        n, _ = input_.size()\n",
    "        gamma_mean, gamma_logvar = self.gamma()\n",
    "        gamma_prior, gammar_prior_bin = self.gamma_prior\n",
    "        input_t = (input_ > 0).unsqueeze(dim=-1)\n",
    "        input_bin = ((gammar_prior_bin.expand(n, -1, -1) == 1) & input_t)\n",
    "        lambda_c = 20.0\n",
    "        \n",
    "        gamma_prior = gamma_prior.expand(n, -1, -1)      \n",
    "        \n",
    "        GL = lambda_c * ((gamma_prior - (input_bin.int()*gamma_mean))**2).sum((1, 2))\n",
    "        \n",
    "        # loss\n",
    "        loss = (NL + KLD + GL)\n",
    "        \n",
    "        # in traiming mode, return averaged loss. In testing mode, return individual loss\n",
    "        if avg:\n",
    "            return loss.mean()\n",
    "        else:\n",
    "            return loss"
   ]
  },
  {
   "cell_type": "markdown",
   "metadata": {},
   "source": [
    "## Train"
   ]
  },
  {
   "cell_type": "code",
   "execution_count": 50,
   "metadata": {},
   "outputs": [],
   "source": [
    "from sklearn import metrics"
   ]
  },
  {
   "cell_type": "code",
   "execution_count": 51,
   "metadata": {},
   "outputs": [],
   "source": [
    "def compute_accuracy(y_pred, y_true):\n",
    "    accuracy = metrics.accuracy_score(y_true, y_pred)\n",
    "    precision, recall, f1_score, _ = metrics.precision_recall_fscore_support(y_true=y_true, \\\n",
    "                                                     y_pred=y_pred, \\\n",
    "                                                     average=None)\n",
    "\n",
    "    return (accuracy, precision, recall, f1_score)"
   ]
  },
  {
   "cell_type": "code",
   "execution_count": 52,
   "metadata": {},
   "outputs": [],
   "source": [
    "model = ProdLDA(num_input, en1_units, en2_units, num_topic, drop_rate, init_mult, gamma_prior)\n",
    "optimizer = torch.optim.Adam(model.parameters(), learning_rate, betas=(momentum, 0.999))"
   ]
  },
  {
   "cell_type": "code",
   "execution_count": 53,
   "metadata": {},
   "outputs": [],
   "source": [
    "if torch.cuda.is_available():\n",
    "    model = model.cuda()"
   ]
  },
  {
   "cell_type": "code",
   "execution_count": 54,
   "metadata": {},
   "outputs": [
    {
     "name": "stdout",
     "output_type": "stream",
     "text": [
      "##################################################\n",
      "Epoch 0, loss=1333.859552734375, accuracy_train=0.6132875536480686, accuracy_test=0.6184738955823293\n",
      "precision_train0 = 0.725344481 recall_train0 = 0.451218338 f1_score_train0 = 0.556347227\n",
      "precision_te0 = 0.761904762 recall_te0 = 0.453608247 f1_score_te0 = 0.568659128\n",
      "precision_train1 = 0.496794452 recall_train1 = 0.828948805 f1_score_train1 = 0.621262323\n",
      "precision_te1 = 0.494206257 recall_te1 = 0.841222880 f1_score_te1 = 0.622627737\n",
      "precision_train2 = 0.756504065 recall_train2 = 0.582715792 f1_score_train2 = 0.658333825\n",
      "precision_te2 = 0.759168704 recall_te2 = 0.586402266 f1_score_te2 = 0.661694193\n",
      "---------------Printing the Topics------------------\n",
      "balsam fratti spr avacado tendenc street wth tequila antithesi basqu thumb condit heat banana away candlelit white concept trifl unn boat outsid warmth glove color group meze beg snack bond sip class strip lob vile eaten know everi hop achil closest swell seafood obv jet section someon irrit content improb\n",
      "magret struck restaura hip execut folk etc avail larger lousi forest mention accent joe burger bit middl desert butternut goo fine consid wink local lamb rest put veal touch downtown perfectionist love restrain ridicul enjoy stuffi dancer gray riff southern fall turkey extra spanish less powder tlacoyo fieri luxuri chunki\n",
      "said snotti parti continu flatten pari memor sugar inceas interest brightli vacant quick ragu desir amus spotless abyssm mushroom morn upon chang condit avoid incorpor vase bistro kitchen avacado top magret fix toss ineffiici fact pai velvet maich custard friendlier accompani il oceana beat sickli parad budget beg wan fuller\n",
      "---------------End of Topics------------------\n",
      "##################################################\n",
      "##################################################\n",
      "Epoch 5, loss=1307.11375, accuracy_train=0.6553476394849785, accuracy_test=0.6651220265678097\n",
      "precision_train0 = 0.697137814 recall_train0 = 0.532505056 f1_score_train0 = 0.603800371\n",
      "precision_te0 = 0.723788050 recall_te0 = 0.551546392 f1_score_te0 = 0.626036080\n",
      "precision_train1 = 0.600585292 recall_train1 = 0.694465670 f1_score_train1 = 0.644122709\n",
      "precision_te1 = 0.611914894 recall_te1 = 0.709072978 f1_score_te1 = 0.656920968\n",
      "precision_train2 = 0.678803886 recall_train2 = 0.751069826 f1_score_train2 = 0.713110693\n",
      "precision_te2 = 0.674042553 recall_te2 = 0.747875354 f1_score_te2 = 0.709042077\n",
      "---------------Printing the Topics------------------\n",
      "starter seafood mozzarella bland beg away wrap tasti wth know dumpl massaman avacado scrambl banana heat outsid white bond class goat condit tequila lob final dont group bit chorizo romant iceberg basqu powder snapper lack theatr someon diner swell btw drink campbel littl meze incred gelato temp balsam fratti warmth\n",
      "attitud lousi adult less dine back care mention put etc get magret struck folk rest restaura effort touch hip avail vacant larger warmth giant butternut delight forest fine plum enjoy bit mojito goo extra health middl fieri ridicul finish riff fork custom brightli incred compani dancer veal spanish flavor oven\n",
      "parti coupl wall pari nobl brightli parpedel upon window blacklight whole sushi enitr avacado incorpor continu condit desir attract vase magret gray beat kitchen two fix flexibl chang brick dont famili fuller fill sausag maich vacant banana conves copper undercook wool draw countri column bistro charmer vibe giant spoil server\n",
      "---------------End of Topics------------------\n",
      "##################################################\n",
      "##################################################\n",
      "Epoch 10, loss=1298.0497607421876, accuracy_train=0.6913648068669528, accuracy_test=0.6994130367624344\n",
      "precision_train0 = 0.723259762 recall_train0 = 0.615429067 f1_score_train0 = 0.665001561\n",
      "precision_te0 = 0.744897959 recall_te0 = 0.627147766 f1_score_te0 = 0.680970149\n",
      "precision_train1 = 0.613465614 recall_train1 = 0.695229778 f1_score_train1 = 0.651793481\n",
      "precision_te1 = 0.623580786 recall_te1 = 0.704142012 f1_score_te1 = 0.661417323\n",
      "precision_train2 = 0.744549859 recall_train2 = 0.769961382 f1_score_train2 = 0.757042434\n",
      "precision_te2 = 0.737410072 recall_te2 = 0.774315392 f1_score_te2 = 0.755412252\n",
      "---------------Printing the Topics------------------\n",
      "goat seafood dumpl starter mozzarella tasti wrap bland good pepper curri calamari crab salt final chorizo perfectli know vegetarian away white mango tempura scrambl enough beg snapper banana heat littl avacado dont lob vinegar creami success bit told lighter salsa sizzl iceberg hook pad version tomato someon deep lack less\n",
      "attitud adult get servic one custom rude back dine lousi flavor restaur care finish question mention less jolt recommend patient put dessert friendlier incred rest etc absolut magret restaura multipl room enjoy condit bit wool fine effort forest barista frustrat ridicul whatev fail glitch waiter exceedingli parpedel conves guy clearli\n",
      "wall crowd vibe nobl window coupl brick play parti dark parpedel cool pari small booth space blacklight enitr attract loud perfect brightli lot two conves avacado whole nalli column spot decor magret darna copper fratti paint upon wool desir giant famili vase light glow charmer meet maich theatr qua subdu\n",
      "---------------End of Topics------------------\n",
      "##################################################\n",
      "##################################################\n",
      "Epoch 15, loss=1292.581712890625, accuracy_train=0.7715021459227468, accuracy_test=0.7834414581402533\n",
      "precision_train0 = 0.826034989 recall_train0 = 0.732158336 f1_score_train0 = 0.776268763\n",
      "precision_te0 = 0.861616162 recall_te0 = 0.732817869 f1_score_te0 = 0.792014856\n",
      "precision_train1 = 0.695891233 recall_train1 = 0.759851545 f1_score_train1 = 0.726466291\n",
      "precision_te1 = 0.708591674 recall_te1 = 0.788954635 f1_score_te1 = 0.746616892\n",
      "precision_train2 = 0.797156971 recall_train2 = 0.825279198 f1_score_train2 = 0.810974359\n",
      "precision_te2 = 0.789803220 recall_te2 = 0.833805477 f1_score_te2 = 0.811208085\n",
      "---------------Printing the Topics------------------\n",
      "goat seafood wrap pepper tasti dumpl crab mozzarella good calamari starter curri bland fri perfectli mango vegetarian mushroom salt tempura grill creami chorizo pad steam sandwich banana salsa tomato cold enough delici snapper garlic excel home final dont white lighter told scrambl fat chicken bass vinegar classic iceberg sizzl caesar\n",
      "attitud get one rude adult custom back servic restaur flavor finish question lousi dine care mention jolt recommend less multipl waiter friendlier frustrat barista drink absolut rest condit put patient incred restaura guy ful exceedingli children ridicul promot aw clearli hospit bit class effort magret fail dessert conves wool whatev\n",
      "wall crowd space vibe loud dark brick nobl booth ceil light play coupl spot parti small outdoor attract cool window lot parpedel blacklight enitr paint brightli pari column wool glow nalli avacado perfect darna meet famili giant copper gray look across lit disco charmer gown bewhar night conves fratti hip\n",
      "---------------End of Topics------------------\n",
      "##################################################\n",
      "##################################################\n",
      "Epoch 20, loss=1288.2804716796875, accuracy_train=0.8264034334763949, accuracy_test=0.8371949335804757\n",
      "precision_train0 = 0.884134717 recall_train0 = 0.804006549 f1_score_train0 = 0.842168979\n",
      "precision_te0 = 0.913043478 recall_te0 = 0.811855670 f1_score_te0 = 0.859481583\n",
      "precision_train1 = 0.769648829 recall_train1 = 0.803842375 f1_score_train1 = 0.786374072\n",
      "precision_te1 = 0.773897059 recall_te1 = 0.830374753 f1_score_te1 = 0.801141770\n",
      "precision_train2 = 0.826198715 recall_train2 = 0.872247156 f1_score_train2 = 0.848598700\n",
      "precision_te2 = 0.828545781 recall_te2 = 0.871576959 f1_score_te2 = 0.849516797\n",
      "---------------Printing the Topics------------------\n",
      "seafood goat wrap pepper crab tasti calamari dumpl mozzarella curri mushroom fri good starter perfectli sandwich bland mango grill vegetarian creami pad steam salt garlic banana cook chorizo tempura snapper cold salsa delici bass excel sushi cake home classic oliv vinegar lighter white tomato egg mash milk version fat meat\n",
      "attitud get custom one back adult rude drink question finish servic care lousi restaur jolt mention multipl frustrat recommend minut barista meal ful children less rest friendlier reserv condit incred hospit owner absolut aw restaura flag ridicul fail guy previou waiter clearli patient class exceedingli humberto door cash brought sommeli\n",
      "wall space crowd dark loud vibe booth brick ceil spot outdoor nobl attract light lot play night coupl hip lit small cool nice paint look brightli column parti glow meet wool parpedel festiv pari window blacklight enitr gray garden disco dim copper gown fratti hop charmer famili arti calm across\n",
      "---------------End of Topics------------------\n",
      "##################################################\n"
     ]
    },
    {
     "name": "stdout",
     "output_type": "stream",
     "text": [
      "##################################################\n",
      "Epoch 25, loss=1284.889060546875, accuracy_train=0.8563776824034335, accuracy_test=0.8683966635773864\n",
      "precision_train0 = 0.911062454 recall_train0 = 0.841567948 f1_score_train0 = 0.874937419\n",
      "precision_te0 = 0.929038282 recall_te0 = 0.854810997 f1_score_te0 = 0.890380313\n",
      "precision_train1 = 0.806023589 recall_train1 = 0.835498308 f1_score_train1 = 0.820496328\n",
      "precision_te1 = 0.822857143 recall_te1 = 0.852071006 f1_score_te1 = 0.837209302\n",
      "precision_train2 = 0.851763299 recall_train2 = 0.892391191 f1_score_train2 = 0.871604057\n",
      "precision_te2 = 0.853046595 recall_te2 = 0.898961284 f1_score_te2 = 0.875402299\n",
      "---------------Printing the Topics------------------\n",
      "seafood goat wrap pepper crab tasti calamari mozzarella dumpl mushroom curri sandwich perfectli mango cook starter creami vegetarian steam fri pad grill bland garlic good banana chorizo bass tempura salt sushi snapper oliv cream cake lobster milk cold salsa delici toast highlight delic lighter classic vinegar version pineappl excel mash\n",
      "get attitud back custom adult one drink rude question finish care frustrat jolt mention meal multipl minut ful servic friendlier lousi children barista flag condit reserv brought owner hospit less recommend rest charg speak aw ridicul apologet patient cash class fail guy absolut incred clearli restaura previou complet effort humberto\n",
      "wall space dark loud vibe booth crowd brick spot ceil outdoor nobl night attract hip lot light lit look nice play garden glow paint festiv meet brightli column coupl dim calm gray cool wool pari disco intim small parpedel copper dine fratti blacklight hop enitr famili parti gown charmer arti\n",
      "---------------End of Topics------------------\n",
      "##################################################\n",
      "##################################################\n",
      "Epoch 30, loss=1282.3253779296874, accuracy_train=0.8709356223175966, accuracy_test=0.8826073524868706\n",
      "precision_train0 = 0.923564892 recall_train0 = 0.855340460 f1_score_train0 = 0.888144407\n",
      "precision_te0 = 0.933333333 recall_te0 = 0.865979381 f1_score_te0 = 0.898395722\n",
      "precision_train1 = 0.820670275 recall_train1 = 0.860713896 f1_score_train1 = 0.840215249\n",
      "precision_te1 = 0.833802817 recall_te1 = 0.875739645 f1_score_te1 = 0.854256854\n",
      "precision_train2 = 0.868599131 recall_train2 = 0.897609853 f1_score_train2 = 0.882866235\n",
      "precision_te2 = 0.880036630 recall_te2 = 0.907459868 f1_score_te2 = 0.893537889\n",
      "---------------Printing the Topics------------------\n",
      "seafood goat wrap pepper mozzarella crab tasti calamari mushroom dumpl curri perfectli sandwich mango cook creami starter steam vegetarian pad garlic banana chorizo bland cream grill sushi oliv bass fri snapper tempura lobster salt milk good toast cake highlight delic lighter vinegar salsa fieri recommend juic pineappl mash delici season\n",
      "get back attitud custom drink adult one rude question care finish frustrat mention friendlier meal jolt ful flag children brought multipl barista owner hospit charg lousi condit bill away speak minut reserv said apologet servic aw rest cash less fail patient ridicul recommend effort complet clearli could guy didnt restaura\n",
      "dark space wall vibe booth loud spot brick hip outdoor ceil nobl lit night attract lot crowd glow garden dine brightli look festiv nice light play column paint calm meet dim gray wool hop intim disco pari mood cool copper coupl across arti watch vase subdu cellar famili love gown\n",
      "---------------End of Topics------------------\n",
      "##################################################\n",
      "##################################################\n",
      "Epoch 35, loss=1280.4014951171876, accuracy_train=0.8772875536480687, accuracy_test=0.8866234167438987\n",
      "precision_train0 = 0.934073996 recall_train0 = 0.858326110 f1_score_train0 = 0.894599478\n",
      "precision_te0 = 0.941176471 recall_te0 = 0.865979381 f1_score_te0 = 0.902013423\n",
      "precision_train1 = 0.825700403 recall_train1 = 0.871848052 f1_score_train1 = 0.848146968\n",
      "precision_te1 = 0.837558685 recall_te1 = 0.879684418 f1_score_te1 = 0.858104858\n",
      "precision_train2 = 0.872969428 recall_train2 = 0.903037261 f1_score_train2 = 0.887748820\n",
      "precision_te2 = 0.881017257 recall_te2 = 0.915958451 f1_score_te2 = 0.898148148\n",
      "---------------Printing the Topics------------------\n",
      "seafood goat wrap pepper mozzarella calamari crab mushroom tasti perfectli curri sandwich dumpl mango creami cook starter steam pad banana vegetarian garlic chorizo cream sushi bass oliv snapper milk tempura lobster grill bland toast highlight salt juic fieri delic fri pineappl season recommend flavor cake vinegar gra mash breakfast fat\n",
      "get back custom attitud drink adult rude question care frustrat one mention flag children friendlier bill jolt ful finish away brought charg said hospit meal barista multipl apologet owner condit lousi speak minut patient servic effort could fail cash aw told reserv pay spill ridicul rush complet rest didnt recommend\n",
      "dark space wall booth vibe loud hip spot ceil outdoor nobl brick lit attract dine glow night garden brightli lot festiv play nice column calm paint gray look hop crowd dim intim mood wool pari softli disco cool meet light ideal arti copper chair charmer across vase stool cellar theatr\n",
      "---------------End of Topics------------------\n",
      "##################################################\n",
      "##################################################\n",
      "Epoch 40, loss=1278.95190625, accuracy_train=0.880618025751073, accuracy_test=0.8897126969416126\n",
      "precision_train0 = 0.938814130 recall_train0 = 0.860059713 f1_score_train0 = 0.897712993\n",
      "precision_te0 = 0.943361188 recall_te0 = 0.872852234 f1_score_te0 = 0.906738063\n",
      "precision_train1 = 0.824591837 recall_train1 = 0.882108940 f1_score_train1 = 0.852381204\n",
      "precision_te1 = 0.835807050 recall_te1 = 0.888560158 f1_score_te1 = 0.861376673\n",
      "precision_train2 = 0.880158973 recall_train2 = 0.901471663 f1_score_train2 = 0.890687842\n",
      "precision_te2 = 0.890018484 recall_te2 = 0.909348442 f1_score_te2 = 0.899579636\n",
      "---------------Printing the Topics------------------\n",
      "seafood goat mozzarella pepper wrap calamari crab mushroom tasti curri sandwich perfectli dumpl mango creami cook starter steam pad banana vegetarian chorizo cream garlic bass oliv milk sushi snapper tempura lobster toast juic highlight grill fieri delic salt season gra vinegar pineappl butternut bland flavor mash version breakfast recommend lighter\n",
      "get custom attitud adult back drink rude question care frustrat bill flag mention friendlier ful children said brought jolt charg away barista hospit multipl minut apologet servic patient told lousi speak meal could ask fail clearli condit cash effort pay finish credit handl less spill didnt disinterest rush aw rest\n",
      "dark wall space booth vibe hip spot dine lit outdoor ceil glow loud nobl attract brick brightli festiv calm garden lot column play gray mood softli paint night hop nice disco intim pari meet wool ideal stool vase dim copper cellar charmer arti subdu cool light antiqu view chair fratti\n",
      "---------------End of Topics------------------\n",
      "##################################################\n",
      "##################################################\n",
      "Epoch 45, loss=1277.8832353515625, accuracy_train=0.8822317596566523, accuracy_test=0.8887859128822985\n",
      "precision_train0 = 0.943480102 recall_train0 = 0.858518733 f1_score_train0 = 0.898996521\n",
      "precision_te0 = 0.950047125 recall_te0 = 0.865979381 f1_score_te0 = 0.906067416\n",
      "precision_train1 = 0.821557971 recall_train1 = 0.891059928 f1_score_train1 = 0.854898675\n",
      "precision_te1 = 0.828467153 recall_te1 = 0.895463511 f1_score_te1 = 0.860663507\n",
      "precision_train2 = 0.884714095 recall_train2 = 0.899488571 f1_score_train2 = 0.892040161\n",
      "precision_te2 = 0.889814815 recall_te2 = 0.907459868 f1_score_te2 = 0.898550725\n",
      "---------------Printing the Topics------------------\n",
      "seafood goat mozzarella pepper wrap calamari crab mushroom curri dumpl sandwich tasti perfectli creami mango starter steam pad banana chorizo cook cream vegetarian garlic milk bass snapper sushi oliv tempura lobster fieri toast delic juic vinegar highlight pineappl gra butternut grill salt season lighter sizzl version plum flavor chunk mash\n",
      "get custom adult attitud drink rude back frustrat question care bill flag friendlier ful mention jolt charg children said brought servic barista hospit minut apologet away multipl ask patient told fail disinterest handl credit speak lousi rush clearli within pay could spill didnt less aw ct cash glanc taff effort\n",
      "dark wall space booth hip vibe dine lit nobl glow ceil attract outdoor brightli spot brick loud festiv calm softli column gray lot mood garden paint hop intim ideal pari disco cellar copper antiqu condit nice vase stool meet subdu arti fratti wool wealthi charmer lobbi play hipster view architectur\n",
      "---------------End of Topics------------------\n",
      "##################################################\n"
     ]
    },
    {
     "name": "stdout",
     "output_type": "stream",
     "text": [
      "##################################################\n",
      "Epoch 50, loss=1277.0822890625, accuracy_train=0.8851158798283262, accuracy_test=0.8897126969416126\n",
      "precision_train0 = 0.946783749 recall_train0 = 0.861889627 f1_score_train0 = 0.902344341\n",
      "precision_te0 = 0.950897073 recall_te0 = 0.865120275 f1_score_te0 = 0.905982906\n",
      "precision_train1 = 0.826668017 recall_train1 = 0.891278245 f1_score_train1 = 0.857758168\n",
      "precision_te1 = 0.829690346 recall_te1 = 0.898422091 f1_score_te1 = 0.862689394\n",
      "precision_train2 = 0.884544712 recall_train2 = 0.904394113 f1_score_train2 = 0.894359292\n",
      "precision_te2 = 0.890740741 recall_te2 = 0.908404155 f1_score_te2 = 0.899485741\n",
      "---------------Printing the Topics------------------\n",
      "goat seafood mozzarella pepper calamari wrap mushroom crab curri mango dumpl creami sandwich perfectli tasti starter pad steam banana chorizo cream garlic milk vegetarian snapper bass tempura cook oliv sushi fieri lobster highlight juic vinegar toast delic pineappl butternut gra chunk plum sizzl grill version fri mash savori salt season\n",
      "adult custom get rude attitud question frustrat drink flag bill servic friendlier ful jolt charg mention care children brought barista minut apologet ask said hospit patient multipl told fail away lousi disinterest handl within rush credit speak clearli taff waiter less didnt spill pay ct aw flexibl back cash effort\n",
      "wall dark booth hip space lit vibe glow nobl dine attract ceil brightli outdoor calm festiv spot column softli brick gray hop paint garden loud mood ideal antiqu intim cellar vase disco condit stool pari lot meet arti copper fratti subdu charmer folk hipster wool maich gather wealthi architectur lobbi\n",
      "---------------End of Topics------------------\n",
      "##################################################\n",
      "##################################################\n",
      "Epoch 55, loss=1276.5479833984375, accuracy_train=0.8846695278969957, accuracy_test=0.8890948409020698\n",
      "precision_train0 = 0.949600426 recall_train0 = 0.858326110 f1_score_train0 = 0.901659247\n",
      "precision_te0 = 0.958851675 recall_te0 = 0.860824742 f1_score_te0 = 0.907197827\n",
      "precision_train1 = 0.824037785 recall_train1 = 0.895098788 f1_score_train1 = 0.858099623\n",
      "precision_te1 = 0.828493648 recall_te1 = 0.900394477 f1_score_te1 = 0.862948960\n",
      "precision_train2 = 0.884053529 recall_train2 = 0.903246008 f1_score_train2 = 0.893546722\n",
      "precision_te2 = 0.883486239 recall_te2 = 0.909348442 f1_score_te2 = 0.896230805\n",
      "---------------Printing the Topics------------------\n",
      "goat mozzarella seafood pepper calamari wrap mushroom crab curri mango creami dumpl starter perfectli tasti sandwich steam pad chorizo banana milk cream snapper bass garlic tempura oliv vegetarian fieri highlight vinegar pineappl lobster delic cook juic toast plum butternut gra chunk sushi sizzl carpaccio fri version mash melt aromat tartar\n",
      "adult custom rude servic frustrat question flag attitud bill charg jolt friendlier ful minut children barista mention apologet get ask care brought drink hospit waiter said multipl patient credit disinterest lousi within told fail rush cash didnt aw handl spill taff speak clearli meanwhil card ct pay clearer obnoxi away\n",
      "wall dark booth hip lit glow nobl space vibe attract brightli dine ceil outdoor calm softli column festiv hop gray brick spot paint mood ideal antiqu cellar subdu stool disco copper condit intim folk architectur hipster pari fratti arti furnitur lobbi vase charmer wool tree garden loud middl gather cosi\n",
      "---------------End of Topics------------------\n",
      "##################################################\n",
      "##################################################\n",
      "Epoch 60, loss=1276.1294091796874, accuracy_train=0.8846351931330472, accuracy_test=0.893110905159098\n",
      "precision_train0 = 0.954309786 recall_train0 = 0.850910142 f1_score_train0 = 0.899648694\n",
      "precision_te0 = 0.966248795 recall_te0 = 0.860824742 f1_score_te0 = 0.910495229\n",
      "precision_train1 = 0.825110753 recall_train1 = 0.894552996 f1_score_train1 = 0.858429791\n",
      "precision_te1 = 0.839006440 recall_te1 = 0.899408284 f1_score_te1 = 0.868158020\n",
      "precision_train2 = 0.879214897 recall_train2 = 0.911700240 f1_score_train2 = 0.895162943\n",
      "precision_te2 = 0.877807727 recall_te2 = 0.922568461 f1_score_te2 = 0.899631676\n",
      "---------------Printing the Topics------------------\n",
      "mozzarella goat seafood pepper calamari wrap mushroom crab curri mango creami dumpl starter pad steam perfectli tasti chorizo banana sandwich milk cream snapper bass tempura garlic oliv fieri highlight vegetarian vinegar lobster delic pineappl plum butternut toast sizzl fri chunk gra juic carpaccio urchin avacado tartar savori flaki version melt\n",
      "adult custom rude servic frustrat flag question bill jolt charg ful friendlier children barista apologet minut mention attitud ask waiter brought care multipl disinterest credit patient hospit said within lousi fail clearli rush taff didnt spill told cash drink obnoxi card handl aw clearer write flexibl meanwhil speak readi glanc\n",
      "wall dark hip booth lit glow nobl brightli vibe space attract ceil dine calm softli column outdoor hop festiv gray antiqu cellar mood paint ideal brick condit subdu intim folk furnitur disco copper stool lobbi arti pari hipster spot architectur fratti meet gather wool sofa cushion vase maich courtyard cosi\n",
      "---------------End of Topics------------------\n",
      "##################################################\n",
      "##################################################\n",
      "Epoch 65, loss=1275.8340810546874, accuracy_train=0.8844635193133047, accuracy_test=0.8940376892184121\n",
      "precision_train0 = 0.956493365 recall_train0 = 0.846961379 f1_score_train0 = 0.898401185\n",
      "precision_te0 = 0.969814995 recall_te0 = 0.855670103 f1_score_te0 = 0.909173893\n",
      "precision_train1 = 0.822410359 recall_train1 = 0.901320817 f1_score_train1 = 0.860059372\n",
      "precision_te1 = 0.840805124 recall_te1 = 0.906311637 f1_score_te1 = 0.872330327\n",
      "precision_train2 = 0.880497422 recall_train2 = 0.908986536 f1_score_train2 = 0.894515201\n",
      "precision_te2 = 0.876454790 recall_te2 = 0.924457035 f1_score_te2 = 0.899816176\n",
      "---------------Printing the Topics------------------\n",
      "mozzarella goat pepper calamari seafood wrap crab mushroom mango curri creami starter dumpl pad steam banana chorizo perfectli tasti milk sandwich cream snapper bass tempura oliv garlic fieri vinegar delic pineappl highlight plum butternut toast vegetarian gra fri lobster chunk juic sizzl tartar aromat sesam avacado melt urchin savori avocado\n",
      "adult rude custom frustrat flag question bill charg children jolt apologet friendlier barista ful servic mention hospit minut credit multipl patient attitud disinterest brought ask care said waiter within lousi rush didnt taff spill fail cash clearer clearli flexibl meanwhil card handl told obnoxi write comp repli glanc pay unattent\n",
      "wall dark lit hip glow booth nobl brightli vibe attract space ceil calm softli column dine outdoor hop antiqu festiv gray paint cellar mood condit furnitur ideal folk subdu intim copper lobbi arti disco sofa pari cushion stool maich architectur hipster darker cosi fratti spotless brick cloth wool middl vase\n",
      "---------------End of Topics------------------\n",
      "##################################################\n",
      "##################################################\n",
      "Epoch 70, loss=1275.6232890625, accuracy_train=0.8852875536480687, accuracy_test=0.8921841210997837\n",
      "precision_train0 = 0.959693319 recall_train0 = 0.843879418 f1_score_train0 = 0.898067955\n",
      "precision_te0 = 0.970414201 recall_te0 = 0.845360825 f1_score_te0 = 0.903581267\n",
      "precision_train1 = 0.826391670 recall_train1 = 0.900993341 f1_score_train1 = 0.862081571\n",
      "precision_te1 = 0.840659341 recall_te1 = 0.905325444 f1_score_te1 = 0.871794872\n",
      "precision_train2 = 0.876186669 recall_train2 = 0.915144557 f1_score_train2 = 0.895241985\n",
      "precision_te2 = 0.871794872 recall_te2 = 0.931067044 f1_score_te2 = 0.900456621\n",
      "---------------Printing the Topics------------------\n",
      "mozzarella goat pepper calamari seafood wrap crab mango creami mushroom starter curri dumpl pad steam chorizo banana milk perfectli tasti snapper cream bass sandwich tempura oliv fieri garlic plum pineappl vinegar delic highlight gra toast juic lobster chunk sizzl butternut sesam aromat tartar fri vegetarian urchin avacado carpaccio avocado savori\n",
      "adult frustrat rude custom flag question bill friendlier charg apologet children barista jolt ful hospit credit multipl patient mention disinterest lousi brought within said taff care minut spill didnt attitud rush clearer ask fail comp card meanwhil cash repli glanc flexibl obnoxi unattent readi handl clearli misogyni ct insult told\n",
      "wall dark glow lit hip booth brightli nobl vibe attract softli calm ceil space column antiqu outdoor dine hop festiv gray paint ideal furnitur subdu cellar folk arti mood condit stool sofa copper lobbi intim cushion disco darker fixtur architectur hipster pari cosi gather wool spotless rail fratti cer courtyard\n",
      "---------------End of Topics------------------\n",
      "##################################################\n"
     ]
    },
    {
     "name": "stdout",
     "output_type": "stream",
     "text": [
      "##################################################\n",
      "Epoch 75, loss=1275.4836005859374, accuracy_train=0.8846008583690987, accuracy_test=0.8928019771393265\n",
      "precision_train0 = 0.960719409 recall_train0 = 0.838582298 f1_score_train0 = 0.895505502\n",
      "precision_te0 = 0.971400394 recall_te0 = 0.846219931 f1_score_te0 = 0.904499541\n",
      "precision_train1 = 0.829369079 recall_train1 = 0.898264382 f1_score_train1 = 0.862443012\n",
      "precision_te1 = 0.849673203 recall_te1 = 0.897435897 f1_score_te1 = 0.872901679\n",
      "precision_train2 = 0.870611440 recall_train2 = 0.921406951 f1_score_train2 = 0.895289286\n",
      "precision_te2 = 0.863715278 recall_te2 = 0.939565628 f1_score_te2 = 0.900045228\n",
      "---------------Printing the Topics------------------\n",
      "mozzarella pepper goat calamari seafood wrap crab mango creami starter mushroom curri steam banana pad dumpl chorizo perfectli milk snapper cream bass tasti tempura oliv sandwich fieri plum pineappl highlight vinegar delic gra toast lobster chunk butternut fri aromat garlic tartar sizzl urchin juic sesam avocado carpaccio avacado savori flaki\n",
      "adult frustrat flag question custom bill charg friendlier rude children apologet ful credit barista multipl hospit jolt disinterest patient mention lousi rush clearer taff brought said within spill meanwhil repli care card clearli comp obnoxi flexibl glanc attitud unattent didnt fail handl cash insult misogyni blame write ask appolog employe\n",
      "wall dark glow lit hip brightli nobl booth vibe calm attract softli column ceil antiqu space dine hop outdoor gray festiv paint furnitur subdu stool folk ideal arti darker condit sofa lobbi copper cellar cushion mood architectur disco wool fixtur intim cer spotless hipster cosi lair gather maich linen pari\n",
      "---------------End of Topics------------------\n",
      "##################################################\n",
      "##################################################\n",
      "Epoch 80, loss=1275.4005498046874, accuracy_train=0.8843948497854077, accuracy_test=0.8918751930800124\n",
      "precision_train0 = 0.957856514 recall_train0 = 0.838389675 f1_score_train0 = 0.894150275\n",
      "precision_te0 = 0.969337290 recall_te0 = 0.841924399 f1_score_te0 = 0.901149425\n",
      "precision_train1 = 0.829489375 recall_train1 = 0.899028490 f1_score_train1 = 0.862860136\n",
      "precision_te1 = 0.849953402 recall_te1 = 0.899408284 f1_score_te1 = 0.873981792\n",
      "precision_train2 = 0.872279383 recall_train2 = 0.920258846 f1_score_train2 = 0.895627000\n",
      "precision_te2 = 0.862966175 recall_te2 = 0.939565628 f1_score_te2 = 0.899638336\n",
      "---------------Printing the Topics------------------\n",
      "mozzarella pepper calamari goat mango crab seafood wrap creami starter curri mushroom pad steam dumpl banana chorizo perfectli snapper milk bass cream tempura fieri oliv highlight pineappl tasti sandwich plum delic vinegar urchin butternut aromat chunk sesam sizzl gra lobster fri tartar toast flaki avacado carpaccio savori juic avocado melt\n",
      "adult frustrat flag question custom friendlier bill charg apologet children credit ful disinterest rude multipl lousi patient hospit barista mention rush taff jolt clearer within brought repli spill clearli said card meanwhil handl comp fail unattent care glanc didnt cash appolog blame flexibl obnoxi attitud storm misogyni substitu automat readi\n",
      "wall glow dark brightli hip lit booth nobl vibe calm softli column attract ceil antiqu hop space furnitur festiv outdoor gray subdu paint darker dine condit ideal stool arti sofa lobbi cellar fixtur cushion folk architectur cosi copper mood cer chatter wool spotless disco centuri hipster gather intim lair maich\n",
      "---------------End of Topics------------------\n",
      "##################################################\n",
      "##################################################\n",
      "Epoch 85, loss=1275.349962890625, accuracy_train=0.8819570815450644, accuracy_test=0.893110905159098\n",
      "precision_train0 = 0.959415765 recall_train0 = 0.828758548 f1_score_train0 = 0.889313766\n",
      "precision_te0 = 0.970238095 recall_te0 = 0.840206186 f1_score_te0 = 0.900552486\n",
      "precision_train1 = 0.827859797 recall_train1 = 0.899792599 f1_score_train1 = 0.862328695\n",
      "precision_te1 = 0.849442379 recall_te1 = 0.901380671 f1_score_te1 = 0.874641148\n",
      "precision_train2 = 0.866653593 recall_train2 = 0.922555057 f1_score_train2 = 0.893731041\n",
      "precision_te2 = 0.866435386 recall_te2 = 0.943342776 f1_score_te2 = 0.903254973\n",
      "---------------Printing the Topics------------------\n",
      "mozzarella calamari pepper goat mango crab wrap seafood starter creami curri mushroom steam chorizo pad banana dumpl milk snapper perfectli bass tempura cream fieri oliv pineappl plum highlight delic butternut aromat vinegar tasti urchin sandwich gra sesam chunk sizzl tartar lobster flaki fri toast avocado carpaccio melt avacado sticki boil\n",
      "adult frustrat flag question friendlier bill apologet charg custom credit disinterest ful children patient rude multipl hospit lousi clearer mention taff repli within rush spill barista clearli said comp card blame meanwhil brought jolt unattent handl didnt storm appolog fail care substitu flexibl obnoxi respond cash misogyni glanc automat ct\n",
      "glow wall dark brightli hip lit nobl booth calm column vibe softli attract antiqu ceil hop space furnitur festiv outdoor gray subdu sofa paint darker arti fixtur dine cushion ideal stool cellar condit lobbi gather folk chatter cer architectur copper cosi disco linen centuri hipster spotless mood expos courtyard rail\n",
      "---------------End of Topics------------------\n",
      "##################################################\n",
      "##################################################\n",
      "Epoch 90, loss=1275.255095703125, accuracy_train=0.880618025751073, accuracy_test=0.8903305529811554\n",
      "precision_train0 = 0.960337079 recall_train0 = 0.823172493 f1_score_train0 = 0.886480319\n",
      "precision_te0 = 0.971000000 recall_te0 = 0.834192440 f1_score_te0 = 0.897412200\n",
      "precision_train1 = 0.828235057 recall_train1 = 0.898482698 f1_score_train1 = 0.861929944\n",
      "precision_te1 = 0.849673203 recall_te1 = 0.897435897 f1_score_te1 = 0.872901679\n",
      "precision_train2 = 0.862253329 recall_train2 = 0.925790627 f1_score_train2 = 0.892893094\n",
      "precision_te2 = 0.858490566 recall_te2 = 0.945231350 f1_score_te2 = 0.899775281\n",
      "---------------Printing the Topics------------------\n",
      "mozzarella calamari pepper mango starter crab creami wrap goat curri seafood steam chorizo banana pad mushroom dumpl milk snapper tempura perfectli bass fieri cream pineappl oliv plum delic highlight aromat butternut urchin sizzl vinegar chunk sesam gra tasti flaki tartar lobster fri sandwich carpaccio boil avocado toast sticki melt spaghetti\n",
      "adult frustrat flag question friendlier bill apologet charg credit custom disinterest ful patient children multipl hospit rude clearer repli rush mention lousi spill within taff blame didnt meanwhil clearli unattent comp card storm appolog handl said barista substitu respond care fail automat glanc insist flexibl obnoxi unapologet misogyni cash smirk\n",
      "glow brightli dark wall nobl hip lit booth column calm softli vibe attract antiqu ceil hop furnitur festiv space sofa subdu lobbi gray fixtur darker paint arti cellar outdoor gather cushion condit ideal stool folk chatter copper linen dine disco cosi spotless architectur expos centuri tree rockwel hipster rail wool\n",
      "---------------End of Topics------------------\n",
      "##################################################\n",
      "##################################################\n",
      "Epoch 95, loss=1275.22333984375, accuracy_train=0.8808927038626609, accuracy_test=0.8928019771393265\n",
      "precision_train0 = 0.957951241 recall_train0 = 0.825002408 f1_score_train0 = 0.886520052\n",
      "precision_te0 = 0.972111554 recall_te0 = 0.838487973 f1_score_te0 = 0.900369004\n",
      "precision_train1 = 0.830422933 recall_train1 = 0.898046065 f1_score_train1 = 0.862911684\n",
      "precision_te1 = 0.856607310 recall_te1 = 0.901380671 f1_score_te1 = 0.878423835\n",
      "precision_train2 = 0.862495134 recall_train2 = 0.925060015 f1_score_train2 = 0.892682681\n",
      "precision_te2 = 0.857632933 recall_te2 = 0.944287063 f1_score_te2 = 0.898876404\n",
      "---------------Printing the Topics------------------\n",
      "mozzarella calamari pepper mango starter creami crab wrap curri seafood goat chorizo steam pad banana milk dumpl snapper mushroom perfectli tempura fieri bass cream pineappl plum oliv butternut aromat highlight urchin delic sesam vinegar sizzl chunk tartar gra flaki boil carpaccio lobster sandwich avocado spaghetti melt toast pistachio sticki avacado\n",
      "adult frustrat flag friendlier question bill credit apologet disinterest charg ful multipl patient custom children hospit repli lousi clearer rude within blame rush card mention spill didnt storm taff appolog comp unattent meanwhil said clearli unapologet obnoxi smirk substitu automat barista handl waitor insult glanc misogyni respond insist flexibl cash\n",
      "glow brightli hip nobl dark wall lit booth column softli calm vibe antiqu attract ceil hop furnitur sofa darker lobbi fixtur gray space festiv subdu cellar paint arti folk gather condit outdoor copper cushion ideal centuri chatter rockwel linen stool disco architectur spotless cer cosi hipster courtyard expos rail edgi\n",
      "---------------End of Topics------------------\n",
      "##################################################\n"
     ]
    },
    {
     "name": "stdout",
     "output_type": "stream",
     "text": [
      "##################################################\n",
      "Epoch 100, loss=1275.21734765625, accuracy_train=0.879793991416309, accuracy_test=0.8894037689218413\n",
      "precision_train0 = 0.958221024 recall_train0 = 0.821727824 f1_score_train0 = 0.884741017\n",
      "precision_te0 = 0.971000000 recall_te0 = 0.834192440 f1_score_te0 = 0.897412200\n",
      "precision_train1 = 0.826587858 recall_train1 = 0.900665866 f1_score_train1 = 0.862038343\n",
      "precision_te1 = 0.850746269 recall_te1 = 0.899408284 f1_score_te1 = 0.874400767\n",
      "precision_train2 = 0.863463229 recall_train2 = 0.922763803 f1_score_train2 = 0.892129162\n",
      "precision_te2 = 0.854935622 recall_te2 = 0.940509915 f1_score_te2 = 0.895683453\n",
      "---------------Printing the Topics------------------\n",
      "mozzarella calamari starter pepper mango crab creami curri wrap seafood chorizo steam banana pad goat dumpl milk snapper mushroom tempura fieri cream perfectli pineappl bass butternut aromat oliv urchin highlight plum vinegar sesam delic chunk sizzl gra tartar boil flaki garlicki carpaccio avocado sticki melt scrambl avacado sandwich toast pistachio\n",
      "adult frustrat friendlier flag question apologet bill credit disinterest patient charg multipl custom children ful clearer repli hospit lousi card within rude rush spill storm appolog blame comp didnt obnoxi meanwhil automat mention unattent fume awar smirk taff clearli substitu handl said respond cash glanc unapologet flexibl insult ct misogyni\n",
      "glow brightli nobl hip wall lit dark booth column softli calm antiqu vibe attract hop ceil furnitur darker fixtur lobbi sofa arti festiv subdu gray paint space cellar gather cosi disco condit folk copper architectur rockwel cer centuri rail edgi stool linen courtyard ideal spotless expos countrysid outdoor cushion aura\n",
      "---------------End of Topics------------------\n",
      "##################################################\n",
      "##################################################\n",
      "Epoch 105, loss=1275.1257763671874, accuracy_train=0.8784549356223176, accuracy_test=0.8881680568427557\n",
      "precision_train0 = 0.957727426 recall_train0 = 0.818260618 f1_score_train0 = 0.882517918\n",
      "precision_te0 = 0.970824950 recall_te0 = 0.829037801 f1_score_te0 = 0.894346617\n",
      "precision_train1 = 0.824568406 recall_train1 = 0.901975767 f1_score_train1 = 0.861536857\n",
      "precision_te1 = 0.847363552 recall_te1 = 0.903353057 f1_score_te1 = 0.874463007\n",
      "precision_train2 = 0.862503665 recall_train2 = 0.921198205 f1_score_train2 = 0.890885233\n",
      "precision_te2 = 0.855421687 recall_te2 = 0.938621341 f1_score_te2 = 0.895092301\n",
      "---------------Printing the Topics------------------\n",
      "mozzarella starter calamari mango pepper creami crab curri wrap steam chorizo banana seafood dumpl pad goat snapper milk tempura fieri mushroom cream pineappl butternut bass perfectli aromat urchin plum vinegar sesam oliv highlight delic chunk sizzl gra flaki boil garlicki avocado tartar avacado pistachio carpaccio sticki caesar spaghetti rosemari toast\n",
      "adult frustrat friendlier flag question credit apologet bill disinterest charg custom multipl patient children clearer ful repli hospit spill storm within card obnoxi comp blame rude mention rush lousi appolog automat didnt smirk meanwhil unattent handl awar glanc substitu clearli taff misogyni said fume ct unapologet insult respond flexibl insist\n",
      "glow brightli nobl lit hip wall dark column booth softli antiqu calm attract vibe ceil hop furnitur lobbi darker fixtur sofa paint arti gray condit gather cosi countrysid subdu copper disco architectur festiv folk space cellar edgi rockwel cer linen rail centuri courtyard stool expos hipster chatter spotless vase lair\n",
      "---------------End of Topics------------------\n",
      "##################################################\n",
      "##################################################\n",
      "Epoch 110, loss=1275.1519990234376, accuracy_train=0.8762918454935622, accuracy_test=0.8872412727834414\n",
      "precision_train0 = 0.959090909 recall_train0 = 0.812867187 f1_score_train0 = 0.879945785\n",
      "precision_te0 = 0.971631206 recall_te0 = 0.823883162 f1_score_te0 = 0.891678289\n",
      "precision_train1 = 0.823235852 recall_train1 = 0.900338391 f1_score_train1 = 0.860062565\n",
      "precision_te1 = 0.847363552 recall_te1 = 0.903353057 f1_score_te1 = 0.874463007\n",
      "precision_train2 = 0.857170580 recall_train2 = 0.922033191 f1_score_train2 = 0.888419571\n",
      "precision_te2 = 0.852865697 recall_te2 = 0.941454202 f1_score_te2 = 0.894973070\n",
      "---------------Printing the Topics------------------\n",
      "mozzarella starter mango calamari pepper creami curri crab chorizo wrap banana steam pad snapper seafood dumpl milk goat fieri tempura butternut mushroom aromat pineappl cream urchin bass vinegar plum perfectli sesam highlight oliv flaki gra delic sizzl boil garlicki chunk tartar pistachio avacado avocado carpaccio ham rosemari sticki caesar scrambl\n",
      "adult frustrat friendlier flag apologet credit question disinterest bill clearer multipl charg patient children repli custom ful hospit storm blame spill within card comp automat appolog obnoxi lousi mention rude rush smirk unattent didnt substitu unapologet said misogyni meanwhil taff awar insult cash handl glanc fume ct clearli consult respond\n",
      "glow brightli nobl lit hip column wall dark booth antiqu softli calm attract vibe furnitur ceil hop fixtur lobbi darker sofa condit arti cosi gray rockwel copper paint subdu countrysid gather courtyard cer linen architectur rail spotless centuri festiv cellar edgi hipster disco folk wool expos space cushion vase flicker\n",
      "---------------End of Topics------------------\n",
      "##################################################\n",
      "##################################################\n",
      "Epoch 115, loss=1275.0913720703124, accuracy_train=0.8748154506437769, accuracy_test=0.8853877046648131\n",
      "precision_train0 = 0.958480264 recall_train0 = 0.811518829 f1_score_train0 = 0.878898508\n",
      "precision_te0 = 0.972560976 recall_te0 = 0.822164948 f1_score_te0 = 0.891061453\n",
      "precision_train1 = 0.823747867 recall_train1 = 0.895862897 f1_score_train1 = 0.858293244\n",
      "precision_te1 = 0.843173432 recall_te1 = 0.901380671 f1_score_te1 = 0.871306006\n",
      "precision_train2 = 0.852955356 recall_train2 = 0.923285670 f1_score_train2 = 0.886728148\n",
      "precision_te2 = 0.851154833 recall_te2 = 0.939565628 f1_score_te2 = 0.893177738\n",
      "---------------Printing the Topics------------------\n",
      "mozzarella mango starter pepper calamari creami chorizo curri crab wrap banana steam pad snapper seafood dumpl milk goat fieri tempura butternut aromat pineappl urchin mushroom bass vinegar plum cream sesam perfectli highlight boil flaki oliv sizzl garlicki gra avacado chunk delic tartar pistachio carpaccio ham rosemari scrambl spaghetti avocado caesar\n",
      "adult frustrat friendlier flag apologet credit disinterest question bill clearer patient charg repli multipl children ful storm blame custom hospit appolog within card comp lousi spill automat mention didnt unapologet unattent meanwhil obnoxi smirk substitu rush rude ct taff insult said flexibl fume awar clearli rectifi cash respond consult glanc\n",
      "glow brightli nobl lit column hip wall booth dark softli antiqu calm furnitur attract ceil vibe fixtur lobbi sofa darker hop arti condit cosi rockwel subdu gather copper linen paint courtyard rail countrysid architectur gray cer centuri edgi cellar hipster wool spotless cushion expos flicker disco festiv townhous lair vase\n",
      "---------------End of Topics------------------\n",
      "##################################################\n",
      "##################################################\n",
      "Epoch 120, loss=1275.1003916015625, accuracy_train=0.8744721030042919, accuracy_test=0.8866234167438987\n",
      "precision_train0 = 0.957350272 recall_train0 = 0.812867187 f1_score_train0 = 0.879212459\n",
      "precision_te0 = 0.972727273 recall_te0 = 0.827319588 f1_score_te0 = 0.894150418\n",
      "precision_train1 = 0.823783675 recall_train1 = 0.894552996 f1_score_train1 = 0.857711026\n",
      "precision_te1 = 0.846796657 recall_te1 = 0.899408284 f1_score_te1 = 0.872309900\n",
      "precision_train2 = 0.852620403 recall_train2 = 0.922033191 f1_score_train2 = 0.885969311\n",
      "precision_te2 = 0.850427350 recall_te2 = 0.939565628 f1_score_te2 = 0.892777030\n",
      "---------------Printing the Topics------------------\n",
      "mozzarella mango starter calamari pepper chorizo creami crab curri banana wrap steam snapper pad seafood milk dumpl fieri goat butternut aromat tempura pineappl plum urchin bass mushroom vinegar sesam cream sizzl flaki garlicki highlight boil perfectli gra avacado oliv tartar pistachio delic carpaccio rosemari ham chunk scrambl spaghetti melt atop\n",
      "adult frustrat friendlier flag apologet credit disinterest question bill patient clearer repli storm children ful charg blame multipl appolog within custom hospit automat comp spill mention lousi card unattent didnt smirk unapologet meanwhil ct taff insult rush cash rectifi flexibl inqu handl obnoxi exceedingli awar rude said displeasur fume clearli\n",
      "glow brightli nobl lit column hip wall booth antiqu dark softli calm furnitur lobbi sofa ceil fixtur vibe attract hop darker rockwel condit arti copper rail cosi courtyard centuri countrysid architectur spotless linen paint gather edgi cellar cer gray subdu lair townhous flicker chatter expos cushion mod wool hipster wraparound\n",
      "---------------End of Topics------------------\n",
      "##################################################\n"
     ]
    },
    {
     "name": "stdout",
     "output_type": "stream",
     "text": [
      "##################################################\n",
      "Epoch 125, loss=1275.0457958984375, accuracy_train=0.8741974248927039, accuracy_test=0.8856966326845845\n",
      "precision_train0 = 0.956310130 recall_train0 = 0.813733988 f1_score_train0 = 0.879279842\n",
      "precision_te0 = 0.972672065 recall_te0 = 0.825601375 f1_score_te0 = 0.893122677\n",
      "precision_train1 = 0.825704759 recall_train1 = 0.892042353 f1_score_train1 = 0.857592612\n",
      "precision_te1 = 0.847441860 recall_te1 = 0.898422091 f1_score_te1 = 0.872187650\n",
      "precision_train2 = 0.850572501 recall_train2 = 0.922659430 f1_score_train2 = 0.885150696\n",
      "precision_te2 = 0.847529813 recall_te2 = 0.939565628 f1_score_te2 = 0.891177788\n",
      "---------------Printing the Topics------------------\n",
      "mozzarella mango starter pepper calamari creami chorizo curri crab snapper steam wrap banana pad seafood milk dumpl fieri butternut aromat goat tempura pineappl plum urchin cream mushroom bass flaki sesam vinegar sizzl garlicki boil highlight gra avacado oliv pistachio tartar rosemari carpaccio perfectli delic ham chunk scrambl spaghetti sticki melt\n",
      "adult frustrat friendlier flag credit disinterest apologet question bill patient storm clearer repli blame children ful appolog charg multipl hospit within lousi automat comp spill card meanwhil mention smirk didnt unattent ct unapologet custom insult taff awar inqu rectifi handl rush cash fume obnoxi displeasur consult insist substitu rude exceedingli\n",
      "glow brightli nobl column lit wall hip booth antiqu softli dark calm furnitur sofa attract lobbi fixtur ceil darker rockwel arti vibe condit hop copper rail courtyard edgi linen cosi cer countrysid architectur townhous spotless centuri gather lair flicker chatter wool paint cellar gray subdu vase mod expos cushion folk\n",
      "---------------End of Topics------------------\n",
      "##################################################\n",
      "##################################################\n",
      "Epoch 130, loss=1275.06684375, accuracy_train=0.8734420600858369, accuracy_test=0.884460920605499\n",
      "precision_train0 = 0.955719139 recall_train0 = 0.812770875 f1_score_train0 = 0.878467704\n",
      "precision_te0 = 0.972560976 recall_te0 = 0.822164948 f1_score_te0 = 0.891061453\n",
      "precision_train1 = 0.820928371 recall_train1 = 0.895753739 f1_score_train1 = 0.856710341\n",
      "precision_te1 = 0.841620626 recall_te1 = 0.901380671 f1_score_te1 = 0.870476190\n",
      "precision_train2 = 0.853869308 recall_train2 = 0.917858261 f1_score_train2 = 0.884708249\n",
      "precision_te2 = 0.850042845 recall_te2 = 0.936732767 f1_score_te2 = 0.891284816\n",
      "---------------Printing the Topics------------------\n",
      "mozzarella mango starter calamari chorizo pepper creami crab curri snapper steam pad banana wrap fieri milk butternut dumpl seafood aromat goat pineappl tempura flaki plum cream urchin bass vinegar boil sizzl garlicki mushroom sesam highlight gra avacado carpaccio oliv pistachio rosemari chunk perfectli tartar delic ham spaghetti scrambl melt gratin\n",
      "adult frustrat friendlier disinterest flag credit apologet bill question patient storm repli clearer appolog children ful blame multipl charg meanwhil hospit automat comp lousi within ct smirk unapologet rectifi custom unattent insult mention spill didnt card inqu awar handl consult displeasur substitu fume taff rush exceedingli cash misogyni waitor glitch\n",
      "glow brightli nobl column lit hip antiqu wall softli booth dark furnitur calm sofa lobbi fixtur rockwel condit darker attract ceil vibe arti rail hop cosi copper courtyard cer architectur countrysid centuri linen edgi flicker lair mod spotless gather cushion chatter townhous gray paint wool cellar disco festiv artifact vase\n",
      "---------------End of Topics------------------\n",
      "##################################################\n",
      "##################################################\n",
      "Epoch 135, loss=1275.0525107421875, accuracy_train=0.872549356223176, accuracy_test=0.8853877046648131\n",
      "precision_train0 = 0.955805499 recall_train0 = 0.810266782 f1_score_train0 = 0.877039354\n",
      "precision_te0 = 0.972616633 recall_te0 = 0.823883162 f1_score_te0 = 0.892093023\n",
      "precision_train1 = 0.820980844 recall_train1 = 0.893570571 f1_score_train1 = 0.855739076\n",
      "precision_te1 = 0.846438483 recall_te1 = 0.902366864 f1_score_te1 = 0.873508353\n",
      "precision_train2 = 0.851429675 recall_train2 = 0.919945726 f1_score_train2 = 0.884362615\n",
      "precision_te2 = 0.847863248 recall_te2 = 0.936732767 f1_score_te2 = 0.890085240\n",
      "---------------Printing the Topics------------------\n",
      "mozzarella mango starter calamari chorizo pepper curri crab steam creami banana snapper pad wrap fieri milk butternut dumpl aromat seafood pineappl urchin tempura plum goat boil flaki sizzl cream vinegar garlicki bass gra highlight mushroom avacado pistachio tartar rosemari carpaccio chunk sesam oliv ham perfectli delic spaghetti gratin scrambl sticki\n",
      "adult frustrat friendlier disinterest flag apologet credit question bill storm repli patient clearer blame children appolog charg meanwhil ful automat lousi hospit smirk multipl unapologet comp ct unattent within rectifi custom consult didnt substitu inqu card awar insult fume mention waitor unforget displeasur glitch spill handl misogyni rush taff exceedingli\n",
      "glow brightli nobl column lit antiqu softli hip wall booth dark furnitur sofa calm fixtur lobbi ceil rockwel darker arti cosi attract rail vibe hop condit cer copper architectur countrysid courtyard cushion lair flicker centuri edgi linen chatter mod townhous disco gray gather spotless cellar festiv wool folk artifact vase\n",
      "---------------End of Topics------------------\n",
      "##################################################\n",
      "##################################################\n",
      "Epoch 140, loss=1275.0386611328124, accuracy_train=0.8732703862660944, accuracy_test=0.8869323447636701\n",
      "precision_train0 = 0.956610632 recall_train0 = 0.811133584 f1_score_train0 = 0.877886069\n",
      "precision_te0 = 0.972644377 recall_te0 = 0.824742268 f1_score_te0 = 0.892608089\n",
      "precision_train1 = 0.820946284 recall_train1 = 0.895862897 f1_score_train1 = 0.856770018\n",
      "precision_te1 = 0.848148148 recall_te1 = 0.903353057 f1_score_te1 = 0.874880611\n",
      "precision_train2 = 0.852867106 recall_train2 = 0.919006367 f1_score_train2 = 0.884702336\n",
      "precision_te2 = 0.850427350 recall_te2 = 0.939565628 f1_score_te2 = 0.892777030\n",
      "---------------Printing the Topics------------------\n",
      "mozzarella mango starter calamari pepper chorizo snapper steam creami curri banana pad crab fieri butternut wrap milk aromat dumpl seafood urchin pineappl plum boil flaki sizzl goat garlicki tempura vinegar gra pistachio avacado cream bass highlight mushroom tartar rosemari sesam oliv carpaccio ham chunk spaghetti delic gratin perfectli scrambl sticki\n",
      "adult frustrat friendlier disinterest credit flag apologet storm clearer question bill patient repli blame appolog children charg automat meanwhil unapologet smirk ful lousi unattent comp fume rectifi inqu didnt ct custom multipl hospit insult waitor consult glitch within spill mention displeasur substitu handl card unforget cash obnoxi clearli awar misogyni\n",
      "glow brightli column nobl lit softli antiqu hip wall booth furnitur dark sofa calm fixtur ceil rockwel lobbi arti darker cosi rail condit architectur vibe linen hop cer copper courtyard attract centuri townhous flicker edgi lair countrysid spotless chatter mod cushion wool majest vase disco gray vault subdu cellar artifact\n",
      "---------------End of Topics------------------\n",
      "##################################################\n",
      "##################################################\n",
      "Epoch 145, loss=1275.053640625, accuracy_train=0.872068669527897, accuracy_test=0.8816805684275564\n",
      "precision_train0 = 0.957881520 recall_train0 = 0.808244245 f1_score_train0 = 0.876723778\n",
      "precision_te0 = 0.972392638 recall_te0 = 0.817010309 f1_score_te0 = 0.887955182\n",
      "precision_train1 = 0.820343063 recall_train1 = 0.892697304 f1_score_train1 = 0.854992159\n",
      "precision_te1 = 0.844506518 recall_te1 = 0.894477318 f1_score_te1 = 0.868773946\n",
      "precision_train2 = 0.849350649 recall_train2 = 0.921511324 f1_score_train2 = 0.883960753\n",
      "precision_te2 = 0.840506329 recall_te2 = 0.940509915 f1_score_te2 = 0.887700535\n",
      "---------------Printing the Topics------------------\n",
      "mozzarella mango starter calamari pepper chorizo steam snapper creami curri pad fieri butternut crab banana aromat milk wrap dumpl seafood urchin boil flaki pineappl plum sizzl garlicki tempura cream gra vinegar pistachio goat avacado highlight bass rosemari carpaccio tartar mushroom ham chunk oliv sesam spaghetti gratin delic scrambl lighter gazpacho\n",
      "adult frustrat friendlier disinterest credit flag apologet storm clearer bill patient question blame repli appolog meanwhil children automat smirk unapologet charg hospit comp rectifi unattent lousi inqu ful ct custom multipl didnt consult insult displeasur waitor substitu fume unforget handl within spill awar glitch misogyni card obnoxi cash clearli mention\n",
      "glow brightli column nobl lit softli antiqu hip wall furnitur dark sofa booth fixtur ceil rockwel calm darker arti lobbi cosi rail condit linen courtyard cer architectur townhous hop centuri mod copper countrysid spotless vibe lair flicker cushion edgi attract chatter cellar vase gray disco vault majest subdu zinc knickknack\n",
      "---------------End of Topics------------------\n",
      "##################################################\n"
     ]
    },
    {
     "name": "stdout",
     "output_type": "stream",
     "text": [
      "##################################################\n",
      "Epoch 150, loss=1274.9696484375, accuracy_train=0.8697682403433477, accuracy_test=0.8792091442693852\n",
      "precision_train0 = 0.958764071 recall_train0 = 0.803910238 f1_score_train0 = 0.874535073\n",
      "precision_te0 = 0.973251029 recall_te0 = 0.812714777 f1_score_te0 = 0.885767790\n",
      "precision_train1 = 0.816334661 recall_train1 = 0.894662155 f1_score_train1 = 0.853705536\n",
      "precision_te1 = 0.839037928 recall_te1 = 0.894477318 f1_score_te1 = 0.865871122\n",
      "precision_train2 = 0.846806051 recall_train2 = 0.917336395 f1_score_train2 = 0.880661323\n",
      "precision_te2 = 0.838682432 recall_te2 = 0.937677054 f1_score_te2 = 0.885421311\n",
      "---------------Printing the Topics------------------\n",
      "mozzarella mango starter chorizo calamari pepper snapper steam curri fieri creami butternut pad crab milk aromat banana dumpl wrap urchin pineappl boil flaki plum sizzl seafood garlicki cream pistachio vinegar gra tempura bass avacado rosemari goat carpaccio ham mushroom highlight chunk oliv tartar sesam spaghetti gratin scrambl delic gazpacho lighter\n",
      "adult frustrat disinterest friendlier credit flag apologet storm clearer bill patient question repli blame appolog children smirk automat meanwhil unapologet hospit unattent ct charg rectifi comp inqu displeasur insult waitor ful multipl consult fume custom unforget card didnt glanc awar substitu lousi obnoxi cash misogyni taff rudest handl spill fuller\n",
      "glow brightli column nobl lit softli antiqu hip wall furnitur fixtur dark sofa booth ceil rockwel lobbi calm arti cosi darker rail linen courtyard cer condit flicker architectur centuri townhous spotless countrysid mod copper lair cushion attract hop edgi majest vault vase chatter epoqu vibe subdu knickknack disco cellar zinc\n",
      "---------------End of Topics------------------\n",
      "##################################################\n",
      "##################################################\n",
      "Epoch 155, loss=1274.9890986328126, accuracy_train=0.8701115879828326, accuracy_test=0.8807537843682423\n",
      "precision_train0 = 0.956999085 recall_train0 = 0.805932775 f1_score_train0 = 0.874993465\n",
      "precision_te0 = 0.973305955 recall_te0 = 0.814432990 f1_score_te0 = 0.886810103\n",
      "precision_train1 = 0.816434263 recall_train1 = 0.894771313 f1_score_train1 = 0.853809697\n",
      "precision_te1 = 0.841519926 recall_te1 = 0.895463511 f1_score_te1 = 0.867654085\n",
      "precision_train2 = 0.848757374 recall_train2 = 0.916083916 f1_score_train2 = 0.881136432\n",
      "precision_te2 = 0.840371622 recall_te2 = 0.939565628 f1_score_te2 = 0.887204637\n",
      "---------------Printing the Topics------------------\n",
      "mozzarella mango starter chorizo calamari snapper curri fieri pepper steam butternut creami pad aromat crab milk banana dumpl wrap urchin boil flaki plum pineappl sizzl garlicki pistachio seafood gra cream avacado vinegar bass rosemari carpaccio goat tempura ham chunk highlight oliv gratin spaghetti mushroom gazpacho scrambl tartar delic sesam gai\n",
      "adult frustrat disinterest friendlier credit storm flag apologet clearer bill blame appolog repli question unapologet smirk patient automat children unattent rectifi charg meanwhil comp displeasur ct consult multipl ful unforget waitor inqu fume insult hospit glanc custom taff misogyni substitu cash awar card spill lousi obnoxi didnt glitch rudest fuller\n",
      "glow brightli column nobl lit softli antiqu hip wall furnitur fixtur sofa dark lobbi ceil booth arti rockwel cosi darker rail calm courtyard cer linen condit flicker spotless countrysid centuri townhous architectur mod copper lair vault cushion vase hop edgi cellar majest knickknack attract epoqu vibe artifact gather subdu chatter\n",
      "---------------End of Topics------------------\n",
      "##################################################\n",
      "##################################################\n",
      "Epoch 160, loss=1274.9525478515625, accuracy_train=0.8702145922746781, accuracy_test=0.8822984244670992\n",
      "precision_train0 = 0.956273547 recall_train0 = 0.806703265 f1_score_train0 = 0.875143663\n",
      "precision_te0 = 0.971428571 recall_te0 = 0.817869416 f1_score_te0 = 0.888059701\n",
      "precision_train1 = 0.820621043 recall_train1 = 0.891387403 f1_score_train1 = 0.854541649\n",
      "precision_te1 = 0.848598131 recall_te1 = 0.895463511 f1_score_te1 = 0.871401152\n",
      "precision_train2 = 0.845223236 recall_train2 = 0.918797620 f1_score_train2 = 0.880476095\n",
      "precision_te2 = 0.839090143 recall_te2 = 0.940509915 f1_score_te2 = 0.886910062\n",
      "---------------Printing the Topics------------------\n",
      "mozzarella mango starter chorizo fieri calamari snapper curri butternut steam pepper aromat pad creami crab banana milk wrap dumpl urchin plum flaki boil sizzl garlicki pineappl pistachio gra avacado seafood cream rosemari vinegar bass carpaccio goat tempura ham highlight mushroom chunk gratin spaghetti gazpacho oliv scrambl delic gai monkfish tartar\n",
      "adult frustrat friendlier disinterest credit storm flag apologet clearer appolog bill blame unapologet repli patient automat question unattent smirk charg rectifi children meanwhil comp consult unforget ct displeasur inqu multipl ful insult waitor custom cash taff awar didnt card misogyni glanc substitu glitch hospit fume shoddi spill respond obnoxi preoccupi\n",
      "glow brightli column nobl softli antiqu lit hip wall furnitur fixtur sofa rockwel lobbi dark booth ceil rail cosi darker calm arti courtyard cer mod centuri linen spotless flicker architectur lair townhous countrysid condit cushion vault hop knickknack artifact copper majest vase epoqu attract subdu edgi franchis zinc bead puls\n",
      "---------------End of Topics------------------\n",
      "##################################################\n",
      "##################################################\n",
      "Epoch 165, loss=1274.9995380859375, accuracy_train=0.8693905579399142, accuracy_test=0.8807537843682423\n",
      "precision_train0 = 0.955715757 recall_train0 = 0.804391794 f1_score_train0 = 0.873548792\n",
      "precision_te0 = 0.973251029 recall_te0 = 0.812714777 f1_score_te0 = 0.885767790\n",
      "precision_train1 = 0.820108477 recall_train1 = 0.891278245 f1_score_train1 = 0.854213527\n",
      "precision_te1 = 0.847014925 recall_te1 = 0.895463511 f1_score_te1 = 0.870565676\n",
      "precision_train2 = 0.844103547 recall_train2 = 0.918901994 f1_score_train2 = 0.879916046\n",
      "precision_te2 = 0.835708298 recall_te2 = 0.941454202 f1_score_te2 = 0.885435169\n",
      "---------------Printing the Topics------------------\n",
      "mozzarella mango starter chorizo curri fieri butternut snapper calamari pepper aromat steam crab milk pad banana wrap creami urchin flaki plum dumpl boil pineappl sizzl garlicki gra avacado pistachio seafood goat cream vinegar rosemari carpaccio bass tempura highlight ham chunk mushroom gazpacho spaghetti gratin delic monkfish oliv scrambl gai massaman\n",
      "adult frustrat disinterest friendlier credit storm apologet flag clearer appolog blame bill unapologet repli question smirk patient charg rectifi children unattent automat meanwhil consult comp unforget inqu displeasur ct fume ful insult misogyni custom multipl glitch substitu cash waitor shoddi obnoxi respond awar spill fuller didnt taff glanc preoccupi lousi\n",
      "glow brightli column antiqu softli nobl lit hip wall furnitur fixtur sofa rockwel ceil rail booth lobbi calm dark darker courtyard cosi arti cer centuri flicker spotless countrysid architectur condit mod lair townhous linen cushion vault knickknack hop copper majest artifact attract franchis epoqu subdu puls zinc vibe wrought howard\n",
      "---------------End of Topics------------------\n",
      "##################################################\n",
      "##################################################\n",
      "Epoch 170, loss=1274.9850322265625, accuracy_train=0.8688755364806867, accuracy_test=0.879827000308928\n",
      "precision_train0 = 0.955652075 recall_train0 = 0.805258596 f1_score_train0 = 0.874033034\n",
      "precision_te0 = 0.973223481 recall_te0 = 0.811855670 f1_score_te0 = 0.885245902\n",
      "precision_train1 = 0.819396985 recall_train1 = 0.889968344 f1_score_train1 = 0.853225891\n",
      "precision_te1 = 0.845938375 recall_te1 = 0.893491124 f1_score_te1 = 0.869064748\n",
      "precision_train2 = 0.843276424 recall_train2 = 0.917649515 f1_score_train2 = 0.878892388\n",
      "precision_te2 = 0.834309623 recall_te2 = 0.941454202 f1_score_te2 = 0.884649512\n",
      "---------------Printing the Topics------------------\n",
      "mozzarella mango starter chorizo fieri curri butternut snapper calamari aromat pepper steam crab milk banana pad wrap creami flaki urchin plum pineappl sizzl boil dumpl garlicki gra avacado goat pistachio vinegar seafood cream rosemari carpaccio bass chunk tempura gazpacho highlight mushroom spaghetti gratin ham delic monkfish gai massaman flav scrambl\n",
      "adult frustrat friendlier disinterest credit storm flag apologet clearer appolog blame bill unapologet repli smirk patient question charg rectifi meanwhil children unforget automat inqu unattent comp displeasur consult ful ct fume awar misogyni substitu respond custom taff insult multipl glitch obnoxi cash preoccupi shoddi waitor rush glanc fuller spill unprofession\n",
      "glow column brightli softli antiqu lit nobl wall hip furnitur fixtur rockwel sofa ceil lobbi rail calm courtyard darker booth cer cosi arti dark flicker condit architectur lair centuri countrysid spotless cushion townhous mod linen majest epoqu knickknack vault hop zinc attract artifact vibe franchis chatter howard copper stuyves formica\n",
      "---------------End of Topics------------------\n",
      "##################################################\n"
     ]
    },
    {
     "name": "stdout",
     "output_type": "stream",
     "text": [
      "##################################################\n",
      "Epoch 175, loss=1274.97136328125, accuracy_train=0.8679828326180258, accuracy_test=0.8804448563484708\n",
      "precision_train0 = 0.956591640 recall_train0 = 0.802272946 f1_score_train0 = 0.872662511\n",
      "precision_te0 = 0.974226804 recall_te0 = 0.811855670 f1_score_te0 = 0.885660731\n",
      "precision_train1 = 0.816493610 recall_train1 = 0.892697304 f1_score_train1 = 0.852896699\n",
      "precision_te1 = 0.842592593 recall_te1 = 0.897435897 f1_score_te1 = 0.869149952\n",
      "precision_train2 = 0.843380444 recall_train2 = 0.915562050 f1_score_train2 = 0.877990191\n",
      "precision_te2 = 0.838247683 recall_te2 = 0.939565628 f1_score_te2 = 0.886019590\n",
      "---------------Printing the Topics------------------\n",
      "mozzarella mango starter fieri chorizo curri butternut snapper calamari pepper aromat steam milk crab banana urchin flaki wrap creami pad plum sizzl pineappl dumpl garlicki gra pistachio avacado vinegar boil goat seafood rosemari bass carpaccio cream mushroom gratin ham tempura gazpacho chunk highlight spaghetti gai delic monkfish flav massaman mahi\n",
      "adult frustrat friendlier disinterest storm credit flag apologet appolog clearer blame bill smirk unapologet repli patient question meanwhil charg rectifi unforget inqu children comp ct misogyni unattent consult displeasur fume ful automat substitu taff respond preoccupi multipl shoddi glitch custom obnoxi lousi cash waitor didnt rush unheard hospit awar unprofession\n",
      "glow column brightli softli antiqu lit nobl furnitur wall hip rockwel fixtur sofa ceil rail cer lobbi calm booth courtyard darker arti cosi dark lair flicker condit centuri mod architectur countrysid spotless townhous linen cushion majest zinc knickknack vault epoqu hop chatter artifact formica wrought attract copper stuyves franchis vibe\n",
      "---------------End of Topics------------------\n",
      "##################################################\n",
      "##################################################\n",
      "Epoch 180, loss=1274.92580078125, accuracy_train=0.8670557939914163, accuracy_test=0.8785912882298424\n",
      "precision_train0 = 0.957510680 recall_train0 = 0.798709429 f1_score_train0 = 0.870930477\n",
      "precision_te0 = 0.975026015 recall_te0 = 0.804982818 f1_score_te0 = 0.881882353\n",
      "precision_train1 = 0.813946558 recall_train1 = 0.894443838 f1_score_train1 = 0.852298731\n",
      "precision_te1 = 0.841474654 recall_te1 = 0.900394477 f1_score_te1 = 0.869938066\n",
      "precision_train2 = 0.843127825 recall_train2 = 0.914935810 f1_score_train2 = 0.877565322\n",
      "precision_te2 = 0.834592779 recall_te2 = 0.938621341 f1_score_te2 = 0.883555556\n",
      "---------------Printing the Topics------------------\n",
      "mozzarella mango chorizo starter fieri butternut curri aromat pepper snapper calamari steam milk crab urchin flaki banana wrap pad creami plum pineappl avacado pistachio sizzl gra dumpl boil vinegar goat garlicki seafood carpaccio rosemari tempura bass gratin gazpacho cream chunk spaghetti mushroom ham gai highlight massaman monkfish flav mahi scrambl\n",
      "adult frustrat disinterest friendlier apologet storm credit flag clearer appolog blame unapologet smirk bill repli meanwhil question patient comp rectifi charg inqu unforget ct children automat fume consult unattent respond displeasur substitu taff misogyni ful shoddi unheard preoccupi custom lousi waitor hospit glitch didnt obnoxi awar rudest steward multipl goodby\n",
      "glow column brightli softli antiqu nobl lit furnitur wall fixtur rockwel hip ceil sofa rail cer courtyard darker booth lobbi arti calm dark cosi lair flicker condit centuri countrysid spotless linen townhous architectur mod chatter majest vault knickknack cushion epoqu zinc hop formica wrought artifact stuyves sider howard attract franchis\n",
      "---------------End of Topics------------------\n",
      "##################################################\n",
      "##################################################\n",
      "Epoch 185, loss=1274.9532255859374, accuracy_train=0.8671587982832618, accuracy_test=0.8792091442693852\n",
      "precision_train0 = 0.956326859 recall_train0 = 0.801406145 f1_score_train0 = 0.872039405\n",
      "precision_te0 = 0.973168215 recall_te0 = 0.810137457 f1_score_te0 = 0.884200656\n",
      "precision_train1 = 0.813990461 recall_train1 = 0.894225521 f1_score_train1 = 0.852223667\n",
      "precision_te1 = 0.841328413 recall_te1 = 0.899408284 f1_score_te1 = 0.869399428\n",
      "precision_train2 = 0.843918919 recall_train2 = 0.912535226 f1_score_train2 = 0.876886816\n",
      "precision_te2 = 0.836993243 recall_te2 = 0.935788480 f1_score_te2 = 0.883637985\n",
      "---------------Printing the Topics------------------\n",
      "mozzarella mango chorizo fieri butternut starter aromat curri calamari snapper pepper milk steam crab flaki urchin banana wrap plum pad creami pineappl avacado pistachio sizzl gra vinegar dumpl boil goat carpaccio seafood garlicki gratin gazpacho chunk cream bass tempura rosemari gai spaghetti mushroom massaman mahi highlight flav scrambl monkfish ponzu\n",
      "adult frustrat disinterest friendlier apologet storm credit flag appolog clearer blame smirk repli bill unapologet meanwhil patient question inqu ct unforget rectifi charg comp fume automat consult children unattent respond taff unheard displeasur substitu misogyni shoddi ful waitor lousi steward preoccupi custom obnoxi palaetswer hospit goodby umpteen didnt rudest cash\n",
      "glow column brightli softli antiqu nobl lit furnitur rockwel wall fixtur hip sofa rail ceil cer courtyard lobbi darker booth arti lair centuri dark flicker cosi linen spotless condit countrysid calm townhous architectur mod chatter zinc vault epoqu majest formica knickknack cushion stuyves hop howard artifact wrought franchis wraparound sider\n",
      "---------------End of Topics------------------\n",
      "##################################################\n",
      "##################################################\n",
      "Epoch 190, loss=1274.9952578125, accuracy_train=0.8674678111587982, accuracy_test=0.8792091442693852\n",
      "precision_train0 = 0.954976574 recall_train0 = 0.804873351 f1_score_train0 = 0.873523571\n",
      "precision_te0 = 0.973278520 recall_te0 = 0.813573883 f1_score_te0 = 0.886289190\n",
      "precision_train1 = 0.817333735 recall_train1 = 0.889422552 f1_score_train1 = 0.851855724\n",
      "precision_te1 = 0.842790698 recall_te1 = 0.893491124 f1_score_te1 = 0.867400670\n",
      "precision_train2 = 0.841902931 recall_train2 = 0.914309571 f1_score_train2 = 0.876613630\n",
      "precision_te2 = 0.835155593 recall_te2 = 0.937677054 f1_score_te2 = 0.883451957\n",
      "---------------Printing the Topics------------------\n",
      "mozzarella mango fieri chorizo aromat butternut curri starter calamari snapper milk steam pepper flaki crab banana urchin wrap plum pad creami pineappl avacado pistachio gra sizzl boil vinegar dumpl carpaccio goat gazpacho seafood chunk gratin spaghetti gai garlicki tempura rosemari massaman bass mushroom cream monkfish mahi scrambl flav ponzu peppercorn\n",
      "adult frustrat disinterest friendlier apologet credit storm flag clearer appolog blame smirk unapologet bill repli meanwhil ct rectifi unforget inqu patient question automat comp unattent charg fume children consult unheard displeasur misogyni waitor substitu taff lousi preoccupi respond shoddi palaetswer hospit rudest goodby custom steward umpteen obnoxi scattershot bordeaux didnt\n",
      "glow column brightli softli antiqu nobl lit furnitur fixtur rockwel wall ceil sofa hip rail courtyard lair darker cer lobbi arti booth cosi dark flicker countrysid condit epoqu spotless centuri linen vault majest mod architectur townhous calm zinc knickknack chatter stuyves artifact formica cushion sider howard wraparound franchis subdu wrought\n",
      "---------------End of Topics------------------\n",
      "##################################################\n",
      "##################################################\n",
      "Epoch 195, loss=1274.9332900390625, accuracy_train=0.8670901287553648, accuracy_test=0.8764287920914426\n",
      "precision_train0 = 0.957211870 recall_train0 = 0.801502456 f1_score_train0 = 0.872464224\n",
      "precision_te0 = 0.974093264 recall_te0 = 0.807560137 f1_score_te0 = 0.883043682\n",
      "precision_train1 = 0.816120655 recall_train1 = 0.891933195 f1_score_train1 = 0.852344443\n",
      "precision_te1 = 0.839814815 recall_te1 = 0.894477318 f1_score_te1 = 0.866284623\n",
      "precision_train2 = 0.840867646 recall_train2 = 0.914413944 f1_score_train2 = 0.876100000\n",
      "precision_te2 = 0.830536913 recall_te2 = 0.934844193 f1_score_te2 = 0.879609063\n",
      "---------------Printing the Topics------------------\n",
      "mozzarella mango chorizo fieri aromat butternut curri starter calamari snapper flaki milk steam pepper urchin wrap crab plum banana avacado pad pistachio gra pineappl creami sizzl goat vinegar boil gazpacho dumpl gratin carpaccio gai spaghetti seafood chunk massaman garlicki cream mushroom tempura mahi flav monkfish scrambl rosemari gorgonzola bass peppercorn\n",
      "adult frustrat disinterest friendlier apologet credit storm appolog clearer flag blame smirk unapologet bill repli meanwhil ct rectifi unforget patient automat consult comp inqu unattent children question displeasur charg fume unheard respond preoccupi palaetswer waitor misogyni lousi taff bordeaux umpteen shoddi didnt goodby obnoxi substitu rudest hospit cash scattershot steward\n",
      "glow column brightli softli antiqu nobl lit furnitur fixtur rockwel ceil wall rail hip sofa courtyard lair darker arti lobbi cer cosi dark flicker booth centuri vault condit spotless epoqu linen mod artifact countrysid townhous majest sider knickknack stuyves architectur chatter howard formica zinc wrought franchis edgi calm subdu wraparound\n",
      "---------------End of Topics------------------\n",
      "##################################################\n"
     ]
    }
   ],
   "source": [
    "for epoch in range(num_epoch):\n",
    "    loss_epoch = 0.0\n",
    "    model.train()                    # switch to training mode\n",
    "    for input_, label_ in train_dl:\n",
    "        recon, loss = model(input_, compute_loss=True)\n",
    "        # optimize\n",
    "        optimizer.zero_grad()        # clear previous gradients\n",
    "        loss.backward()              # backprop\n",
    "        optimizer.step()             # update parameters\n",
    "        # report\n",
    "        loss_epoch += loss.item()    # add loss to loss_epoch\n",
    "    if epoch % 5 == 0:\n",
    "        model.eval()\n",
    "        # Test Model\n",
    "        pred_train = []\n",
    "        label_train = []\n",
    "        pred_test = []\n",
    "        label_test = []\n",
    "        \n",
    "        for x_train, y_train in train_dl:\n",
    "            encoded, theta_mean, theta_logvar = model.encode(x_train)\n",
    "            temp_theta_mean = theta_mean.argmax(-1).int().data.cpu().tolist()\n",
    "            temp_y_train = y_train.argmax(-1).flatten().data.cpu().tolist()\n",
    "            \n",
    "            pred_train.extend(temp_theta_mean)\n",
    "            label_train.extend(temp_y_train)\n",
    "        \n",
    "        accuracy_train, precision_train, recall_train, f1_score_train = compute_accuracy(pred_train, label_train)\n",
    "        \n",
    "        for x_test, y_test in test_dl:\n",
    "            encoded, theta_mean, theta_logvar = model.encode(x_test)\n",
    "            temp_theta_mean = theta_mean.argmax(-1).int().data.cpu().tolist()\n",
    "            temp_y_test = y_test.argmax(-1).flatten().data.cpu().tolist()\n",
    "            \n",
    "            pred_test.extend(temp_theta_mean)\n",
    "            label_test.extend(temp_y_test)\n",
    "        \n",
    "        accuracy_test, precision_test, recall_test, f1_score_test = compute_accuracy(pred_test, label_test)\n",
    "        print (\"##################################################\")\n",
    "        print('Epoch {}, loss={}, accuracy_train={}, accuracy_test={}'.format(epoch, loss_epoch / len(input_), accuracy_train, accuracy_test))\n",
    "        for k in range(num_topic):\n",
    "            print (\"precision_train{}\".format(k), \"=\" , \"{:.9f}\".format(precision_train[k]), \\\n",
    "                 \"recall_train{}\".format(k), \"=\" , \"{:.9f}\".format(recall_train[k]), \\\n",
    "                 \"f1_score_train{}\".format(k), \"=\" , \"{:.9f}\".format(f1_score_train[k]))\n",
    "            print (\"precision_te{}\".format(k), \"=\" , \"{:.9f}\".format(precision_test[k]), \\\n",
    "                 \"recall_te{}\".format(k), \"=\" , \"{:.9f}\".format(recall_test[k]), \\\n",
    "                 \"f1_score_te{}\".format(k), \"=\" , \"{:.9f}\".format(f1_score_test[k]))\n",
    "        emb = model.de_fc.weight.data.detach().cpu().numpy().T\n",
    "        print_top_words(emb, vocab, 50)\n",
    "#         print_perp(model)\n",
    "        print (\"##################################################\")        "
   ]
  },
  {
   "cell_type": "markdown",
   "metadata": {},
   "source": [
    "## Test"
   ]
  },
  {
   "cell_type": "code",
   "execution_count": 55,
   "metadata": {
    "scrolled": true
   },
   "outputs": [
    {
     "name": "stdout",
     "output_type": "stream",
     "text": [
      "5998 food 0 0 [9.9996567e-01 3.3058648e-05 1.2778987e-06]\n",
      "13729 sauc 0 0 [1.0000000e+00 1.4041303e-08 6.2098975e-09]\n",
      "2883 chicken 0 0 [1.0000000e+00 7.3674580e-14 4.3292796e-14]\n",
      "14277 shrimp 0 0 [1.0000000e+00 1.1627485e-09 9.4916874e-10]\n",
      "2826 chees 0 0 [1.0000000e+00 7.8425894e-10 4.3580079e-12]\n",
      "12158 potato 0 0 [1.0000000e+00 6.3853653e-13 1.0989002e-13]\n",
      "6169 fri 0 0 [9.9999905e-01 2.7589283e-07 6.9605949e-07]\n",
      "16268 tomato 0 0 [1.000000e+00 9.556484e-10 2.038501e-09]\n",
      "13325 roast 0 0 [1.0000000e+00 1.2562194e-09 3.1371628e-10]\n",
      "10925 onion 0 0 [1.0000000e+00 3.1480988e-12 2.1347347e-12]\n",
      "12107 pork 0 0 [9.9999440e-01 5.0415756e-06 6.0911532e-07]\n",
      "6656 goat 0 0 [1.0000000e+00 5.3420615e-11 2.0737238e-10]\n",
      "6882 grill 0 0 [1.0000000e+00 1.8845795e-12 3.9701306e-12]\n",
      "16543 tuna 0 0 [1.0000000e+00 2.0551364e-12 7.7016041e-13]\n",
      "13592 salad 0 0 [1.000000e+00 4.192013e-09 8.473717e-10]\n",
      "1411 beef 0 0 [1.000000e+00 6.034032e-10 1.889462e-10]\n",
      "15764 tapa 0 0 [9.9999976e-01 1.0917542e-07 1.3662320e-07]\n",
      "15022 staff 1 1 [7.371149e-07 9.999975e-01 1.736990e-06]\n",
      "14062 servic 1 1 [6.710278e-08 9.999999e-01 6.659350e-09]\n",
      "6185 friendli 1 1 [8.471471e-10 1.000000e+00 2.344144e-09]\n",
      "13486 rude 1 1 [2.517337e-13 1.000000e+00 6.608541e-15]\n",
      "7491 hostess 1 1 [6.503855e-14 1.000000e+00 7.396424e-13]\n",
      "17383 waiter 1 1 [1.8885551e-09 1.0000000e+00 3.0552982e-10]\n",
      "1291 bartend 1 1 [1.7003757e-08 1.0000000e+00 3.2205327e-10]\n",
      "17389 waitress 1 1 [1.8455775e-09 1.0000000e+00 8.4312406e-09]\n",
      "7259 help 1 1 [2.8523266e-09 1.0000000e+00 4.2962000e-08]\n",
      "12036 polit 1 1 [5.5650798e-08 9.9999702e-01 3.0201841e-06]\n",
      "1233 bar 1 1 [1.5432241e-06 9.9998748e-01 1.1024693e-05]\n",
      "3678 courteou 1 1 [7.5974990e-06 9.9998915e-01 3.2744565e-06]\n",
      "9680 member 1 1 [1.0671186e-08 9.9999988e-01 6.3851616e-08]\n",
      "17393 waitstaff 1 1 [3.30230904e-07 9.99999642e-01 1.42135885e-08]\n",
      "980 attitud 1 1 [4.7845443e-09 1.0000000e+00 3.4334843e-08]\n",
      "13082 reserv 1 1 [4.062916e-12 1.000000e+00 2.127115e-11]\n",
      "16203 tip 1 1 [3.7878056e-08 1.0000000e+00 7.3885431e-09]\n",
      "948 atmospher 2 2 [2.8656933e-08 3.4949650e-08 9.9999988e-01]\n",
      "13806 scene 2 2 [1.1069263e-08 3.4515672e-08 1.0000000e+00]\n",
      "11906 place 2 2 [5.3707936e-07 9.0847840e-07 9.9999857e-01]\n",
      "15640 tabl 2 2 [9.253958e-06 3.303856e-05 9.999577e-01]\n",
      "11118 outsid 2 2 [2.7712938e-06 3.2285861e-06 9.9999404e-01]\n",
      "784 area 2 2 [5.1873889e-07 2.1181453e-08 9.9999940e-01]\n",
      "478 ambianc 2 2 [2.5457151e-08 9.6876207e-08 9.9999988e-01]\n",
      "11096 outdoor 2 2 [1.6551269e-07 9.0188387e-08 9.9999976e-01]\n",
      "13386 romant 2 2 [2.7917184e-05 8.5645770e-05 9.9988639e-01]\n",
      "3699 cozi 2 2 [4.2478953e-07 6.8463504e-07 9.9999893e-01]\n",
      "4112 decor 2 2 [3.5891834e-09 4.1536108e-09 1.0000000e+00]\n",
      "14413 sit 2 2 [5.7288526e-06 6.0482176e-05 9.9993384e-01]\n",
      "17404 wall 2 2 [8.5703195e-13 1.2962163e-14 1.0000000e+00]\n",
      "8939 light 2 2 [6.1153946e-07 2.3945067e-06 9.9999702e-01]\n",
      "17690 window 2 2 [2.540994e-09 5.016070e-10 1.000000e+00]\n",
      "784 area 2 2 [5.1873889e-07 2.1181453e-08 9.9999940e-01]\n",
      "2646 ceil 2 2 [2.2637818e-09 8.0043511e-10 1.0000000e+00]\n",
      "5910 floor 2 2 [2.4219722e-05 3.0796637e-05 9.9994493e-01]\n"
     ]
    }
   ],
   "source": [
    "model.eval()\n",
    "gamma_mean, gamma_logvar = model.gamma()\n",
    "gm, gl = gamma_mean.data.cpu().numpy(), gamma_logvar.data.cpu().numpy()\n",
    "print_gamma(gm, seed_words, vocab, vocab2id)"
   ]
  },
  {
   "cell_type": "code",
   "execution_count": 56,
   "metadata": {},
   "outputs": [
    {
     "name": "stdout",
     "output_type": "stream",
     "text": [
      "---------------Printing the Topics------------------\n",
      "mozzarella mango chorizo fieri aromat calamari butternut curri starter snapper flaki steam milk pepper urchin banana wrap avacado plum crab pad pistachio creami pineappl gra sizzl vinegar gratin dumpl goat gazpacho carpaccio spaghetti gai massaman boil cream seafood chunk mushroom mahi garlicki flav monkfish peppercorn rosemari gorgonzola scrambl highlight tempura\n",
      "adult frustrat apologet friendlier disinterest credit storm appolog clearer flag blame smirk unapologet bill repli ct meanwhil automat rectifi patient unforget inqu consult unattent children comp fume displeasur charg respond preoccupi question misogyni unheard waitor bordeaux shoddi umpteen steward palaetswer lousi goodby substitu rudest didnt taff unprofession deni cash obnoxi\n",
      "glow column brightli softli antiqu nobl furnitur lit rockwel ceil fixtur wall rail courtyard hip sofa lair arti darker lobbi centuri cosi cer dark linen flicker booth vault spotless artifact countrysid epoqu mod townhous condit architectur sider knickknack chatter majest stuyves zinc formica howard cushion subdu wrought calm wraparound edgi\n",
      "---------------End of Topics------------------\n",
      "The approximated perplexity is:  4.480214835160192e+42\n"
     ]
    }
   ],
   "source": [
    "emb = model.de_fc.weight.data.cpu().numpy().T\n",
    "print_top_words(emb, vocab, 50)\n",
    "print_perp(model)"
   ]
  },
  {
   "cell_type": "code",
   "execution_count": null,
   "metadata": {},
   "outputs": [],
   "source": []
  }
 ],
 "metadata": {
  "kernelspec": {
   "display_name": "avi",
   "language": "python",
   "name": "avi"
  },
  "language_info": {
   "codemirror_mode": {
    "name": "ipython",
    "version": 3
   },
   "file_extension": ".py",
   "mimetype": "text/x-python",
   "name": "python",
   "nbconvert_exporter": "python",
   "pygments_lexer": "ipython3",
   "version": "3.6.9"
  }
 },
 "nbformat": 4,
 "nbformat_minor": 2
}
